{
 "cells": [
  {
   "cell_type": "markdown",
   "metadata": {},
   "source": [
    "## Multi‑Class Sequential Sentence Classification on PudMed 200k RCT Dataset\n",
    "\n",
    "#### Problem\n",
    "The researchers in the medical/healthcare domain are in the need of more efficient tools/applications to skim through the abstracts of randomized controlled trials (RCTs) that are published highly unstructured manner.\n",
    "\n",
    "#### Goal\n",
    "The fundamental goal in this project is to classify the sequential sentences included in the abstracts of RCTs into background, objective, method, result, conclusion category.\n",
    "\n",
    "#### Dataset\n",
    "PubMed 200k RCT - dataset based on PubMed for sequential sentence classification. The dataset consists of approximately 200,000 abstracts of RTCs, totaling 2.3 million sentences.\n",
    "sentences.\n",
    "#### Labels and Performance Metric\n",
    "Groundtruth labels are divided into five category: background, objective, method, result, conclusion. Evaluation metric is identified as F1-score.\n",
    "\n",
    "#### Steps\n",
    "1. Conduct preprocessing: Lowercasing, stop-words removal, replacing the digits with special token and punctuation removal.\n",
    "2. Develop Baseline model: TF-IDF + Logistic Regression combination.\n",
    "3. Develop Word2Vec Model: Using gensim library.\n",
    "4. Developing LSTM/ GRU models for the text classification."
   ]
  },
  {
   "cell_type": "markdown",
   "metadata": {
    "id": "9C3nHnyrGl8m"
   },
   "source": [
    "### Task0: Importing Libraries and Defining Data Paths"
   ]
  },
  {
   "cell_type": "code",
   "execution_count": 1,
   "metadata": {
    "colab": {
     "base_uri": "https://localhost:8080/"
    },
    "id": "w3nUSB9252kQ",
    "outputId": "502241eb-4db5-46a6-ae4a-d468b2da7df7"
   },
   "outputs": [
    {
     "name": "stdout",
     "output_type": "stream",
     "text": [
      "Mounted at /content/drive\n"
     ]
    }
   ],
   "source": [
    "# from google.colab import drive\n",
    "# drive.mount('/content/drive')"
   ]
  },
  {
   "cell_type": "code",
   "execution_count": 2,
   "metadata": {
    "colab": {
     "base_uri": "https://localhost:8080/"
    },
    "id": "TjTq1qlu0Nhs",
    "outputId": "210b4621-293a-4566-e2b5-1bc59658a77f"
   },
   "outputs": [
    {
     "name": "stdout",
     "output_type": "stream",
     "text": [
      "Collecting tensorflow-addons\n",
      "\u001b[?25l  Downloading https://files.pythonhosted.org/packages/66/4b/e893d194e626c24b3df2253066aa418f46a432fdb68250cde14bf9bb0700/tensorflow_addons-0.13.0-cp37-cp37m-manylinux2010_x86_64.whl (679kB)\n",
      "\r",
      "\u001b[K     |▌                               | 10kB 20.5MB/s eta 0:00:01\r",
      "\u001b[K     |█                               | 20kB 15.9MB/s eta 0:00:01\r",
      "\u001b[K     |█▌                              | 30kB 13.2MB/s eta 0:00:01\r",
      "\u001b[K     |██                              | 40kB 12.3MB/s eta 0:00:01\r",
      "\u001b[K     |██▍                             | 51kB 7.8MB/s eta 0:00:01\r",
      "\u001b[K     |███                             | 61kB 9.0MB/s eta 0:00:01\r",
      "\u001b[K     |███▍                            | 71kB 8.4MB/s eta 0:00:01\r",
      "\u001b[K     |███▉                            | 81kB 9.2MB/s eta 0:00:01\r",
      "\u001b[K     |████▍                           | 92kB 8.4MB/s eta 0:00:01\r",
      "\u001b[K     |████▉                           | 102kB 7.5MB/s eta 0:00:01\r",
      "\u001b[K     |█████▎                          | 112kB 7.5MB/s eta 0:00:01\r",
      "\u001b[K     |█████▉                          | 122kB 7.5MB/s eta 0:00:01\r",
      "\u001b[K     |██████▎                         | 133kB 7.5MB/s eta 0:00:01\r",
      "\u001b[K     |██████▊                         | 143kB 7.5MB/s eta 0:00:01\r",
      "\u001b[K     |███████▎                        | 153kB 7.5MB/s eta 0:00:01\r",
      "\u001b[K     |███████▊                        | 163kB 7.5MB/s eta 0:00:01\r",
      "\u001b[K     |████████▏                       | 174kB 7.5MB/s eta 0:00:01\r",
      "\u001b[K     |████████▊                       | 184kB 7.5MB/s eta 0:00:01\r",
      "\u001b[K     |█████████▏                      | 194kB 7.5MB/s eta 0:00:01\r",
      "\u001b[K     |█████████▋                      | 204kB 7.5MB/s eta 0:00:01\r",
      "\u001b[K     |██████████▏                     | 215kB 7.5MB/s eta 0:00:01\r",
      "\u001b[K     |██████████▋                     | 225kB 7.5MB/s eta 0:00:01\r",
      "\u001b[K     |███████████                     | 235kB 7.5MB/s eta 0:00:01\r",
      "\u001b[K     |███████████▋                    | 245kB 7.5MB/s eta 0:00:01\r",
      "\u001b[K     |████████████                    | 256kB 7.5MB/s eta 0:00:01\r",
      "\u001b[K     |████████████▌                   | 266kB 7.5MB/s eta 0:00:01\r",
      "\u001b[K     |█████████████                   | 276kB 7.5MB/s eta 0:00:01\r",
      "\u001b[K     |█████████████▌                  | 286kB 7.5MB/s eta 0:00:01\r",
      "\u001b[K     |██████████████                  | 296kB 7.5MB/s eta 0:00:01\r",
      "\u001b[K     |██████████████▌                 | 307kB 7.5MB/s eta 0:00:01\r",
      "\u001b[K     |███████████████                 | 317kB 7.5MB/s eta 0:00:01\r",
      "\u001b[K     |███████████████▍                | 327kB 7.5MB/s eta 0:00:01\r",
      "\u001b[K     |████████████████                | 337kB 7.5MB/s eta 0:00:01\r",
      "\u001b[K     |████████████████▍               | 348kB 7.5MB/s eta 0:00:01\r",
      "\u001b[K     |████████████████▉               | 358kB 7.5MB/s eta 0:00:01\r",
      "\u001b[K     |█████████████████▍              | 368kB 7.5MB/s eta 0:00:01\r",
      "\u001b[K     |█████████████████▉              | 378kB 7.5MB/s eta 0:00:01\r",
      "\u001b[K     |██████████████████▎             | 389kB 7.5MB/s eta 0:00:01\r",
      "\u001b[K     |██████████████████▉             | 399kB 7.5MB/s eta 0:00:01\r",
      "\u001b[K     |███████████████████▎            | 409kB 7.5MB/s eta 0:00:01\r",
      "\u001b[K     |███████████████████▊            | 419kB 7.5MB/s eta 0:00:01\r",
      "\u001b[K     |████████████████████▎           | 430kB 7.5MB/s eta 0:00:01\r",
      "\u001b[K     |████████████████████▊           | 440kB 7.5MB/s eta 0:00:01\r",
      "\u001b[K     |█████████████████████▏          | 450kB 7.5MB/s eta 0:00:01\r",
      "\u001b[K     |█████████████████████▊          | 460kB 7.5MB/s eta 0:00:01\r",
      "\u001b[K     |██████████████████████▏         | 471kB 7.5MB/s eta 0:00:01\r",
      "\u001b[K     |██████████████████████▋         | 481kB 7.5MB/s eta 0:00:01\r",
      "\u001b[K     |███████████████████████▏        | 491kB 7.5MB/s eta 0:00:01\r",
      "\u001b[K     |███████████████████████▋        | 501kB 7.5MB/s eta 0:00:01\r",
      "\u001b[K     |████████████████████████        | 512kB 7.5MB/s eta 0:00:01\r",
      "\u001b[K     |████████████████████████▋       | 522kB 7.5MB/s eta 0:00:01\r",
      "\u001b[K     |█████████████████████████       | 532kB 7.5MB/s eta 0:00:01\r",
      "\u001b[K     |█████████████████████████▌      | 542kB 7.5MB/s eta 0:00:01\r",
      "\u001b[K     |██████████████████████████      | 552kB 7.5MB/s eta 0:00:01\r",
      "\u001b[K     |██████████████████████████▌     | 563kB 7.5MB/s eta 0:00:01\r",
      "\u001b[K     |███████████████████████████     | 573kB 7.5MB/s eta 0:00:01\r",
      "\u001b[K     |███████████████████████████▌    | 583kB 7.5MB/s eta 0:00:01\r",
      "\u001b[K     |████████████████████████████    | 593kB 7.5MB/s eta 0:00:01\r",
      "\u001b[K     |████████████████████████████▍   | 604kB 7.5MB/s eta 0:00:01\r",
      "\u001b[K     |█████████████████████████████   | 614kB 7.5MB/s eta 0:00:01\r",
      "\u001b[K     |█████████████████████████████▍  | 624kB 7.5MB/s eta 0:00:01\r",
      "\u001b[K     |█████████████████████████████▉  | 634kB 7.5MB/s eta 0:00:01\r",
      "\u001b[K     |██████████████████████████████▍ | 645kB 7.5MB/s eta 0:00:01\r",
      "\u001b[K     |██████████████████████████████▉ | 655kB 7.5MB/s eta 0:00:01\r",
      "\u001b[K     |███████████████████████████████▎| 665kB 7.5MB/s eta 0:00:01\r",
      "\u001b[K     |███████████████████████████████▉| 675kB 7.5MB/s eta 0:00:01\r",
      "\u001b[K     |████████████████████████████████| 686kB 7.5MB/s \n",
      "\u001b[?25hRequirement already satisfied: typeguard>=2.7 in /usr/local/lib/python3.7/dist-packages (from tensorflow-addons) (2.7.1)\n",
      "Installing collected packages: tensorflow-addons\n",
      "Successfully installed tensorflow-addons-0.13.0\n"
     ]
    }
   ],
   "source": [
    "!pip install tensorflow-addons\n",
    "import tensorflow_addons as tfa"
   ]
  },
  {
   "cell_type": "code",
   "execution_count": 3,
   "metadata": {
    "colab": {
     "base_uri": "https://localhost:8080/"
    },
    "id": "HmpJT95RtaBW",
    "outputId": "8bf9108f-5ab3-4222-c5f7-f95cfcbc10b0"
   },
   "outputs": [
    {
     "name": "stdout",
     "output_type": "stream",
     "text": [
      "Collecting gensim==4.0.1\n",
      "\u001b[?25l  Downloading https://files.pythonhosted.org/packages/44/52/f1417772965652d4ca6f901515debcd9d6c5430969e8c02ee7737e6de61c/gensim-4.0.1-cp37-cp37m-manylinux1_x86_64.whl (23.9MB)\n",
      "\u001b[K     |████████████████████████████████| 23.9MB 123kB/s \n",
      "\u001b[?25hRequirement already satisfied, skipping upgrade: smart-open>=1.8.1 in /usr/local/lib/python3.7/dist-packages (from gensim==4.0.1) (5.0.0)\n",
      "Requirement already satisfied, skipping upgrade: scipy>=0.18.1 in /usr/local/lib/python3.7/dist-packages (from gensim==4.0.1) (1.4.1)\n",
      "Requirement already satisfied, skipping upgrade: numpy>=1.11.3 in /usr/local/lib/python3.7/dist-packages (from gensim==4.0.1) (1.19.5)\n",
      "Installing collected packages: gensim\n",
      "  Found existing installation: gensim 3.6.0\n",
      "    Uninstalling gensim-3.6.0:\n",
      "      Successfully uninstalled gensim-3.6.0\n",
      "Successfully installed gensim-4.0.1\n",
      "4.0.1\n"
     ]
    },
    {
     "name": "stderr",
     "output_type": "stream",
     "text": [
      "/usr/local/lib/python3.7/dist-packages/gensim/similarities/__init__.py:15: UserWarning: The gensim.similarities.levenshtein submodule is disabled, because the optional Levenshtein package <https://pypi.org/project/python-Levenshtein/> is unavailable. Install Levenhstein (e.g. `pip install python-Levenshtein`) to suppress this warning.\n",
      "  warnings.warn(msg)\n"
     ]
    }
   ],
   "source": [
    "!pip install --upgrade gensim==4.0.1\n",
    "import gensim\n",
    "\n",
    "from gensim.models.callbacks import CallbackAny2Vec\n",
    "from gensim.models import Word2Vec\n",
    "print(gensim.__version__)"
   ]
  },
  {
   "cell_type": "code",
   "execution_count": 4,
   "metadata": {
    "colab": {
     "base_uri": "https://localhost:8080/"
    },
    "id": "G3YH4ZlP6Ol3",
    "outputId": "f05efbe0-5741-4d3e-9e3b-d9906c11fa20"
   },
   "outputs": [
    {
     "name": "stdout",
     "output_type": "stream",
     "text": [
      "Collecting pattern\n",
      "\u001b[?25l  Downloading https://files.pythonhosted.org/packages/1e/07/b0e61b6c818ed4b6145fe01d1c341223aa6cfbc3928538ad1f2b890924a3/Pattern-3.6.0.tar.gz (22.2MB)\n",
      "\u001b[K     |████████████████████████████████| 22.3MB 1.6MB/s \n",
      "\u001b[?25hRequirement already satisfied: future in /usr/local/lib/python3.7/dist-packages (from pattern) (0.16.0)\n",
      "Collecting backports.csv\n",
      "  Downloading https://files.pythonhosted.org/packages/8e/26/a6bd68f13e0f38fbb643d6e497fc3462be83a0b6c4d43425c78bb51a7291/backports.csv-1.0.7-py2.py3-none-any.whl\n",
      "Collecting mysqlclient\n",
      "\u001b[?25l  Downloading https://files.pythonhosted.org/packages/3c/df/59cd2fa5e48d0804d213bdcb1acb4d08c403b61c7ff7ed4dd4a6a2deb3f7/mysqlclient-2.0.3.tar.gz (88kB)\n",
      "\u001b[K     |████████████████████████████████| 92kB 13.4MB/s \n",
      "\u001b[?25hRequirement already satisfied: beautifulsoup4 in /usr/local/lib/python3.7/dist-packages (from pattern) (4.6.3)\n",
      "Requirement already satisfied: lxml in /usr/local/lib/python3.7/dist-packages (from pattern) (4.2.6)\n",
      "Collecting feedparser\n",
      "\u001b[?25l  Downloading https://files.pythonhosted.org/packages/1c/21/faf1bac028662cc8adb2b5ef7a6f3999a765baa2835331df365289b0ca56/feedparser-6.0.2-py3-none-any.whl (80kB)\n",
      "\u001b[K     |████████████████████████████████| 81kB 11.2MB/s \n",
      "\u001b[?25hCollecting pdfminer.six\n",
      "\u001b[?25l  Downloading https://files.pythonhosted.org/packages/93/f3/4fec7dabe8802ebec46141345bf714cd1fc7d93cb74ddde917e4b6d97d88/pdfminer.six-20201018-py3-none-any.whl (5.6MB)\n",
      "\u001b[K     |████████████████████████████████| 5.6MB 38.2MB/s \n",
      "\u001b[?25hRequirement already satisfied: numpy in /usr/local/lib/python3.7/dist-packages (from pattern) (1.19.5)\n",
      "Requirement already satisfied: scipy in /usr/local/lib/python3.7/dist-packages (from pattern) (1.4.1)\n",
      "Requirement already satisfied: nltk in /usr/local/lib/python3.7/dist-packages (from pattern) (3.2.5)\n",
      "Collecting python-docx\n",
      "\u001b[?25l  Downloading https://files.pythonhosted.org/packages/8b/a0/52729ce4aa026f31b74cc877be1d11e4ddeaa361dc7aebec148171644b33/python-docx-0.8.11.tar.gz (5.6MB)\n",
      "\u001b[K     |████████████████████████████████| 5.6MB 47.6MB/s \n",
      "\u001b[?25hCollecting cherrypy\n",
      "\u001b[?25l  Downloading https://files.pythonhosted.org/packages/a8/f9/e11f893dcabe6bc222a1442bf5e14f0322a2d363c92910ed41947078a35a/CherryPy-18.6.0-py2.py3-none-any.whl (419kB)\n",
      "\u001b[K     |████████████████████████████████| 419kB 43.8MB/s \n",
      "\u001b[?25hRequirement already satisfied: requests in /usr/local/lib/python3.7/dist-packages (from pattern) (2.23.0)\n",
      "Collecting sgmllib3k\n",
      "  Downloading https://files.pythonhosted.org/packages/9e/bd/3704a8c3e0942d711c1299ebf7b9091930adae6675d7c8f476a7ce48653c/sgmllib3k-1.0.0.tar.gz\n",
      "Requirement already satisfied: chardet; python_version > \"3.0\" in /usr/local/lib/python3.7/dist-packages (from pdfminer.six->pattern) (3.0.4)\n",
      "Collecting cryptography\n",
      "\u001b[?25l  Downloading https://files.pythonhosted.org/packages/b2/26/7af637e6a7e87258b963f1731c5982fb31cd507f0d90d91836e446955d02/cryptography-3.4.7-cp36-abi3-manylinux2014_x86_64.whl (3.2MB)\n",
      "\u001b[K     |████████████████████████████████| 3.2MB 33.3MB/s \n",
      "\u001b[?25hRequirement already satisfied: sortedcontainers in /usr/local/lib/python3.7/dist-packages (from pdfminer.six->pattern) (2.3.0)\n",
      "Requirement already satisfied: six in /usr/local/lib/python3.7/dist-packages (from nltk->pattern) (1.15.0)\n",
      "Collecting jaraco.collections\n",
      "  Downloading https://files.pythonhosted.org/packages/d5/1a/a0d6861d2aca6df92643c755966c8a60e40353e4c5e7a5c2f4e5ed733817/jaraco.collections-3.3.0-py3-none-any.whl\n",
      "Collecting portend>=2.1.1\n",
      "  Downloading https://files.pythonhosted.org/packages/b8/a1/fd29409cced540facdd29abb986d988cb1f22c8170d10022ea73af77fa55/portend-2.7.1-py3-none-any.whl\n",
      "Collecting cheroot>=8.2.1\n",
      "\u001b[?25l  Downloading https://files.pythonhosted.org/packages/46/95/86fe6480af78fea7b0e7e1bf02e6acd4cb9e561ea200bd6d6e1398fe5426/cheroot-8.5.2-py2.py3-none-any.whl (97kB)\n",
      "\u001b[K     |████████████████████████████████| 102kB 14.0MB/s \n",
      "\u001b[?25hRequirement already satisfied: more-itertools in /usr/local/lib/python3.7/dist-packages (from cherrypy->pattern) (8.7.0)\n",
      "Collecting zc.lockfile\n",
      "  Downloading https://files.pythonhosted.org/packages/6c/2a/268389776288f0f26c7272c70c36c96dcc0bdb88ab6216ea18e19df1fadd/zc.lockfile-2.0-py2.py3-none-any.whl\n",
      "Requirement already satisfied: idna<3,>=2.5 in /usr/local/lib/python3.7/dist-packages (from requests->pattern) (2.10)\n",
      "Requirement already satisfied: certifi>=2017.4.17 in /usr/local/lib/python3.7/dist-packages (from requests->pattern) (2020.12.5)\n",
      "Requirement already satisfied: urllib3!=1.25.0,!=1.25.1,<1.26,>=1.21.1 in /usr/local/lib/python3.7/dist-packages (from requests->pattern) (1.24.3)\n",
      "Requirement already satisfied: cffi>=1.12 in /usr/local/lib/python3.7/dist-packages (from cryptography->pdfminer.six->pattern) (1.14.5)\n",
      "Collecting jaraco.classes\n",
      "  Downloading https://files.pythonhosted.org/packages/b8/74/bee5fc11594974746535117546404678fc7b899476e769c3c55bc0cfaa02/jaraco.classes-3.2.1-py3-none-any.whl\n",
      "Collecting jaraco.text\n",
      "  Downloading https://files.pythonhosted.org/packages/c1/74/2a3c4835c079df16db8a9c50263eebb0125849fee5b16de353a059b7545d/jaraco.text-3.5.0-py3-none-any.whl\n",
      "Collecting tempora>=1.8\n",
      "  Downloading https://files.pythonhosted.org/packages/44/83/4d5c3de53bbc463f30ab6764e27bc2e8ed9b59736e8b40d95403ff802008/tempora-4.0.2-py3-none-any.whl\n",
      "Collecting jaraco.functools\n",
      "  Downloading https://files.pythonhosted.org/packages/b5/da/e51e7b58c8fe132990edd1e3ef25bcd9801eb7f91d0f642ac7f8d97e4a36/jaraco.functools-3.3.0-py3-none-any.whl\n",
      "Requirement already satisfied: setuptools in /usr/local/lib/python3.7/dist-packages (from zc.lockfile->cherrypy->pattern) (56.1.0)\n",
      "Requirement already satisfied: pycparser in /usr/local/lib/python3.7/dist-packages (from cffi>=1.12->cryptography->pdfminer.six->pattern) (2.20)\n",
      "Requirement already satisfied: pytz in /usr/local/lib/python3.7/dist-packages (from tempora>=1.8->portend>=2.1.1->cherrypy->pattern) (2018.9)\n",
      "Building wheels for collected packages: pattern, mysqlclient, python-docx, sgmllib3k\n",
      "  Building wheel for pattern (setup.py) ... \u001b[?25l\u001b[?25hdone\n",
      "  Created wheel for pattern: filename=Pattern-3.6-cp37-none-any.whl size=22332724 sha256=a26e36c8dac17d40cf4e586d09b8fc11466c34c08eded4ac0c0cb0af2c23ebb1\n",
      "  Stored in directory: /root/.cache/pip/wheels/dc/9a/0e/5fb1a603ed4e3aa8722a88e9cf4a82da7d1b63e3d2cc34bee5\n",
      "  Building wheel for mysqlclient (setup.py) ... \u001b[?25l\u001b[?25hdone\n",
      "  Created wheel for mysqlclient: filename=mysqlclient-2.0.3-cp37-cp37m-linux_x86_64.whl size=100098 sha256=5c1feb81675bc275bfdb6cb2fde969ebfaf3673f194446ac58569b052bda5f74\n",
      "  Stored in directory: /root/.cache/pip/wheels/75/ca/e8/ad4e7ce3df18bcd91c7d84dd28c7c08db491a2a2360efed363\n",
      "  Building wheel for python-docx (setup.py) ... \u001b[?25l\u001b[?25hdone\n",
      "  Created wheel for python-docx: filename=python_docx-0.8.11-cp37-none-any.whl size=184602 sha256=29f0048b5294940efa7c34fba7aa89e387b50009c1a9c6eecd3cabc8710a2ef3\n",
      "  Stored in directory: /root/.cache/pip/wheels/a6/90/f1/a7cb70b38633ae04e7fb963b1c70f63fd6fc01c075b8230adc\n",
      "  Building wheel for sgmllib3k (setup.py) ... \u001b[?25l\u001b[?25hdone\n",
      "  Created wheel for sgmllib3k: filename=sgmllib3k-1.0.0-cp37-none-any.whl size=6067 sha256=e0f1a3c6a81aa2b71f6d14631ccfb611bd86a6e2a92efee0e3afcef256c1f618\n",
      "  Stored in directory: /root/.cache/pip/wheels/f1/80/5a/444ba08a550cdd241bd9baf8bae44be750efe370adb944506a\n",
      "Successfully built pattern mysqlclient python-docx sgmllib3k\n",
      "Installing collected packages: backports.csv, mysqlclient, sgmllib3k, feedparser, cryptography, pdfminer.six, python-docx, jaraco.classes, jaraco.functools, jaraco.text, jaraco.collections, tempora, portend, cheroot, zc.lockfile, cherrypy, pattern\n",
      "Successfully installed backports.csv-1.0.7 cheroot-8.5.2 cherrypy-18.6.0 cryptography-3.4.7 feedparser-6.0.2 jaraco.classes-3.2.1 jaraco.collections-3.3.0 jaraco.functools-3.3.0 jaraco.text-3.5.0 mysqlclient-2.0.3 pattern-3.6 pdfminer.six-20201018 portend-2.7.1 python-docx-0.8.11 sgmllib3k-1.0.0 tempora-4.0.2 zc.lockfile-2.0\n"
     ]
    }
   ],
   "source": [
    "!pip install pattern \n",
    "import pattern\n",
    "from pattern.en import lemma\n",
    "\n"
   ]
  },
  {
   "cell_type": "code",
   "execution_count": 5,
   "metadata": {
    "colab": {
     "base_uri": "https://localhost:8080/"
    },
    "id": "JweYJi0CEOtc",
    "outputId": "5ae48794-1c0b-4bec-a085-a7e37d39436e"
   },
   "outputs": [
    {
     "name": "stdout",
     "output_type": "stream",
     "text": [
      "[nltk_data] Downloading package stopwords to /root/nltk_data...\n",
      "[nltk_data]   Unzipping corpora/stopwords.zip.\n"
     ]
    },
    {
     "data": {
      "text/plain": [
       "True"
      ]
     },
     "execution_count": 5,
     "metadata": {
      "tags": []
     },
     "output_type": "execute_result"
    }
   ],
   "source": [
    "\n",
    "import cython\n",
    "import pandas as pd\n",
    "import numpy as np\n",
    "import os\n",
    "import zipfile as zip\n",
    "from sklearn.utils import shuffle\n",
    "import string\n",
    "import nltk\n",
    "\n",
    "import re\n",
    "from tqdm import tqdm \n",
    "import collections\n",
    "\n",
    "from tqdm.notebook import tqdm\n",
    "from sklearn.metrics import f1_score, accuracy_score\n",
    "from sklearn.feature_extraction.text import TfidfVectorizer\n",
    "from sklearn.linear_model import LogisticRegression\n",
    "from sklearn.pipeline import Pipeline\n",
    "\n",
    "\n",
    "from sklearn.decomposition import PCA\n",
    "import matplotlib.pyplot as plt\n",
    "\n",
    "\n",
    "from keras.preprocessing.text import Tokenizer\n",
    "from keras.preprocessing.sequence import pad_sequences\n",
    "\n",
    "from tensorflow import keras\n",
    "import tensorflow as tf\n",
    "from keras import backend as K\n",
    "from tensorflow.keras import datasets, layers, models, Model\n",
    "from keras.optimizers import SGD, Adam, Adadelta, RMSprop, Ftrl\n",
    "from keras.layers import Input, Dense, Dropout, Embedding, GRU, Bidirectional, LSTM \n",
    "\n",
    "from keras.models import Sequential\n",
    "from keras.regularizers import l2, l1\n",
    "import warnings\n",
    "warnings.filterwarnings(\"ignore\")\n",
    "\n",
    "nltk.download('stopwords')"
   ]
  },
  {
   "cell_type": "code",
   "execution_count": 6,
   "metadata": {
    "id": "Wgq8W4cgu2fE"
   },
   "outputs": [],
   "source": [
    "os.chdir(\"/content/drive/MyDrive/PubMed_200k_RCT\")"
   ]
  },
  {
   "cell_type": "code",
   "execution_count": 7,
   "metadata": {
    "colab": {
     "base_uri": "https://localhost:8080/"
    },
    "id": "enAfVVZk_PCd",
    "outputId": "b7f58ff3-683e-43d3-9ba5-25ad2c9f6082"
   },
   "outputs": [
    {
     "name": "stdout",
     "output_type": "stream",
     "text": [
      "dev.txt  gru_82f1.h5  model  test.txt  train.txt\n"
     ]
    }
   ],
   "source": [
    "!ls"
   ]
  },
  {
   "cell_type": "code",
   "execution_count": null,
   "metadata": {
    "id": "mw-dE4xi6Sc8"
   },
   "outputs": [],
   "source": [
    "# # os.chdir(\"/content/drive/MyDrive/\")\n",
    "\n",
    "# if not os.path.isfile(\"train2.txt\"):\n",
    "#   # path = \"gdrive\\MyDrive\\ML4HC-P3\\ML4HC-P3PubMed_200k_RCT.zip\"\n",
    "  \n",
    "#   # with zip.ZipFile(\"\\gdrive\\MyDrive\\ML4HC-P3\\ML4HC-P3PubMed_200k_RCT.zip\", 'r') as zip_ref:\n",
    "#   #   zip_ref.extractall(\"/gdrive/Mydrive/MyDrive/ML4HC-P3/\")\n",
    "\n",
    "\n",
    "#   with zip.ZipFile(\"project3/PubMed_200k_RCT.zip\", 'r') as zip_ref:\n",
    "#     zip_ref.extractall(\"./\")\n"
   ]
  },
  {
   "cell_type": "code",
   "execution_count": 8,
   "metadata": {
    "id": "Ucu--UiO6-Z9"
   },
   "outputs": [],
   "source": [
    "dataset_path_train = \"train.txt\" \n",
    "dataset_path_val = \"dev.txt\" \n",
    "dataset_path_test = \"test.txt\""
   ]
  },
  {
   "cell_type": "markdown",
   "metadata": {
    "id": "9Va5sbiuazlw"
   },
   "source": [
    "###  Task1: Preprocessing\n",
    "\n",
    "In this part of the project, we define necessary functions to load data, conduct preprocessing, depict example instance of preprocessing, and discover dataset properities.\n",
    "\n",
    "\n",
    "Here is the example sequence that is depicted **before preprocessing:** \n",
    "\n",
    "* After the intervention , there was a significant decrease in the overall severity of symptoms and physical and psychologic symptoms in both Ginkgo ( 23.68 % ) and placebo ( 8.74 % ) groups ( p < 0.001 ) .\n",
    "\n",
    "\n",
    "Here is the same example sequence **after our preprocessing approach:**\n",
    "\n",
    "* 'intervention significant decrease overall severity symptom physical psychologic symptom ginkgo FLOAT percentage placebo FLOAT percentage group smaller FLOAT',\n",
    "\n",
    "\n"
   ]
  },
  {
   "cell_type": "code",
   "execution_count": 9,
   "metadata": {
    "id": "88PdMZfVunFB"
   },
   "outputs": [],
   "source": [
    "def to_categorical(labels, vocabulary):\n",
    "    return [vocabulary.index(l) for l in labels]\n",
    "\n",
    "def load_data(file, max_corpus_size=None):\n",
    "  \n",
    "    corpus = []\n",
    "    labels = []\n",
    "\n",
    "    # Reading file line by line and building up corpus\n",
    "    with open(file, \"r\") as f:\n",
    "        for line in f:\n",
    "            if line[0] in \"#\\n\":\n",
    "                continue\n",
    "            \n",
    "            label, _, sentence = line.partition(\"\\t\")\n",
    "            \n",
    "            labels.append(label)\n",
    "            corpus.append(sentence)\n",
    "            \n",
    "            if max_corpus_size is not None and len(corpus) >= max_corpus_size:\n",
    "                break\n",
    "    f.close()\n",
    "\n",
    "\n",
    "    \n",
    "    # Mapping string labels to categorical labels\n",
    "    labels_vocabulary = ['RESULTS', 'METHODS', 'CONCLUSIONS', 'BACKGROUND', 'OBJECTIVE']\n",
    "    labels = to_categorical(labels[: ], labels_vocabulary)\n",
    "\n",
    "    # Preprocessing the corpus to have clean data for next steps. \n",
    "    if file ==\"train.txt\":\n",
    "      corpus_ready, before_array, after_array = preprocess_dataframe(file, corpus)\n",
    "      return corpus_ready, labels, before_array, after_array\n",
    "    else:\n",
    "      corpus_ready = preprocess_dataframe(file, corpus)\n",
    "      return corpus_ready, labels\n",
    "\n",
    "    \n"
   ]
  },
  {
   "cell_type": "markdown",
   "metadata": {
    "id": "2wkiKsf-Wi3O"
   },
   "source": [
    "Below is the function that we used for the preprocessing datasets. This functions lowercases, lemmatizes, replace URLs, integers, floats with special token, replace equation symbols with string representation, removes stop words and strips punctuations. "
   ]
  },
  {
   "cell_type": "code",
   "execution_count": 10,
   "metadata": {
    "id": "U5etbh2t0AIg"
   },
   "outputs": [],
   "source": [
    "def preprocess_dataframe(file, corpus):\n",
    "  \n",
    "  if file == \"train.txt\":\n",
    "\n",
    "    # Getting examples from training dataset for before processing\n",
    "    b1= corpus[57]\n",
    "    b2= corpus[61]\n",
    "    b3= corpus[1983]\n",
    "    b4 = corpus[1989]\n",
    "    before = [b1,b2,b3,b4]\n",
    "  else:\n",
    "    pass\n",
    "\n",
    "  # Loading nltk stopwords\n",
    "  stop = nltk.corpus.stopwords.words(\"english\")\n",
    "\n",
    "  # Lowercasing\n",
    "  lower = lambda row: row.lower()\n",
    "  corpus =  ([lower(seq) for seq in corpus])\n",
    "  \n",
    "  # Lemmatizing\n",
    "  lemmatize = lambda x: \" \".join([lemma(word) for word in (x.split())])\n",
    "  corpus = ([lemmatize(seq) for seq in corpus])\n",
    "\n",
    "\n",
    "  # Removing line end string from sequences\n",
    "  remove_line_end = lambda row: re.sub(\"\\n\", '', row)\n",
    "  corpus =  ([remove_line_end(seq) for seq in corpus])\n",
    "\n",
    "  # Replacing URLs with https with LINK token\n",
    "  remove_link = lambda row: re.sub(r'http\\S+', ' [LINK] ', row)\n",
    "  corpus =  ([remove_link(seq) for seq in corpus])\n",
    "\n",
    "  # Replacing URLs without https but with possible suffix with LINK token\n",
    "  pattern =r'[\\S]+\\.(net|com|org|info|edu|gov|uk|eu|ca|jp|fr|au|us|ru|ch|it|nel|se|no|es|mil)[\\S]*\\s?' \n",
    "  remove_other_link = lambda row: re.sub(pattern, ' [LINK] ', row)\n",
    "  corpus =  ([remove_other_link(seq) for seq in corpus])\n",
    "\n",
    "  # Replacing % with percentage string\n",
    "  correct_percentage= lambda row: re.sub(r'%', 'percentage', row)\n",
    "  corpus =  ([correct_percentage(seq) for seq in corpus])\n",
    "\n",
    "  # Replacing < with \"smaller\" string\n",
    "  smaller = lambda row: re.sub(r'<', 'smaller', row)\n",
    "  corpus =  ([smaller(seq) for seq in corpus])\n",
    "\n",
    "  # Replacing > with \"bigger\" string\n",
    "  bigger = lambda row: re.sub(r'>', 'bigger', row)\n",
    "  corpus = ([bigger(seq) for seq in corpus])\n",
    "\n",
    "  # Replacing = with \"equal\" string \n",
    "  equal = lambda row: re.sub(r'=', 'equal', row)\n",
    "  corpus = ([equal(seq) for seq in corpus])\n",
    "\n",
    "  # Replacing negative+positive integers with INT token\n",
    "  integizer = lambda row: re.sub(r'(?<!\\.)\\b[0-9]+\\b(?!\\.)', ' [INT] ', row)\n",
    "  corpus = ([integizer(seq) for seq in corpus])\n",
    "\n",
    "  # Replacing negative+positive floats with FLOAT token\n",
    "  floater = lambda row: re.sub(r'[+-]?[0-9]+\\.[0-9]+', ' [FLOAT] ', row)\n",
    "  corpus = ([floater(seq) for seq in corpus])\n",
    "  \n",
    "  # Removing all punctuation except the hypens between words i.e \"self-assesed\"\n",
    "  remove_punc_exp_hypen = lambda row: re.sub(r\"(\\\\w['-]\\\\w)|[[:punct:]]\", '\\\\1', row)\n",
    "  corpus = ([remove_punc_exp_hypen(seq) for seq in corpus])\n",
    "\n",
    "  # Removing all the rest of the punctuations\n",
    "  remove_punc = lambda row: row.translate(str.maketrans('', '', string.punctuation))\n",
    "  corpus = ([remove_punc(seq) for seq in corpus])\n",
    "\n",
    "  # Removing stop words\n",
    "  stop_remover = lambda x: \" \".join([word for word in (x.split()) if word not in (stop) and len(word) != 1])\n",
    "  corpus = ([stop_remover(seq) for seq in corpus])\n",
    "  \n",
    "  if file == \"train.txt\":\n",
    "    # Getting examples from training dataset after processing\n",
    "    a1= corpus[57]\n",
    "    a2= corpus[61]\n",
    "    a3= corpus[1983]\n",
    "    a4 = corpus[1989]\n",
    "    after = [a1,a2,a3,a4]\n",
    "    \n",
    "    return corpus, before, after\n",
    "  else:\n",
    "    return corpus\n",
    "\n",
    "\n",
    "def get_cleaned_data(X_train, y_train, X_val, y_val, X_test, y_test):\n",
    "\n",
    "  ind_to_del_train=[]\n",
    "  for ind, val in enumerate(X_train):\n",
    "    if val ==\"\":\n",
    "      ind_to_del_train.append(ind)\n",
    "  \n",
    "  ind_to_del_val=[]\n",
    "  for ind, val in enumerate(X_val):\n",
    "    if val ==\"\":\n",
    "      ind_to_del_val.append(ind)\n",
    "  \n",
    "  ind_to_del_test=[]\n",
    "  for ind, val in enumerate(X_test):\n",
    "    if val ==\"\":\n",
    "      ind_to_del_test.append(ind)\n",
    "  \n",
    "  for v in X_train:\n",
    "      if v==\"\":\n",
    "          X_train.remove(\"\")\n",
    "\n",
    "  for v in X_val:\n",
    "      if v==\"\":\n",
    "          X_val.remove(\"\")\n",
    "\n",
    "  for v in X_test:\n",
    "      if v==\"\":\n",
    "          X_test.remove(\"\")\n",
    "\n",
    "  # Cleaning training set \n",
    "  for i in ind_to_del_train:\n",
    "    del y_train[i]\n",
    "\n",
    "  # Cleaning validation set \n",
    "  for i in ind_to_del_val:\n",
    "    del y_val[i]\n",
    "\n",
    "  # Cleaning test set \n",
    "  for i in ind_to_del_test:\n",
    "    del y_test[i]\n",
    "\n",
    "\n",
    "  return X_train, y_train, X_val, y_val, X_test, y_test"
   ]
  },
  {
   "cell_type": "code",
   "execution_count": 12,
   "metadata": {
    "colab": {
     "base_uri": "https://localhost:8080/"
    },
    "id": "rxCP1JPzyE2B",
    "outputId": "216d3554-7419-40b2-f9c0-8c4448675fc7"
   },
   "outputs": [
    {
     "name": "stdout",
     "output_type": "stream",
     "text": [
      "CPU times: user 4min 12s, sys: 1.68 s, total: 4min 14s\n",
      "Wall time: 4min 14s\n"
     ]
    }
   ],
   "source": [
    "# Loading and preprocessing the dataset\n",
    "\n",
    "#WARNING: Due to Pattern package, this line may throw STOP ITERATION ERROR if you are using Python 3.7, then please re-run the line\n",
    "# or use different python version.\n",
    "%%time\n",
    "X_train, y_train, example_before, example_after = load_data(dataset_path_train) # 2 211 861 observations\n"
   ]
  },
  {
   "cell_type": "code",
   "execution_count": 13,
   "metadata": {
    "colab": {
     "base_uri": "https://localhost:8080/"
    },
    "id": "-XhSWkFbbGRS",
    "outputId": "eec76ab0-cc56-4174-d1ee-973f143674ab"
   },
   "outputs": [
    {
     "data": {
      "text/plain": [
       "['The 2 % solution provided more consistent dosing relative to the 1.5 % solution when comparing AUCss ( 0-24 ) and Cmaxss across studies .\\n',\n",
       " '( Study 2 was registered with ClinicalTrials.gov ; NCT01202799 ; https://clinicaltrials.gov/ct2/results?term=01202799&Search=Search ) .\\n',\n",
       " 'After the intervention , there was a significant decrease in the overall severity of symptoms and physical and psychologic symptoms in both Ginkgo ( 23.68 % ) and placebo ( 8.74 % ) groups ( p < 0.001 ) .\\n',\n",
       " 'Before treatment , they were evaluated by the Taiwanese version of the 20-item Sino-Nasal Outcome Test ( TWSNOT-20 ) , nasal endoscopy , saccharin test , and bacterial culture .\\n']"
      ]
     },
     "execution_count": 13,
     "metadata": {
      "tags": []
     },
     "output_type": "execute_result"
    }
   ],
   "source": [
    "example_before"
   ]
  },
  {
   "cell_type": "code",
   "execution_count": 14,
   "metadata": {
    "colab": {
     "base_uri": "https://localhost:8080/"
    },
    "id": "wtGgUGl1bGph",
    "outputId": "a6dd7f96-1928-4fb8-da8c-2893969f6cc8"
   },
   "outputs": [
    {
     "data": {
      "text/plain": [
       "['INT percentage solution provide consistent dose relative FLOAT percentage solution compare aucs INT INT cmaxs acros study',\n",
       " 'study INT register LINK nct01202799 LINK',\n",
       " 'intervention significant decrease overall severity symptom physical psychologic symptom ginkgo FLOAT percentage placebo FLOAT percentage group smaller FLOAT',\n",
       " 'treatment evaluate taiwanese version INT item sinonasal outcome test twsnot INT nasal endoscopy saccharin test bacterial culture']"
      ]
     },
     "execution_count": 14,
     "metadata": {
      "tags": []
     },
     "output_type": "execute_result"
    }
   ],
   "source": [
    "example_after"
   ]
  },
  {
   "cell_type": "code",
   "execution_count": 15,
   "metadata": {
    "id": "ktwvlAmQXIb4"
   },
   "outputs": [],
   "source": [
    "X_val, y_val = load_data(dataset_path_val)  # Over 2 million observations\n",
    "X_test, y_test = load_data(dataset_path_test)"
   ]
  },
  {
   "cell_type": "code",
   "execution_count": 16,
   "metadata": {
    "colab": {
     "base_uri": "https://localhost:8080/"
    },
    "id": "ORlVWNL-vKZd",
    "outputId": "7df0a601-99d6-483b-b45b-3b1a7a2817e5"
   },
   "outputs": [
    {
     "name": "stdout",
     "output_type": "stream",
     "text": [
      "2211861\n",
      "2211861\n",
      "28932\n",
      "28932\n",
      "29493\n",
      "29493\n"
     ]
    }
   ],
   "source": [
    "# Number of sequences after preprocessing\n",
    "print(len(X_train))\n",
    "print(len(y_train))\n",
    "print(len(X_val))\n",
    "print(len(y_val))\n",
    "print(len(X_test))\n",
    "print(len(y_test))"
   ]
  },
  {
   "cell_type": "markdown",
   "metadata": {
    "id": "ArDbw2QxcViJ"
   },
   "source": [
    "After preprocesing the dataset, we obtain:\n",
    "\n",
    "*   Roughly over 2 million sequences for training and\n",
    "*   About 29 thousand sequences for validation\n"
   ]
  },
  {
   "cell_type": "code",
   "execution_count": 17,
   "metadata": {
    "colab": {
     "base_uri": "https://localhost:8080/"
    },
    "id": "MNVgvsqA9pGp",
    "outputId": "68c1528a-b15b-4d1c-b73d-2aed4b7e0c0d"
   },
   "outputs": [
    {
     "name": "stdout",
     "output_type": "stream",
     "text": [
      "Counter({0: 766271, 1: 722586, 2: 339714, 3: 196689, 4: 186601})\n",
      "Counter({0: 9977, 1: 9559, 2: 4396, 3: 2575, 4: 2425})\n"
     ]
    }
   ],
   "source": [
    "print(collections.Counter(y_train))\n",
    "print(collections.Counter(y_val))"
   ]
  },
  {
   "cell_type": "markdown",
   "metadata": {
    "id": "sU1QEmYV7DU2"
   },
   "source": [
    "However, since we conducted string manupulation and cleaning operations, there might be cases in which certain sequence is completely removed, resulting empty string object in the dataset.\n",
    "\n",
    "To remove them, we call *get_cleaned_data* function to further remove those object by respecting label indices."
   ]
  },
  {
   "cell_type": "code",
   "execution_count": 18,
   "metadata": {
    "id": "i55juvB4so54"
   },
   "outputs": [],
   "source": [
    "\n",
    "X_train_cleaned, y_train_cleaned, X_val_cleaned, y_val_cleaned, X_test_cleaned, y_test_cleaned = get_cleaned_data(X_train, y_train,\n",
    "                                                                                                                  X_val, y_val,\n",
    "                                                                                                                  X_test, y_test)"
   ]
  },
  {
   "cell_type": "code",
   "execution_count": 19,
   "metadata": {
    "colab": {
     "base_uri": "https://localhost:8080/"
    },
    "id": "P_ALsyvKtOu6",
    "outputId": "a21f05a0-0bc8-49e0-f63f-50cad233920d"
   },
   "outputs": [
    {
     "name": "stdout",
     "output_type": "stream",
     "text": [
      "2211538\n",
      "2211538\n",
      "28929\n",
      "28929\n",
      "29487\n",
      "29487\n"
     ]
    }
   ],
   "source": [
    "# Number of preprocessed sequences after empty sequence removal\n",
    "print(len(X_train_cleaned))\n",
    "print(len(y_train_cleaned))\n",
    "print(len(X_val_cleaned))\n",
    "print(len(y_val_cleaned))\n",
    "print(len(X_test_cleaned))\n",
    "print(len(y_test_cleaned))"
   ]
  },
  {
   "cell_type": "markdown",
   "metadata": {
    "id": "7r_vft9e7sjE"
   },
   "source": [
    "Apparently, indeed there are such objects as mentioned above. Now, before using dataset in our model, we obtain the complete, well-processed and cleaned datasets."
   ]
  },
  {
   "cell_type": "markdown",
   "metadata": {
    "id": "NkT8mgBcHjxk"
   },
   "source": [
    "### Task 2: Developing Baseline Model (TF-IDF + Logistic Regression)\n",
    "\n",
    "In this part of the project, we define vanilla TF-IDF Vectorizer along with Logistic Regression to obtain baseline performances on datasets.\n",
    "\n",
    "Please note that, we only utilize **TF-IDF Vectorizer** on the **training set** by **fit.transform** and based on obtained vocabulary and document-term matrix, we call transform function on validation and test sets such that there is no information leek between datasets.\n"
   ]
  },
  {
   "cell_type": "code",
   "execution_count": null,
   "metadata": {
    "id": "I2q8jAktzO1K"
   },
   "outputs": [],
   "source": [
    "def train_LR_clf(training_data, validation_data, test_data, y_train, y_val, y_test, classifier, vectorizer=None):\n",
    "  \n",
    "  if vectorizer:\n",
    "  # Vectorizer fit-transform for training set and transform for validation set.\n",
    "    training_data = vectorizer.fit_transform(training_data)\n",
    "    validation_data = vectorizer.transform(validation_data)\n",
    "    test_data = vectorizer.transform(test_data)\n",
    "\n",
    "  clf = classifier\n",
    "  clf.fit(training_data, y_train)\n",
    "\n",
    "  # Prediction on training set\n",
    "  predictions = clf.predict(training_data)\n",
    "\n",
    "  # Predictions on validation set\n",
    "  val_predictions = clf.predict(validation_data)\n",
    "\n",
    "  # Predictions on test set\n",
    "  test_predictions = clf.predict(test_data)\n",
    "\n",
    "  # Accuracies\n",
    "  train_accuracy = accuracy_score(y_train, predictions)\n",
    "  val_accuracy = accuracy_score(y_val, val_predictions)\n",
    "  test_accuracy = accuracy_score(y_test, test_predictions)\n",
    "\n",
    "  # Weighted F1-Score\n",
    "  train_f1_score = f1_score(y_train, predictions, average=\"weighted\")\n",
    "  val_f1_score = f1_score(y_val, val_predictions, average=\"weighted\")\n",
    "  test_f1_score = f1_score(y_test, test_predictions, average=\"weighted\")\n",
    "\n",
    "  # Reporting Performance\n",
    "  print(\"Training Set Accuracy:%.3f\" % train_accuracy)\n",
    "  print(\"Validation Set Accuracy:%.3f\" % val_accuracy)\n",
    "  print(\"Test Set Accuracy:%.3f\" % test_accuracy)\n",
    "  print(\"\\n\")\n",
    "  print(\"Training Set Weighted F1-Score:%.3f\" % train_f1_score)\n",
    "  print(\"Validation Set Weighted F1-Score:%.3f\" % val_f1_score)\n",
    "  print(\"Test Set Weighted F1-Score:%.3f\" % test_f1_score)  \n",
    "  print(\"\\n\")"
   ]
  },
  {
   "cell_type": "code",
   "execution_count": null,
   "metadata": {
    "colab": {
     "base_uri": "https://localhost:8080/"
    },
    "id": "DdmT1wneg7HE",
    "outputId": "b31e326e-08c0-417d-b588-ea8b5a7a18e9"
   },
   "outputs": [
    {
     "name": "stdout",
     "output_type": "stream",
     "text": [
      "Training Set Accuracy:0.775\n",
      "Validation Set Accuracy:0.778\n",
      "Test Set Accuracy:0.779\n",
      "\n",
      "\n",
      "Training Set Weighted F1-Score:0.770\n",
      "Validation Set Weighted F1-Score:0.773\n",
      "Test Set Weighted F1-Score:0.774\n",
      "\n",
      "\n",
      "CPU times: user 37.6 s, sys: 1.06 s, total: 38.7 s\n",
      "Wall time: 3min 27s\n"
     ]
    }
   ],
   "source": [
    "%%time\n",
    "baseline_clf = LogisticRegression(n_jobs=-1, random_state=49)\n",
    "vectorizer =  TfidfVectorizer(lowercase=False)\n",
    "\n",
    "train_LR_clf(X_train_cleaned, X_val_cleaned, X_test_cleaned, \n",
    "             y_train_cleaned, y_val_cleaned, y_test_cleaned,\n",
    "             baseline_clf, vectorizer)"
   ]
  },
  {
   "cell_type": "markdown",
   "metadata": {
    "id": "_Hnd-jR6IBo9"
   },
   "source": [
    "### Task 2: Baseline Model (TF-IDF + Logistic Regression) Results\n",
    "\n",
    " | Datasets| Accuracy | Weighted F1 Score|\n",
    "|:---:|:-------------:|:-----------:|\n",
    "| Training Set |0.775|0.770| \n",
    "| Validation Set | 0.778| 0.773|\n",
    "| Test Set |0.779| 0.774|\n",
    "\n",
    "\n",
    "*   After defining main fuction to TF-IDF Vectorizer with Logistic  Regression, we run vanilla TF-IDF Vectorizer and Logistic Regression with default parameters. \n",
    "\n",
    "* Vanilla TF-IDF Vectorizer uses only ngram_range of (1,1), meaning that it only uses unigrams, thus treathing each word individually without overlapping.  \n",
    "\n",
    "*   This vanilla model achieves 77.9% accuracy and 77.4% weighted F1 score on the test set. \n",
    "\n",
    "*   Please note that, model is robust since training and validation performances do not differ.\n"
   ]
  },
  {
   "cell_type": "markdown",
   "metadata": {
    "id": "mt--SEinOP-A"
   },
   "source": [
    "### Task 3: Word2Vec Models \n",
    "\n",
    "After experimenting with TF-IDF and Logistic Regression, we experimented Word2Vec models by using gensim library in this task of the project.\n",
    "\n",
    "Word2Vec models are divided into two different models, Continuos-Bag-of-Words (CBOW), and Skip-Gram. Both models are fully connected neural network with one hidden layer. However, their functionality differ as CBOW accepts words of the certain sequence and predicts masked word within that sequence, while Skip-Gram accepts a word and predicts other words within the sequence.\n",
    "\n",
    "With that being said, we experimented both models to extract word embeddings and add Logistic Regression classifier on top to generate predictions.\n",
    "\n",
    "Overall, this part of the code consists of three main blocks: starting with necessary functions, followed by training and performance evaluation of CBOW and Skip-Gram models, and lastly hyperparameter tunning to analyze model parameters and their effects on model performances.\n",
    "\n",
    "\n",
    "Specifically, we experimented **vector size, vocabulary thresholding parameter, number of epochs to train the models and lastly, windows size** parameters.\n",
    "\n",
    "\n",
    "In the sub-sections of this code block, we repeatedly:\n",
    "1. **train CBOW and Skip-Gram models**, respectively, \n",
    "2. demonstrate example embeddings for the following query words: **participant, survivor and cancer**, \n",
    "3. build feature vectors from the embeddings and add Logistic Regression classifier on top of Word2Vec models. \n",
    "4. lastly, we performed **training and testing based on the embeddings that we obtained from Word2Vec models** and report the model performances. \n",
    "\n",
    "\n",
    "Qualitative and quantitative results of the models are depicted at the Task 3 Results section. "
   ]
  },
  {
   "cell_type": "markdown",
   "metadata": {
    "id": "twj6yk8-0vq-"
   },
   "source": [
    "#### Task 3.0 Necessary functions\n",
    "\n",
    "We defined three different functions in this part of the project to be able to prepare right data structure for Word2Vec models, to generate example embedding and to classify sequences.\n",
    "\n",
    " \n",
    "*   First function processes dataset and builds corpus. \n",
    "*   Second function extracts examples of most similar words from embedding space w.r.t query words.\n",
    "*   Lastly, third function creates feature vectors and averages to obtain final vector representation of the each word."
   ]
  },
  {
   "cell_type": "code",
   "execution_count": null,
   "metadata": {
    "id": "9gm0AwSzkOrz"
   },
   "outputs": [],
   "source": [
    "# Function to split tokens given corpus\n",
    "def process_data_word2vec_model(X_train, X_val,  X_test):\n",
    "\n",
    "  # Obtaining training sentences to further use in word2vec\n",
    "  sentences_train = [x.split() for x in tqdm(X_train)]\n",
    "\n",
    "  # Obtaining validation sentences to further use in word2vec\n",
    "  sentences_val = [x.split() for x in tqdm(X_val)]\n",
    "\n",
    "  # Obtaining test sentences to further use in word2vec\n",
    "  sentences_test = [x.split() for x in tqdm(X_test)]\n",
    "\n",
    "  return sentences_train,sentences_val,sentences_test\n",
    "\n",
    "# Function for providing embedding examples\n",
    "def show_example_embeddings(model, words_list):\n",
    "  \n",
    "  for word in words_list:\n",
    "    result = model.wv.most_similar(positive=[word], topn=5)\n",
    "    print(\"Word:\", word)\n",
    "    print(result)\n",
    "\n",
    "# Creating feature space for the classifiers by obtaining numeric representation of from Word2Vec model and average them. \n",
    "def create_feature_space(sentences_list, model):\n",
    "  feature_space = []\n",
    "  # Here, we iterate over each sentence within our cleaned sentence list\n",
    "  for sentence in tqdm(sentences_list):\n",
    "    feature_vector = []\n",
    "\n",
    "    # For each word in that sentence, we obtain vector representation of that word and append to feature vector\n",
    "    for word in sentence:\n",
    "      try: \n",
    "          feature_vector.append(model.wv[word])\n",
    "      except KeyError:\n",
    "          feature_vector.append(np.zeros(model.vector_size))\n",
    "\n",
    "          \n",
    "    mean_vector = np.array(feature_vector).mean(axis=0)\n",
    "    feature_space.append(mean_vector)\n",
    "\n",
    "  return feature_space"
   ]
  },
  {
   "cell_type": "code",
   "execution_count": null,
   "metadata": {
    "id": "SW_52wjcHyPZ"
   },
   "outputs": [],
   "source": [
    "# source for callback implementation:\n",
    "# https://stackoverflow.com/questions/52038651/loss-does-not-decrease-during-training-word2vec-gensim\n",
    "\n",
    "# Class defined to compute loss differences at the end of the each epoch.\n",
    "class callback(CallbackAny2Vec):\n",
    "    \"\"\"\n",
    "    Callback to print loss after each epoch\n",
    "    \"\"\"\n",
    "    def __init__(self):\n",
    "        self.epoch = 0\n",
    "\n",
    "    def on_epoch_end(self, model):\n",
    "        loss = model.get_latest_training_loss()\n",
    "        if self.epoch == 0:\n",
    "            print('Loss after epoch {}: {}'.format(self.epoch, loss))\n",
    "        else:\n",
    "            print('Loss after epoch {}: {}'.format(self.epoch, loss - self.loss_previous_step))\n",
    "        self.epoch += 1\n",
    "        self.loss_previous_step = loss\n",
    "\n",
    "# Defining main Word2Vec training function that accepts model and the data.\n",
    "def train_word2vec(data, model, epochs):\n",
    "\n",
    "  # Building vocabulary\n",
    "  model.build_vocab(data)\n",
    "\n",
    "  # Calling training instance \n",
    "  model.train(corpus_iterable =data, total_examples=model.corpus_count,\n",
    "                  epochs=epochs, \n",
    "                  report_delay=1, \n",
    "                  compute_loss = True,\n",
    "                  callbacks=[callback()]) \n",
    "  \n",
    "  return model\n",
    " "
   ]
  },
  {
   "cell_type": "code",
   "execution_count": null,
   "metadata": {
    "colab": {
     "base_uri": "https://localhost:8080/",
     "height": 168,
     "referenced_widgets": [
      "d0fa2bfbba9e4ba8a7d1f943fb922ea8",
      "3b64ebad7b16455f824b3016babba6e0",
      "59f31d01fba94c239dc6362db6cc4b5d",
      "07e02c6ce99744bf96e4a350f84dd837",
      "6adbc610d96a4c52806c16e3ae913901",
      "b1edaefb7c264abd9099822cb5e86e77",
      "f3ae6c01079a45469c6c4fbe77cb98b0",
      "aa1227de9fa6402eb1bb13a670d7e5f5",
      "9e7e21805b4d4940adde139d36a9158d",
      "8f1b8bf94cd8457eb2ea4d81acb7c0ab",
      "cdd20dc36c184c369f6a216efe4b8fee",
      "0e6bf5de176a466d844cdd8c9198a43c",
      "a807dd9325be438ba45f9a4d709eb7c6",
      "64bbc6325f064f9086bea6eb4f2ea817",
      "2077da53018546d29f5fb3477731f2f7",
      "c9aa4df176544295a9f52f0594702f0f",
      "49e02ce2536947bf93495d7a4ffa02ca",
      "d548bec6555d4ab6bf6ab7cacabb6b58",
      "d7d96f4bf1c44eaea2496a87b8a7f4d2",
      "36c023aec3234efaabae4c7fadb2e1e9",
      "19a702b27f6646e7a017fa50786c8574",
      "01c0048c1bc4499a82de2f0e46480796",
      "2ee36bd04fd741bcb346b53b39593883",
      "adb1e4afcfcb426aa9daf23678e2f549"
     ]
    },
    "id": "XDxRXhnq-vsZ",
    "outputId": "f2cd8b95-d39a-4f70-db37-68d7509c3f77"
   },
   "outputs": [
    {
     "data": {
      "application/vnd.jupyter.widget-view+json": {
       "model_id": "d0fa2bfbba9e4ba8a7d1f943fb922ea8",
       "version_major": 2,
       "version_minor": 0
      },
      "text/plain": [
       "HBox(children=(FloatProgress(value=0.0, max=2211538.0), HTML(value='')))"
      ]
     },
     "metadata": {
      "tags": []
     },
     "output_type": "display_data"
    },
    {
     "name": "stdout",
     "output_type": "stream",
     "text": [
      "\n"
     ]
    },
    {
     "data": {
      "application/vnd.jupyter.widget-view+json": {
       "model_id": "9e7e21805b4d4940adde139d36a9158d",
       "version_major": 2,
       "version_minor": 0
      },
      "text/plain": [
       "HBox(children=(FloatProgress(value=0.0, max=28929.0), HTML(value='')))"
      ]
     },
     "metadata": {
      "tags": []
     },
     "output_type": "display_data"
    },
    {
     "name": "stdout",
     "output_type": "stream",
     "text": [
      "\n"
     ]
    },
    {
     "data": {
      "application/vnd.jupyter.widget-view+json": {
       "model_id": "49e02ce2536947bf93495d7a4ffa02ca",
       "version_major": 2,
       "version_minor": 0
      },
      "text/plain": [
       "HBox(children=(FloatProgress(value=0.0, max=29487.0), HTML(value='')))"
      ]
     },
     "metadata": {
      "tags": []
     },
     "output_type": "display_data"
    },
    {
     "name": "stdout",
     "output_type": "stream",
     "text": [
      "\n"
     ]
    }
   ],
   "source": [
    "# Transforming datasets to suitable format for Word2Vec models\n",
    "X_train_w2v, X_val_w2v, X_test_w2v = process_data_word2vec_model(X_train_cleaned, X_val_cleaned,  X_test_cleaned)"
   ]
  },
  {
   "cell_type": "code",
   "execution_count": null,
   "metadata": {
    "colab": {
     "base_uri": "https://localhost:8080/",
     "height": 54
    },
    "id": "-KU5M1E-87Wl",
    "outputId": "d4202e49-1ff2-4eae-880b-73c883eb79b2"
   },
   "outputs": [
    {
     "data": {
      "application/vnd.google.colaboratory.intrinsic+json": {
       "type": "string"
      },
      "text/plain": [
       "'emergence hiv chronic condition mean people live hiv require take responsibility selfmanagement condition include make physical emotional social adjustment'"
      ]
     },
     "execution_count": 24,
     "metadata": {
      "tags": []
     },
     "output_type": "execute_result"
    }
   ],
   "source": [
    "X_train_cleaned[0]"
   ]
  },
  {
   "cell_type": "code",
   "execution_count": null,
   "metadata": {
    "colab": {
     "base_uri": "https://localhost:8080/"
    },
    "id": "sabtzAAg_C7B",
    "outputId": "db3cc4e5-e959-4a93-af7d-6b2997a966e3"
   },
   "outputs": [
    {
     "data": {
      "text/plain": [
       "['emergence',\n",
       " 'hiv',\n",
       " 'chronic',\n",
       " 'condition',\n",
       " 'mean',\n",
       " 'people',\n",
       " 'live',\n",
       " 'hiv',\n",
       " 'require',\n",
       " 'take',\n",
       " 'responsibility',\n",
       " 'selfmanagement',\n",
       " 'condition',\n",
       " 'include',\n",
       " 'make',\n",
       " 'physical',\n",
       " 'emotional',\n",
       " 'social',\n",
       " 'adjustment']"
      ]
     },
     "execution_count": 25,
     "metadata": {
      "tags": []
     },
     "output_type": "execute_result"
    }
   ],
   "source": [
    "# Correct format for Word2Vec models \n",
    "X_train_w2v[0]"
   ]
  },
  {
   "cell_type": "markdown",
   "metadata": {
    "id": "PXa3ogoxZ-vW"
   },
   "source": [
    "#### Task3.1 Training Vanilla CBOW and Skip-Gram Model\n",
    "\n",
    "In this subsection, we run vanilla Word2Vec model with **vector size of 5**, **window of 5** and **minimum count of 1** to obtain **Word2Vec baseline performance.**"
   ]
  },
  {
   "cell_type": "code",
   "execution_count": null,
   "metadata": {
    "colab": {
     "base_uri": "https://localhost:8080/"
    },
    "id": "B4InX8cnonWb",
    "outputId": "bfff88f3-ec88-4ca1-d2fa-d7b4e89c94d7"
   },
   "outputs": [
    {
     "name": "stdout",
     "output_type": "stream",
     "text": [
      "Loss after epoch 0: 14055218.0\n",
      "Loss after epoch 1: 10277026.0\n",
      "Loss after epoch 2: 9374800.0\n",
      "CPU times: user 3min 53s, sys: 1.11 s, total: 3min 54s\n",
      "Wall time: 2min 9s\n"
     ]
    }
   ],
   "source": [
    "%%time\n",
    "# Vanilla CBOW model\n",
    "# Defining model \n",
    "model = Word2Vec(vector_size=5, workers=4, min_count=1, compute_loss=True)\n",
    "\n",
    "# Training Vanilla CBOW model\n",
    "train_word2vec(X_train_w2v, model, epochs=3)"
   ]
  },
  {
   "cell_type": "code",
   "execution_count": null,
   "metadata": {
    "colab": {
     "base_uri": "https://localhost:8080/"
    },
    "id": "DlAcslXl9NVq",
    "outputId": "9a3a835e-896a-4d2f-d4c5-7292c0e8aaa9"
   },
   "outputs": [
    {
     "name": "stdout",
     "output_type": "stream",
     "text": [
      "Number of vocabulary items: 258031\n"
     ]
    }
   ],
   "source": [
    "print(\"Number of vocabulary items:\",len(model.wv.index_to_key))"
   ]
  },
  {
   "cell_type": "code",
   "execution_count": null,
   "metadata": {
    "colab": {
     "base_uri": "https://localhost:8080/"
    },
    "id": "UYh3qQRKAPA9",
    "outputId": "9c537e4f-c97f-4ea1-fd1e-16f4c911fcff"
   },
   "outputs": [
    {
     "name": "stdout",
     "output_type": "stream",
     "text": [
      "Example Vocabulary Items:\n"
     ]
    },
    {
     "data": {
      "text/plain": [
       "['INT',\n",
       " 'FLOAT',\n",
       " 'group',\n",
       " 'percentage',\n",
       " 'patient',\n",
       " 'equal',\n",
       " 'study',\n",
       " 'treatment',\n",
       " 'smaller',\n",
       " 'control',\n",
       " 'compare',\n",
       " 'thi',\n",
       " 'effect',\n",
       " 'randomize',\n",
       " 'month']"
      ]
     },
     "execution_count": 74,
     "metadata": {
      "tags": []
     },
     "output_type": "execute_result"
    }
   ],
   "source": [
    "print(\"Example Vocabulary Items:\")\n",
    "model.wv.index_to_key[0: 15]"
   ]
  },
  {
   "cell_type": "code",
   "execution_count": null,
   "metadata": {
    "colab": {
     "base_uri": "https://localhost:8080/"
    },
    "id": "pMV1PVCss-Mn",
    "outputId": "9626498c-181b-4d53-d49f-010592635f0e"
   },
   "outputs": [
    {
     "name": "stdout",
     "output_type": "stream",
     "text": [
      "Word: participant\n",
      "[('nondiscriminator', 0.9996463656425476), ('gb43', 0.9986741542816162), ('blankenship', 0.9981800317764282), ('x2000', 0.9980732202529907), ('usual', 0.9968590140342712)]\n",
      "Word: survivor\n",
      "[('nct01057043', 0.9974766373634338), ('dampnessexpel', 0.9965510368347168), ('psychosomatically', 0.9946552515029907), ('nonzincdeficient', 0.9945807456970215), ('diagnosi', 0.9942414164543152)]\n",
      "Word: cancer\n",
      "[('oviducal', 0.9984340071678162), ('indication', 0.9954898953437805), ('mammaryleft', 0.9935178160667419), ('highrisk', 0.9923037886619568), ('gammaglutamyltransaminase', 0.991998016834259)]\n"
     ]
    }
   ],
   "source": [
    "# Example embeddings of Vanilla CBOW model\n",
    "words_list= [\"participant\", \"survivor\", \"cancer\"]\n",
    "show_example_embeddings(model, words_list)"
   ]
  },
  {
   "cell_type": "markdown",
   "metadata": {
    "id": "jU5uuq3oBj3e"
   },
   "source": [
    "As expected, vanilla CBOW model with very limited vector size, full vocabulary usage and low number of epochs did not result very good embeddings.\n",
    "\n",
    "Quantitatively, one can observe that query words and their most similar 5 words w.r.t embedding space distances do not align semantically and syntactically. "
   ]
  },
  {
   "cell_type": "code",
   "execution_count": null,
   "metadata": {
    "colab": {
     "base_uri": "https://localhost:8080/",
     "height": 168,
     "referenced_widgets": [
      "3354d2fc1aaa4f60a61291a15868dcd5",
      "80cfe55020b2404ea7ea7357100644ff",
      "15103fd9bfa4438c9d4034e398dcace0"
     ]
    },
    "id": "x1s_7AQrtJT0",
    "outputId": "50d3add4-286b-461e-87f9-3017095cde5b"
   },
   "outputs": [
    {
     "data": {
      "application/vnd.jupyter.widget-view+json": {
       "model_id": "3354d2fc1aaa4f60a61291a15868dcd5",
       "version_major": 2,
       "version_minor": 0
      },
      "text/plain": [
       "HBox(children=(FloatProgress(value=0.0, max=2211538.0), HTML(value='')))"
      ]
     },
     "metadata": {
      "tags": []
     },
     "output_type": "display_data"
    },
    {
     "name": "stdout",
     "output_type": "stream",
     "text": [
      "\n"
     ]
    },
    {
     "data": {
      "application/vnd.jupyter.widget-view+json": {
       "model_id": "80cfe55020b2404ea7ea7357100644ff",
       "version_major": 2,
       "version_minor": 0
      },
      "text/plain": [
       "HBox(children=(FloatProgress(value=0.0, max=28929.0), HTML(value='')))"
      ]
     },
     "metadata": {
      "tags": []
     },
     "output_type": "display_data"
    },
    {
     "name": "stdout",
     "output_type": "stream",
     "text": [
      "\n"
     ]
    },
    {
     "data": {
      "application/vnd.jupyter.widget-view+json": {
       "model_id": "15103fd9bfa4438c9d4034e398dcace0",
       "version_major": 2,
       "version_minor": 0
      },
      "text/plain": [
       "HBox(children=(FloatProgress(value=0.0, max=29487.0), HTML(value='')))"
      ]
     },
     "metadata": {
      "tags": []
     },
     "output_type": "display_data"
    },
    {
     "name": "stdout",
     "output_type": "stream",
     "text": [
      "\n"
     ]
    }
   ],
   "source": [
    "# Building \n",
    "feature_space_train = create_feature_space(X_train_w2v, model)\n",
    "feature_space_val = create_feature_space(X_val_w2v, model)\n",
    "feature_space_test = create_feature_space(X_test_w2v, model)\n"
   ]
  },
  {
   "cell_type": "code",
   "execution_count": null,
   "metadata": {
    "colab": {
     "base_uri": "https://localhost:8080/"
    },
    "id": "Szmx9HRZtWwi",
    "outputId": "f5c32e96-45b2-485e-abc2-6d14cb586502"
   },
   "outputs": [
    {
     "name": "stdout",
     "output_type": "stream",
     "text": [
      "Training Set Accuracy:0.552\n",
      "Validation Set Accuracy:0.557\n",
      "Test Set Accuracy:0.553\n",
      "\n",
      "\n",
      "Training Set Weighted F1-Score:0.521\n",
      "Validation Set Weighted F1-Score:0.525\n",
      "Test Set Weighted F1-Score:0.524\n",
      "\n",
      "\n",
      "CPU times: user 1min 18s, sys: 13.1 s, total: 1min 31s\n",
      "Wall time: 1min 12s\n"
     ]
    }
   ],
   "source": [
    "%%time\n",
    "# Training Logistic Regression on top of Vanilla CBOW model\n",
    "classifier = LogisticRegression(random_state=49)\n",
    "\n",
    "train_LR_clf(feature_space_train, feature_space_val, feature_space_test, \n",
    "             y_train_cleaned, y_val_cleaned, y_test_cleaned,\n",
    "             classifier, vectorizer=None)"
   ]
  },
  {
   "cell_type": "markdown",
   "metadata": {
    "id": "fOE3Wc1QG5Qp"
   },
   "source": [
    "Quantitatively, model performance of Logistic Regression trained with Vanilla CBOW embeddings are not good at all either, however, this performance is also expected.\n",
    "\n",
    "In the following, we trained Vanilla Skip-Gram model and compare its performance with the Vanialla CBOW qualitatively and quantitatively."
   ]
  },
  {
   "cell_type": "code",
   "execution_count": null,
   "metadata": {
    "colab": {
     "base_uri": "https://localhost:8080/"
    },
    "id": "BL9vQWNglFrz",
    "outputId": "aeef2b32-e35a-47bc-8cc7-0dc60dad91a2"
   },
   "outputs": [
    {
     "name": "stdout",
     "output_type": "stream",
     "text": [
      "Loss after epoch 0: 44280720.0\n",
      "Loss after epoch 1: 23081848.0\n",
      "Loss after epoch 2: 1565576.0\n",
      "CPU times: user 10min 9s, sys: 1.25 s, total: 10min 10s\n",
      "Wall time: 5min 17s\n"
     ]
    }
   ],
   "source": [
    "%%time\n",
    "# Vanilla Skip-Gram model\n",
    "# Defining model \n",
    "model = Word2Vec(vector_size=5, workers=4, min_count=1, compute_loss=True, sg=1)\n",
    "\n",
    "# Training Vanilla Skip-Gram model\n",
    "train_word2vec(X_train_w2v, model, epochs=3)"
   ]
  },
  {
   "cell_type": "code",
   "execution_count": null,
   "metadata": {
    "colab": {
     "base_uri": "https://localhost:8080/"
    },
    "id": "cPMwou68lF0q",
    "outputId": "e03c330f-720a-452a-88c8-3d390afd6dc8"
   },
   "outputs": [
    {
     "name": "stdout",
     "output_type": "stream",
     "text": [
      "Word: participant\n",
      "[('educationfeedback', 0.9984633922576904), ('supraaponeurotic', 0.9980062246322632), ('nonsmoke', 0.9979084134101868), ('ayrshire', 0.9973441958427429), ('capita', 0.9972996711730957)]\n",
      "Word: survivor\n",
      "[('nocondom', 0.9985717535018921), ('transferoverspill', 0.9985053539276123), ('questionnaireovarian', 0.9983305335044861), ('pharmacoprophylactic', 0.9979578256607056), ('undiagnose', 0.9979289770126343)]\n",
      "Word: cancer\n",
      "[('szapocznik', 0.999329149723053), ('imethylene', 0.9988652467727661), ('psychophysiologically', 0.9987971782684326), ('profiledutch', 0.998603343963623), ('byer', 0.9984163045883179)]\n"
     ]
    }
   ],
   "source": [
    "# Example embeddings of Vanilla Skip-Gram model\n",
    "words_list= [\"participant\", \"survivor\", \"cancer\"]\n",
    "show_example_embeddings(model, words_list)"
   ]
  },
  {
   "cell_type": "markdown",
   "metadata": {
    "id": "0vjaTv77ITx9"
   },
   "source": [
    "Please note that above embedding examples are different than those of CBOW's. Since these two models function in a different way, it is normal to obtain highly differing embeddings since models are trained with very low number of epochs and vanilla parameters."
   ]
  },
  {
   "cell_type": "code",
   "execution_count": null,
   "metadata": {
    "colab": {
     "base_uri": "https://localhost:8080/",
     "height": 168,
     "referenced_widgets": [
      "da7e28510fb149aab3fb8ff54bcd2877",
      "6fb3f8d98b554058b841c7d8319993a6",
      "f5cd5c79b9bf4064aa0a0b30e8149b60"
     ]
    },
    "id": "Pc1Hk2I6pHiH",
    "outputId": "7be8902e-77b8-4aaf-bb47-ff3bbf69c460"
   },
   "outputs": [
    {
     "data": {
      "application/vnd.jupyter.widget-view+json": {
       "model_id": "da7e28510fb149aab3fb8ff54bcd2877",
       "version_major": 2,
       "version_minor": 0
      },
      "text/plain": [
       "HBox(children=(FloatProgress(value=0.0, max=2211538.0), HTML(value='')))"
      ]
     },
     "metadata": {
      "tags": []
     },
     "output_type": "display_data"
    },
    {
     "name": "stdout",
     "output_type": "stream",
     "text": [
      "\n"
     ]
    },
    {
     "data": {
      "application/vnd.jupyter.widget-view+json": {
       "model_id": "6fb3f8d98b554058b841c7d8319993a6",
       "version_major": 2,
       "version_minor": 0
      },
      "text/plain": [
       "HBox(children=(FloatProgress(value=0.0, max=28929.0), HTML(value='')))"
      ]
     },
     "metadata": {
      "tags": []
     },
     "output_type": "display_data"
    },
    {
     "name": "stdout",
     "output_type": "stream",
     "text": [
      "\n"
     ]
    },
    {
     "data": {
      "application/vnd.jupyter.widget-view+json": {
       "model_id": "f5cd5c79b9bf4064aa0a0b30e8149b60",
       "version_major": 2,
       "version_minor": 0
      },
      "text/plain": [
       "HBox(children=(FloatProgress(value=0.0, max=29487.0), HTML(value='')))"
      ]
     },
     "metadata": {
      "tags": []
     },
     "output_type": "display_data"
    },
    {
     "name": "stdout",
     "output_type": "stream",
     "text": [
      "\n"
     ]
    }
   ],
   "source": [
    "# Building feature representation and averaging.\n",
    "feature_space_train = create_feature_space(X_train_w2v, model)\n",
    "feature_space_val = create_feature_space(X_val_w2v, model)\n",
    "feature_space_test = create_feature_space(X_test_w2v, model)\n"
   ]
  },
  {
   "cell_type": "code",
   "execution_count": null,
   "metadata": {
    "colab": {
     "base_uri": "https://localhost:8080/"
    },
    "id": "eQhvVhFDlF77",
    "outputId": "c39e9f2e-c62f-440a-8f7d-8b301110a597"
   },
   "outputs": [
    {
     "name": "stderr",
     "output_type": "stream",
     "text": [
      "/usr/local/lib/python3.7/dist-packages/sklearn/linear_model/_logistic.py:940: ConvergenceWarning: lbfgs failed to converge (status=1):\n",
      "STOP: TOTAL NO. of ITERATIONS REACHED LIMIT.\n",
      "\n",
      "Increase the number of iterations (max_iter) or scale the data as shown in:\n",
      "    https://scikit-learn.org/stable/modules/preprocessing.html\n",
      "Please also refer to the documentation for alternative solver options:\n",
      "    https://scikit-learn.org/stable/modules/linear_model.html#logistic-regression\n",
      "  extra_warning_msg=_LOGISTIC_SOLVER_CONVERGENCE_MSG)\n"
     ]
    },
    {
     "name": "stdout",
     "output_type": "stream",
     "text": [
      "Training Set Accuracy:0.539\n",
      "Validation Set Accuracy:0.545\n",
      "Test Set Accuracy:0.543\n",
      "\n",
      "\n",
      "Training Set Weighted F1-Score:0.510\n",
      "Validation Set Weighted F1-Score:0.515\n",
      "Test Set Weighted F1-Score:0.516\n",
      "\n",
      "\n",
      "CPU times: user 2min, sys: 20.3 s, total: 2min 20s\n",
      "Wall time: 1min 50s\n"
     ]
    }
   ],
   "source": [
    "%%time\n",
    "# Training Logistic Regression on top of Vanilla Skip-Gram model\n",
    "classifier = LogisticRegression(random_state=49)\n",
    "\n",
    "train_LR_clf(feature_space_train, feature_space_val, feature_space_test, \n",
    "             y_train_cleaned, y_val_cleaned, y_test_cleaned,\n",
    "             classifier, vectorizer=None)"
   ]
  },
  {
   "cell_type": "markdown",
   "metadata": {
    "id": "emRL8aXjJbpo"
   },
   "source": [
    "Quantitatively, model performance of Logistic Regression trained with Vanilla Skip-Gram embeddings are not good at all either.\n",
    "\n"
   ]
  },
  {
   "cell_type": "markdown",
   "metadata": {
    "id": "TPZEIeCB0q_f"
   },
   "source": [
    "#### Task3.2 CBOW and Skip-Gram Models: vector_size=50, epochs=3, min_count=1 and windows=5"
   ]
  },
  {
   "cell_type": "code",
   "execution_count": null,
   "metadata": {
    "colab": {
     "base_uri": "https://localhost:8080/"
    },
    "id": "haaMh091uNJ6",
    "outputId": "b46c0792-ca59-46fc-d7b0-20d008aea042"
   },
   "outputs": [
    {
     "name": "stdout",
     "output_type": "stream",
     "text": [
      "Loss after epoch 0: 11787680.0\n",
      "Loss after epoch 1: 8404798.0\n",
      "Loss after epoch 2: 7033482.0\n",
      "CPU times: user 5min 24s, sys: 1.18 s, total: 5min 25s\n",
      "Wall time: 2min 53s\n"
     ]
    }
   ],
   "source": [
    "%%time\n",
    "# CBOW Model\n",
    "# Defining model \n",
    "model2 = Word2Vec(vector_size=50, workers=4, min_count=1, compute_loss=True)\n",
    "\n",
    "# Training CBOW\n",
    "train_word2vec(X_train_w2v, model2, epochs=3)"
   ]
  },
  {
   "cell_type": "markdown",
   "metadata": {
    "id": "HvVsS3k21zcs"
   },
   "source": [
    "Compared to vanilla CBOW model, the loss decreased much more in this model."
   ]
  },
  {
   "cell_type": "code",
   "execution_count": null,
   "metadata": {
    "colab": {
     "base_uri": "https://localhost:8080/"
    },
    "id": "1p3mK4T1uNWx",
    "outputId": "613b6018-6f60-479a-f467-55f16bba72ae"
   },
   "outputs": [
    {
     "name": "stdout",
     "output_type": "stream",
     "text": [
      "Word: participant\n",
      "[('subject', 0.8259379863739014), ('individual', 0.7983267307281494), ('respondent', 0.7285908460617065), ('person', 0.7263957262039185), ('smoker', 0.7155201435089111)]\n",
      "Word: survivor\n",
      "[('person', 0.6864812970161438), ('people', 0.6671550869941711), ('elder', 0.6463449597358704), ('frail', 0.6221304535865784), ('employee', 0.573591411113739)]\n",
      "Word: cancer\n",
      "[('carcinoma', 0.8137125372886658), ('adenocarcinoma', 0.7920408844947815), ('neoplasm', 0.7347849011421204), ('cancerspecific', 0.7320946455001831), ('lymphedema', 0.7192143201828003)]\n"
     ]
    }
   ],
   "source": [
    "# Example embeddings of CBOW Model with Increased Vector Size\n",
    "\n",
    "words_list= [\"participant\", \"survivor\", \"cancer\"]\n",
    "show_example_embeddings(model2, words_list)"
   ]
  },
  {
   "cell_type": "markdown",
   "metadata": {
    "id": "Q8KI-Y548FKx"
   },
   "source": [
    "Additionally, when we analyze the the most similar words for \"participant, survivor and cancer\" , we can easily observe that most similar top 5 words for the query words make much more sense than vanilla CBOW model outcome.  \n",
    "\n",
    "For instance, most similar words of:\n",
    "*   Participant are:  **subject, individual, respondent, person** \n",
    "*   Survivor are:**person, people, elder, frail, employee**\n",
    "* Cancer are: **carnicoma, adenocarcinoma, neoplasm, cancerspecific, lymphedema**\n",
    "\n",
    "Within qualitative perspective, these results shows that trained CBOW model is able to capture semantic relationships of the words. Thus, distance between participants and subject/individual/respondent/person are lower in the embedding space. \n",
    "\n"
   ]
  },
  {
   "cell_type": "code",
   "execution_count": null,
   "metadata": {
    "colab": {
     "base_uri": "https://localhost:8080/",
     "height": 168,
     "referenced_widgets": [
      "5d3539ed14dd41218594ff3644983289",
      "5e96809ff7cd4a6595131477fa9950ed",
      "09ee08ae2a3e44bc84b6b17d4389081c"
     ]
    },
    "id": "oX5YkwZJKmtq",
    "outputId": "b631b47e-0551-4d83-f55e-c9ce9bd6d624"
   },
   "outputs": [
    {
     "data": {
      "application/vnd.jupyter.widget-view+json": {
       "model_id": "5d3539ed14dd41218594ff3644983289",
       "version_major": 2,
       "version_minor": 0
      },
      "text/plain": [
       "HBox(children=(FloatProgress(value=0.0, max=2211538.0), HTML(value='')))"
      ]
     },
     "metadata": {
      "tags": []
     },
     "output_type": "display_data"
    },
    {
     "name": "stdout",
     "output_type": "stream",
     "text": [
      "\n"
     ]
    },
    {
     "data": {
      "application/vnd.jupyter.widget-view+json": {
       "model_id": "5e96809ff7cd4a6595131477fa9950ed",
       "version_major": 2,
       "version_minor": 0
      },
      "text/plain": [
       "HBox(children=(FloatProgress(value=0.0, max=28929.0), HTML(value='')))"
      ]
     },
     "metadata": {
      "tags": []
     },
     "output_type": "display_data"
    },
    {
     "name": "stdout",
     "output_type": "stream",
     "text": [
      "\n"
     ]
    },
    {
     "data": {
      "application/vnd.jupyter.widget-view+json": {
       "model_id": "09ee08ae2a3e44bc84b6b17d4389081c",
       "version_major": 2,
       "version_minor": 0
      },
      "text/plain": [
       "HBox(children=(FloatProgress(value=0.0, max=29487.0), HTML(value='')))"
      ]
     },
     "metadata": {
      "tags": []
     },
     "output_type": "display_data"
    },
    {
     "name": "stdout",
     "output_type": "stream",
     "text": [
      "\n"
     ]
    }
   ],
   "source": [
    "# Building feature representation and averaging.\n",
    "feature_space_train = create_feature_space(X_train_w2v, model2)\n",
    "feature_space_val = create_feature_space(X_val_w2v, model2)\n",
    "feature_space_test = create_feature_space(X_test_w2v, model2)"
   ]
  },
  {
   "cell_type": "code",
   "execution_count": null,
   "metadata": {
    "colab": {
     "base_uri": "https://localhost:8080/"
    },
    "id": "1T5s5L1k1TZy",
    "outputId": "ad3962f3-e127-4898-b2f8-a85113438440"
   },
   "outputs": [
    {
     "name": "stderr",
     "output_type": "stream",
     "text": [
      "/usr/local/lib/python3.7/dist-packages/sklearn/linear_model/_logistic.py:940: ConvergenceWarning: lbfgs failed to converge (status=1):\n",
      "STOP: TOTAL NO. of ITERATIONS REACHED LIMIT.\n",
      "\n",
      "Increase the number of iterations (max_iter) or scale the data as shown in:\n",
      "    https://scikit-learn.org/stable/modules/preprocessing.html\n",
      "Please also refer to the documentation for alternative solver options:\n",
      "    https://scikit-learn.org/stable/modules/linear_model.html#logistic-regression\n",
      "  extra_warning_msg=_LOGISTIC_SOLVER_CONVERGENCE_MSG)\n"
     ]
    },
    {
     "name": "stdout",
     "output_type": "stream",
     "text": [
      "Training Set Accuracy:0.708\n",
      "Validation Set Accuracy:0.713\n",
      "Test Set Accuracy:0.716\n",
      "\n",
      "\n",
      "Training Set Weighted F1-Score:0.700\n",
      "Validation Set Weighted F1-Score:0.704\n",
      "Test Set Weighted F1-Score:0.707\n",
      "\n",
      "\n",
      "CPU times: user 3min 33s, sys: 28.6 s, total: 4min 1s\n",
      "Wall time: 2min 44s\n"
     ]
    }
   ],
   "source": [
    "%%time\n",
    "# Training Logistic Regression on top of CBOW Model with increased vector size\n",
    "classifier = LogisticRegression(random_state=49)\n",
    "\n",
    "train_LR_clf(feature_space_train, feature_space_val, feature_space_test, \n",
    "             y_train_cleaned, y_val_cleaned, y_test_cleaned,\n",
    "             classifier, vectorizer=None)"
   ]
  },
  {
   "cell_type": "code",
   "execution_count": null,
   "metadata": {
    "colab": {
     "base_uri": "https://localhost:8080/"
    },
    "id": "VDGyXcQ9uNUa",
    "outputId": "95f14d2d-322c-4334-b56a-febf74650c39"
   },
   "outputs": [
    {
     "name": "stdout",
     "output_type": "stream",
     "text": [
      "Loss after epoch 0: 43180304.0\n",
      "Loss after epoch 1: 24168304.0\n",
      "Loss after epoch 2: 1824736.0\n",
      "CPU times: user 16min 15s, sys: 1.64 s, total: 16min 17s\n",
      "Wall time: 8min 23s\n"
     ]
    }
   ],
   "source": [
    "%%time\n",
    "# Skip-Gram model\n",
    "# Defining model \n",
    "model2_1 = Word2Vec(vector_size=50, workers=4, min_count=1, compute_loss=True, sg=1)\n",
    "\n",
    "# Training word2vec\n",
    "train_word2vec(X_train_w2v, model2_1, epochs=3)"
   ]
  },
  {
   "cell_type": "code",
   "execution_count": null,
   "metadata": {
    "colab": {
     "base_uri": "https://localhost:8080/"
    },
    "id": "rm_-twRW-6e-",
    "outputId": "921d551c-952a-41f4-8068-496503216700"
   },
   "outputs": [
    {
     "name": "stdout",
     "output_type": "stream",
     "text": [
      "Word: participant\n",
      "[('subject', 0.8683319687843323), ('individual', 0.862023115158081), ('prescreen', 0.8249556422233582), ('person', 0.8247018456459045), ('fmg', 0.8243748545646667)]\n",
      "Word: survivor\n",
      "[('postdiagnosi', 0.8062800765037537), ('aya', 0.7985648512840271), ('spousal', 0.7869260311126709), ('hnc', 0.7853652834892273), ('earthquake', 0.7770622372627258)]\n",
      "Word: cancer\n",
      "[('colorectal', 0.8928840160369873), ('breast', 0.8842729926109314), ('hnc', 0.8689796924591064), ('operable', 0.8650813698768616), ('estrogenreceptorpositive', 0.8624686598777771)]\n"
     ]
    }
   ],
   "source": [
    "# Example embeddings of Skip-Gram Model with Increased Vector Size\n",
    "\n",
    "words_list= [\"participant\", \"survivor\", \"cancer\"]\n",
    "show_example_embeddings(model2_1, words_list)\n"
   ]
  },
  {
   "cell_type": "code",
   "execution_count": null,
   "metadata": {
    "colab": {
     "base_uri": "https://localhost:8080/",
     "height": 168,
     "referenced_widgets": [
      "a8de7ebf50854a388c5b64e908949ca8",
      "3855325d253d4b2880510b5c3d698db3",
      "49423ce5ccb042c192d668478603df73"
     ]
    },
    "id": "DxzfLdqIM-QO",
    "outputId": "c94fba54-ddb7-4b56-d38e-2f7487758b03"
   },
   "outputs": [
    {
     "data": {
      "application/vnd.jupyter.widget-view+json": {
       "model_id": "a8de7ebf50854a388c5b64e908949ca8",
       "version_major": 2,
       "version_minor": 0
      },
      "text/plain": [
       "HBox(children=(FloatProgress(value=0.0, max=2211538.0), HTML(value='')))"
      ]
     },
     "metadata": {
      "tags": []
     },
     "output_type": "display_data"
    },
    {
     "name": "stdout",
     "output_type": "stream",
     "text": [
      "\n"
     ]
    },
    {
     "data": {
      "application/vnd.jupyter.widget-view+json": {
       "model_id": "3855325d253d4b2880510b5c3d698db3",
       "version_major": 2,
       "version_minor": 0
      },
      "text/plain": [
       "HBox(children=(FloatProgress(value=0.0, max=28929.0), HTML(value='')))"
      ]
     },
     "metadata": {
      "tags": []
     },
     "output_type": "display_data"
    },
    {
     "name": "stdout",
     "output_type": "stream",
     "text": [
      "\n"
     ]
    },
    {
     "data": {
      "application/vnd.jupyter.widget-view+json": {
       "model_id": "49423ce5ccb042c192d668478603df73",
       "version_major": 2,
       "version_minor": 0
      },
      "text/plain": [
       "HBox(children=(FloatProgress(value=0.0, max=29487.0), HTML(value='')))"
      ]
     },
     "metadata": {
      "tags": []
     },
     "output_type": "display_data"
    },
    {
     "name": "stdout",
     "output_type": "stream",
     "text": [
      "\n"
     ]
    }
   ],
   "source": [
    "# Building feature representation and averaging.\n",
    "feature_space_train = create_feature_space(X_train_w2v, model2_1)\n",
    "feature_space_val = create_feature_space(X_val_w2v, model2_1)\n",
    "feature_space_test = create_feature_space(X_test_w2v, model2_1)"
   ]
  },
  {
   "cell_type": "code",
   "execution_count": null,
   "metadata": {
    "colab": {
     "base_uri": "https://localhost:8080/"
    },
    "id": "waUNZO28-6jy",
    "outputId": "3ed29000-bf02-4767-e69f-b923e9be6e1b"
   },
   "outputs": [
    {
     "name": "stderr",
     "output_type": "stream",
     "text": [
      "/usr/local/lib/python3.7/dist-packages/sklearn/linear_model/_logistic.py:940: ConvergenceWarning: lbfgs failed to converge (status=1):\n",
      "STOP: TOTAL NO. of ITERATIONS REACHED LIMIT.\n",
      "\n",
      "Increase the number of iterations (max_iter) or scale the data as shown in:\n",
      "    https://scikit-learn.org/stable/modules/preprocessing.html\n",
      "Please also refer to the documentation for alternative solver options:\n",
      "    https://scikit-learn.org/stable/modules/linear_model.html#logistic-regression\n",
      "  extra_warning_msg=_LOGISTIC_SOLVER_CONVERGENCE_MSG)\n"
     ]
    },
    {
     "name": "stdout",
     "output_type": "stream",
     "text": [
      "Training Set Accuracy:0.708\n",
      "Validation Set Accuracy:0.714\n",
      "Test Set Accuracy:0.714\n",
      "\n",
      "\n",
      "Training Set Weighted F1-Score:0.700\n",
      "Validation Set Weighted F1-Score:0.705\n",
      "Test Set Weighted F1-Score:0.705\n",
      "\n",
      "\n",
      "CPU times: user 3min 36s, sys: 26.4 s, total: 4min 2s\n",
      "Wall time: 2min 44s\n"
     ]
    }
   ],
   "source": [
    "%%time\n",
    "classifier = LogisticRegression(random_state=49)\n",
    "\n",
    "train_LR_clf(feature_space_train, feature_space_val, feature_space_test, \n",
    "             y_train_cleaned, y_val_cleaned, y_test_cleaned,\n",
    "             classifier, vectorizer=None)"
   ]
  },
  {
   "cell_type": "markdown",
   "metadata": {
    "id": "yt6XOQN27NVx"
   },
   "source": [
    "#### Task3.3 CBOW and Skip-Gram Models Hyperparameter Tunning\n",
    "\n",
    "In this section of the code, we experimented different hyperparameters of the CBOW and Skip-Gram models."
   ]
  },
  {
   "cell_type": "markdown",
   "metadata": {
    "id": "G8B59XzMhIl8"
   },
   "source": [
    "##### Task 3.3.1: CBOW and Skip-Gram Models: vector_size=50, epochs=3, min_count=5, windows=5"
   ]
  },
  {
   "cell_type": "code",
   "execution_count": null,
   "metadata": {
    "colab": {
     "base_uri": "https://localhost:8080/"
    },
    "id": "yeif1ZaChSx2",
    "outputId": "889b19d8-1b55-4c01-8f7d-c4255a268cfd"
   },
   "outputs": [
    {
     "name": "stdout",
     "output_type": "stream",
     "text": [
      "Loss after epoch 0: 11277552.0\n",
      "Loss after epoch 1: 8311884.0\n",
      "Loss after epoch 2: 7063216.0\n",
      "CPU times: user 5min 18s, sys: 1.17 s, total: 5min 19s\n",
      "Wall time: 2min 48s\n"
     ]
    }
   ],
   "source": [
    "%%time\n",
    "# CBOW Model\n",
    "# Defining model \n",
    "model3 = Word2Vec(vector_size=50, workers=4, min_count=5, compute_loss=True, sg=0)\n",
    "\n",
    "# Training word2vec\n",
    "train_word2vec(X_train_w2v, model3, epochs=3)"
   ]
  },
  {
   "cell_type": "code",
   "execution_count": null,
   "metadata": {
    "colab": {
     "base_uri": "https://localhost:8080/"
    },
    "id": "k5v2eE63hS2x",
    "outputId": "9b8a21bc-ba1a-45a2-a9f2-fbe14a5f1c92"
   },
   "outputs": [
    {
     "name": "stdout",
     "output_type": "stream",
     "text": [
      "Word: participant\n",
      "[('subject', 0.7992112636566162), ('individual', 0.7704907655715942), ('youth', 0.7158053517341614), ('respondent', 0.7145599722862244), ('person', 0.7125509977340698)]\n",
      "Word: survivor\n",
      "[('people', 0.648815393447876), ('person', 0.6453763246536255), ('elder', 0.6266460418701172), ('hnc', 0.6018111705780029), ('frail', 0.5992830991744995)]\n",
      "Word: cancer\n",
      "[('carcinoma', 0.7968781590461731), ('adenocarcinoma', 0.7768115401268005), ('cancerspecific', 0.7083814740180969), ('crc', 0.6828793883323669), ('carcinogenesi', 0.6792387962341309)]\n"
     ]
    }
   ],
   "source": [
    "# Word2Vec Model with Increased Vector Size\n",
    "words_list= [\"participant\", \"survivor\", \"cancer\"]\n",
    "show_example_embeddings(model3, words_list)\n"
   ]
  },
  {
   "cell_type": "code",
   "execution_count": null,
   "metadata": {
    "colab": {
     "base_uri": "https://localhost:8080/",
     "height": 168,
     "referenced_widgets": [
      "279139fe8f8049b781edb2c3ca0c3e10",
      "2a0b4b654141437a8d0ebcd5c22dd832",
      "6a144a9cb1dd4568be5bde85ddfaa21f"
     ]
    },
    "id": "aPwDhXGFPF8q",
    "outputId": "2a2d7594-1331-4fc2-bbc2-bbaa932a0ffb"
   },
   "outputs": [
    {
     "data": {
      "application/vnd.jupyter.widget-view+json": {
       "model_id": "279139fe8f8049b781edb2c3ca0c3e10",
       "version_major": 2,
       "version_minor": 0
      },
      "text/plain": [
       "HBox(children=(FloatProgress(value=0.0, max=2211538.0), HTML(value='')))"
      ]
     },
     "metadata": {
      "tags": []
     },
     "output_type": "display_data"
    },
    {
     "name": "stdout",
     "output_type": "stream",
     "text": [
      "\n"
     ]
    },
    {
     "data": {
      "application/vnd.jupyter.widget-view+json": {
       "model_id": "2a0b4b654141437a8d0ebcd5c22dd832",
       "version_major": 2,
       "version_minor": 0
      },
      "text/plain": [
       "HBox(children=(FloatProgress(value=0.0, max=28929.0), HTML(value='')))"
      ]
     },
     "metadata": {
      "tags": []
     },
     "output_type": "display_data"
    },
    {
     "name": "stdout",
     "output_type": "stream",
     "text": [
      "\n"
     ]
    },
    {
     "data": {
      "application/vnd.jupyter.widget-view+json": {
       "model_id": "6a144a9cb1dd4568be5bde85ddfaa21f",
       "version_major": 2,
       "version_minor": 0
      },
      "text/plain": [
       "HBox(children=(FloatProgress(value=0.0, max=29487.0), HTML(value='')))"
      ]
     },
     "metadata": {
      "tags": []
     },
     "output_type": "display_data"
    },
    {
     "name": "stdout",
     "output_type": "stream",
     "text": [
      "\n"
     ]
    }
   ],
   "source": [
    "# Building feature representation and averaging.\n",
    "feature_space_train = create_feature_space(X_train_w2v, model3)\n",
    "feature_space_val = create_feature_space(X_val_w2v, model3)\n",
    "feature_space_test = create_feature_space(X_test_w2v, model3)"
   ]
  },
  {
   "cell_type": "code",
   "execution_count": null,
   "metadata": {
    "colab": {
     "base_uri": "https://localhost:8080/"
    },
    "id": "4Jt3wcN7hS58",
    "outputId": "15fecae0-bf3f-4577-b289-8852dd88dc58"
   },
   "outputs": [
    {
     "name": "stdout",
     "output_type": "stream",
     "text": [
      "Training Set Accuracy:0.706\n",
      "Validation Set Accuracy:0.709\n",
      "Test Set Accuracy:0.713\n",
      "\n",
      "\n",
      "Training Set Weighted F1-Score:0.697\n",
      "Validation Set Weighted F1-Score:0.700\n",
      "Test Set Weighted F1-Score:0.704\n",
      "\n",
      "\n",
      "CPU times: user 3min 35s, sys: 26.4 s, total: 4min 1s\n",
      "Wall time: 2min 44s\n"
     ]
    }
   ],
   "source": [
    "%%time\n",
    "\n",
    "classifier = LogisticRegression(random_state=49)\n",
    "\n",
    "train_LR_clf(feature_space_train, feature_space_val, feature_space_test, \n",
    "             y_train_cleaned, y_val_cleaned, y_test_cleaned,\n",
    "             classifier, vectorizer=None)"
   ]
  },
  {
   "cell_type": "code",
   "execution_count": null,
   "metadata": {
    "colab": {
     "base_uri": "https://localhost:8080/"
    },
    "id": "DmgvVCU6CDLH",
    "outputId": "7ad24b0c-498e-4702-98a5-f1f48c0bb922"
   },
   "outputs": [
    {
     "name": "stdout",
     "output_type": "stream",
     "text": [
      "Loss after epoch 0: 43826400.0\n",
      "Loss after epoch 1: 23592168.0\n",
      "Loss after epoch 2: 1791488.0\n",
      "CPU times: user 15min 51s, sys: 1.8 s, total: 15min 53s\n",
      "Wall time: 8min 9s\n"
     ]
    }
   ],
   "source": [
    "%%time\n",
    "# Skip-Gram Model\n",
    "# Defining model \n",
    "model3_1 = Word2Vec(vector_size=50, workers=4, min_count=5, compute_loss=True, sg=1)\n",
    "\n",
    "# Training word2vec\n",
    "train_word2vec(X_train_w2v, model3_1, epochs=3)"
   ]
  },
  {
   "cell_type": "code",
   "execution_count": null,
   "metadata": {
    "colab": {
     "base_uri": "https://localhost:8080/"
    },
    "id": "8NnTSbfrCEAF",
    "outputId": "b8f7ec21-036a-4361-a1b3-d3aa5bc4d7b5"
   },
   "outputs": [
    {
     "name": "stdout",
     "output_type": "stream",
     "text": [
      "Word: participant\n",
      "[('precontemplator', 0.8310723304748535), ('subject', 0.8261450529098511), ('individual', 0.8214374780654907), ('clinicianfacilitate', 0.8080058097839355), ('contactable', 0.8073872923851013)]\n",
      "Word: survivor\n",
      "[('outlook', 0.7456892728805542), ('earthquake', 0.740979015827179), ('spousal', 0.7405822277069092), ('wife', 0.7328067421913147), ('homedwel', 0.727426290512085)]\n",
      "Word: cancer\n",
      "[('colorectal', 0.8841999173164368), ('breast', 0.8546613454818726), ('labc', 0.8514847755432129), ('iiiia', 0.8373386263847351), ('eoc', 0.8358437418937683)]\n"
     ]
    }
   ],
   "source": [
    "# Word2Vec Model with Increased Vector Size\n",
    "\n",
    "words_list= [\"participant\", \"survivor\", \"cancer\"]\n",
    "show_example_embeddings(model3_1, words_list)"
   ]
  },
  {
   "cell_type": "code",
   "execution_count": null,
   "metadata": {
    "colab": {
     "base_uri": "https://localhost:8080/",
     "height": 168,
     "referenced_widgets": [
      "16f9895ac5a04cd9b67a1ac11d9fcb2f",
      "3e7ff4e97da949468a04cef11590a606",
      "da29acf628a24dceab0f7d72b8bf4240"
     ]
    },
    "id": "w7WSugoFRbkI",
    "outputId": "b5b0fd9e-61da-4b31-a465-ebe0b6d287ff"
   },
   "outputs": [
    {
     "data": {
      "application/vnd.jupyter.widget-view+json": {
       "model_id": "16f9895ac5a04cd9b67a1ac11d9fcb2f",
       "version_major": 2,
       "version_minor": 0
      },
      "text/plain": [
       "HBox(children=(FloatProgress(value=0.0, max=2211538.0), HTML(value='')))"
      ]
     },
     "metadata": {
      "tags": []
     },
     "output_type": "display_data"
    },
    {
     "name": "stdout",
     "output_type": "stream",
     "text": [
      "\n"
     ]
    },
    {
     "data": {
      "application/vnd.jupyter.widget-view+json": {
       "model_id": "3e7ff4e97da949468a04cef11590a606",
       "version_major": 2,
       "version_minor": 0
      },
      "text/plain": [
       "HBox(children=(FloatProgress(value=0.0, max=28929.0), HTML(value='')))"
      ]
     },
     "metadata": {
      "tags": []
     },
     "output_type": "display_data"
    },
    {
     "name": "stdout",
     "output_type": "stream",
     "text": [
      "\n"
     ]
    },
    {
     "data": {
      "application/vnd.jupyter.widget-view+json": {
       "model_id": "da29acf628a24dceab0f7d72b8bf4240",
       "version_major": 2,
       "version_minor": 0
      },
      "text/plain": [
       "HBox(children=(FloatProgress(value=0.0, max=29487.0), HTML(value='')))"
      ]
     },
     "metadata": {
      "tags": []
     },
     "output_type": "display_data"
    },
    {
     "name": "stdout",
     "output_type": "stream",
     "text": [
      "\n"
     ]
    }
   ],
   "source": [
    "# Building feature representation and averaging.\n",
    "feature_space_train = create_feature_space(X_train_w2v, model3_1)\n",
    "feature_space_val = create_feature_space(X_val_w2v, model3_1)\n",
    "feature_space_test = create_feature_space(X_test_w2v, model3_1)"
   ]
  },
  {
   "cell_type": "code",
   "execution_count": null,
   "metadata": {
    "colab": {
     "base_uri": "https://localhost:8080/"
    },
    "id": "2cB3rkWSCEFC",
    "outputId": "d77f80d9-1bd7-43ca-f3b1-2f4e5938e9b7"
   },
   "outputs": [
    {
     "name": "stdout",
     "output_type": "stream",
     "text": [
      "Training Set Accuracy:0.710\n",
      "Validation Set Accuracy:0.715\n",
      "Test Set Accuracy:0.715\n",
      "\n",
      "\n",
      "Training Set Weighted F1-Score:0.702\n",
      "Validation Set Weighted F1-Score:0.707\n",
      "Test Set Weighted F1-Score:0.707\n",
      "\n",
      "\n",
      "CPU times: user 3min 32s, sys: 26.2 s, total: 3min 58s\n",
      "Wall time: 2min 41s\n"
     ]
    }
   ],
   "source": [
    "%%time\n",
    "\n",
    "classifier = LogisticRegression(random_state=49)\n",
    "\n",
    "train_LR_clf(feature_space_train, feature_space_val, feature_space_test, \n",
    "             y_train_cleaned, y_val_cleaned, y_test_cleaned,\n",
    "             classifier, vectorizer=None)"
   ]
  },
  {
   "cell_type": "markdown",
   "metadata": {
    "id": "APCBd6pyg23h"
   },
   "source": [
    "##### Task 3.3.2: CBOW and Skip-Gram Models with vector_size=100, epochs=8, min_count=5, windows=15 parameters."
   ]
  },
  {
   "cell_type": "code",
   "execution_count": null,
   "metadata": {
    "colab": {
     "base_uri": "https://localhost:8080/"
    },
    "id": "iR5T_OAtJ67l",
    "outputId": "0dbed8f6-dd49-4a7f-feea-f9e927f580d1"
   },
   "outputs": [
    {
     "name": "stdout",
     "output_type": "stream",
     "text": [
      "Loss after epoch 0: 10918410.0\n",
      "Loss after epoch 1: 8263626.0\n",
      "Loss after epoch 2: 7059956.0\n",
      "Loss after epoch 3: 7050752.0\n",
      "Loss after epoch 4: 4578088.0\n",
      "Loss after epoch 5: 4243500.0\n",
      "Loss after epoch 6: 3985788.0\n",
      "Loss after epoch 7: 3677204.0\n",
      "CPU times: user 10min 15s, sys: 3.29 s, total: 10min 19s\n",
      "Wall time: 5min 23s\n"
     ]
    }
   ],
   "source": [
    "%%time\n",
    "# CBOW Model\n",
    "# Defining model \n",
    "model3_2 = Word2Vec(vector_size=100, workers=4, min_count=5, compute_loss=True, sg=0)\n",
    "\n",
    "# Training word2vec\n",
    "train_word2vec(X_train_w2v, model3_2, epochs=8)"
   ]
  },
  {
   "cell_type": "code",
   "execution_count": null,
   "metadata": {
    "colab": {
     "base_uri": "https://localhost:8080/"
    },
    "id": "_yltG9hcJ6-Y",
    "outputId": "908c339c-fbdb-4aad-caee-ea6930552e94"
   },
   "outputs": [
    {
     "name": "stdout",
     "output_type": "stream",
     "text": [
      "Word: participant\n",
      "[('subject', 0.7841806411743164), ('individual', 0.7188107371330261), ('person', 0.7018479704856873), ('youth', 0.6919900178909302), ('women', 0.6788532137870789)]\n",
      "Word: survivor\n",
      "[('people', 0.6011204123497009), ('person', 0.579565703868866), ('elder', 0.5794798135757446), ('youth', 0.5373315811157227), ('children', 0.4923301935195923)]\n",
      "Word: cancer\n",
      "[('carcinoma', 0.7997646331787109), ('adenocarcinoma', 0.7887883186340332), ('cancerspecific', 0.7319044470787048), ('cancerrelate', 0.6813614368438721), ('neoplasm', 0.6809479594230652)]\n"
     ]
    }
   ],
   "source": [
    "# Word2Vec Model with Increased Vector Size\n",
    "words_list= [\"participant\", \"survivor\", \"cancer\"]\n",
    "show_example_embeddings(model3_2, words_list)"
   ]
  },
  {
   "cell_type": "code",
   "execution_count": null,
   "metadata": {
    "colab": {
     "base_uri": "https://localhost:8080/",
     "height": 171,
     "referenced_widgets": [
      "c966afeda8434e509103d0aab660d672",
      "11ad4fb6090e45b8ac07f9e4c83c86e1",
      "cb5f6b6384cc4fa2ab341837f2e551ce",
      "6a1b4a4f44f148d3862b54da907d33ee",
      "cd22a6fbfe14417198acfaf7dd6b9c8e",
      "a69ea58b6db04f95af90965c1b57d034",
      "fabbf699042f4bf894fccd648b0d88d2",
      "acc35bcd1d8646dc9a125d0d500ddbae",
      "1c282347620e4a4b857be636a0502be6",
      "da3df7a588ca44afb24c65d09260648b",
      "d60ed7c9efff4e14b27efa39f7489a83",
      "333459ae357541a3adbd8298eb0259d7",
      "c756ae3eb1584a7595a2391091d0a0b9",
      "0c5e562fd1e54ede9fa43415f1ee69c9",
      "e9daaf562cef47ada05d82dac869b128",
      "6f3dbc42d3914213ad335e8dd2add38c",
      "fcb7b2c483db4bf8a350c17b1bc6add3",
      "a5b07cd680b64ba289b9ea1a72f8b4c6",
      "7b17fbeaac9042498bfda2707762dcb7",
      "58330e2dfa4a4f9aa77ebeb0ddaafcb0",
      "8e9681d2395840bb9e2ee082ca7e54b4",
      "41b3a2ff88e646d9a98d9efd2f4a27e4",
      "ff16e38ec34c4c469b65e76d27f07c8a",
      "6007d62c5c164e318137159845b5415c"
     ]
    },
    "id": "OGpcy5DYSI3Q",
    "outputId": "902973f2-8138-47a2-ecbf-d20d21fb6f32"
   },
   "outputs": [
    {
     "data": {
      "application/vnd.jupyter.widget-view+json": {
       "model_id": "c966afeda8434e509103d0aab660d672",
       "version_major": 2,
       "version_minor": 0
      },
      "text/plain": [
       "HBox(children=(FloatProgress(value=0.0, max=2211538.0), HTML(value='')))"
      ]
     },
     "metadata": {
      "tags": []
     },
     "output_type": "display_data"
    },
    {
     "name": "stdout",
     "output_type": "stream",
     "text": [
      "\n"
     ]
    },
    {
     "data": {
      "application/vnd.jupyter.widget-view+json": {
       "model_id": "1c282347620e4a4b857be636a0502be6",
       "version_major": 2,
       "version_minor": 0
      },
      "text/plain": [
       "HBox(children=(FloatProgress(value=0.0, max=28929.0), HTML(value='')))"
      ]
     },
     "metadata": {
      "tags": []
     },
     "output_type": "display_data"
    },
    {
     "name": "stdout",
     "output_type": "stream",
     "text": [
      "\n"
     ]
    },
    {
     "data": {
      "application/vnd.jupyter.widget-view+json": {
       "model_id": "fcb7b2c483db4bf8a350c17b1bc6add3",
       "version_major": 2,
       "version_minor": 0
      },
      "text/plain": [
       "HBox(children=(FloatProgress(value=0.0, max=29487.0), HTML(value='')))"
      ]
     },
     "metadata": {
      "tags": []
     },
     "output_type": "display_data"
    },
    {
     "name": "stdout",
     "output_type": "stream",
     "text": [
      "\n"
     ]
    }
   ],
   "source": [
    "# Building feature representation and averaging.\n",
    "feature_space_train = create_feature_space(X_train_w2v, model3_2)\n",
    "feature_space_val = create_feature_space(X_val_w2v, model3_2)\n",
    "feature_space_test = create_feature_space(X_test_w2v, model3_2)"
   ]
  },
  {
   "cell_type": "code",
   "execution_count": null,
   "metadata": {
    "colab": {
     "base_uri": "https://localhost:8080/"
    },
    "id": "me7w6zBhLXxr",
    "outputId": "721be4b3-ad43-46ad-f868-4e9a58eba196"
   },
   "outputs": [
    {
     "name": "stdout",
     "output_type": "stream",
     "text": [
      "Training Set Accuracy:0.725\n",
      "Validation Set Accuracy:0.732\n",
      "Test Set Accuracy:0.733\n",
      "\n",
      "\n",
      "Training Set Weighted F1-Score:0.718\n",
      "Validation Set Weighted F1-Score:0.725\n",
      "Test Set Weighted F1-Score:0.726\n",
      "\n",
      "\n",
      "CPU times: user 5min 16s, sys: 34.6 s, total: 5min 50s\n",
      "Wall time: 3min 42s\n"
     ]
    }
   ],
   "source": [
    "%%time\n",
    "\n",
    "classifier = LogisticRegression(random_state=49)\n",
    "\n",
    "train_LR_clf(feature_space_train, feature_space_val, feature_space_test, \n",
    "             y_train_cleaned, y_val_cleaned, y_test_cleaned,\n",
    "             classifier, vectorizer=None)"
   ]
  },
  {
   "cell_type": "code",
   "execution_count": null,
   "metadata": {
    "colab": {
     "base_uri": "https://localhost:8080/"
    },
    "id": "wshvHmpjE9gJ",
    "outputId": "48c1785a-4fba-4253-8110-63507ecae2b3"
   },
   "outputs": [
    {
     "name": "stdout",
     "output_type": "stream",
     "text": [
      "Loss after epoch 0: 44036072.0\n",
      "Loss after epoch 1: 23508840.0\n",
      "Loss after epoch 2: 2318280.0\n",
      "Loss after epoch 3: 2197656.0\n",
      "Loss after epoch 4: 2155416.0\n",
      "Loss after epoch 5: 2019376.0\n",
      "Loss after epoch 6: 1940416.0\n",
      "Loss after epoch 7: 1862112.0\n",
      "CPU times: user 37min 9s, sys: 4.94 s, total: 37min 14s\n",
      "Wall time: 19min 2s\n"
     ]
    }
   ],
   "source": [
    "%%time\n",
    "# Skip-Gram Model\n",
    "# Defining model \n",
    "model3_3 = Word2Vec(vector_size=100, workers=4, min_count=5, compute_loss=True, sg=1)\n",
    "\n",
    "# Training word2vec\n",
    "train_word2vec(X_train_w2v, model3_3, epochs=8)"
   ]
  },
  {
   "cell_type": "code",
   "execution_count": null,
   "metadata": {
    "colab": {
     "base_uri": "https://localhost:8080/"
    },
    "id": "L7V2_3FqE-GL",
    "outputId": "76bd97a8-5a7e-44fd-c94c-f7ba610bca1f"
   },
   "outputs": [
    {
     "name": "stdout",
     "output_type": "stream",
     "text": [
      "Word: participant\n",
      "[('subject', 0.7953223586082458), ('person', 0.7351459264755249), ('individual', 0.7233098149299622), ('tmbase', 0.709949254989624), ('respondent', 0.6951910853385925)]\n",
      "Word: survivor\n",
      "[('ltcs', 0.6578802466392517), ('spousal', 0.6343467235565186), ('lowactive', 0.6242591142654419), ('fitter', 0.6112727522850037), ('postdiagnosi', 0.6070528030395508)]\n",
      "Word: cancer\n",
      "[('colorectal', 0.8164402842521667), ('adenocarcinoma', 0.7868973612785339), ('carcinoma', 0.7863790988922119), ('breast', 0.7590855360031128), ('nonmetastatic', 0.7532812356948853)]\n"
     ]
    }
   ],
   "source": [
    "# Word2Vec Model with Increased Vector Size\n",
    "words_list= [\"participant\", \"survivor\", \"cancer\"]\n",
    "show_example_embeddings(model3_3, words_list)\n"
   ]
  },
  {
   "cell_type": "code",
   "execution_count": null,
   "metadata": {
    "colab": {
     "base_uri": "https://localhost:8080/",
     "height": 168,
     "referenced_widgets": [
      "1b8e6c38227b4cbdbf5dff4482c937f6",
      "4bf70f65e5424278bb6e31d051960004",
      "2bbc144be943460594c349d6dcd6293b"
     ]
    },
    "id": "JYKiEsW7TKi7",
    "outputId": "f84a1717-6883-4e0b-c911-a2006d2027b7"
   },
   "outputs": [
    {
     "data": {
      "application/vnd.jupyter.widget-view+json": {
       "model_id": "1b8e6c38227b4cbdbf5dff4482c937f6",
       "version_major": 2,
       "version_minor": 0
      },
      "text/plain": [
       "HBox(children=(FloatProgress(value=0.0, max=2211538.0), HTML(value='')))"
      ]
     },
     "metadata": {
      "tags": []
     },
     "output_type": "display_data"
    },
    {
     "name": "stdout",
     "output_type": "stream",
     "text": [
      "\n"
     ]
    },
    {
     "data": {
      "application/vnd.jupyter.widget-view+json": {
       "model_id": "4bf70f65e5424278bb6e31d051960004",
       "version_major": 2,
       "version_minor": 0
      },
      "text/plain": [
       "HBox(children=(FloatProgress(value=0.0, max=28929.0), HTML(value='')))"
      ]
     },
     "metadata": {
      "tags": []
     },
     "output_type": "display_data"
    },
    {
     "name": "stdout",
     "output_type": "stream",
     "text": [
      "\n"
     ]
    },
    {
     "data": {
      "application/vnd.jupyter.widget-view+json": {
       "model_id": "2bbc144be943460594c349d6dcd6293b",
       "version_major": 2,
       "version_minor": 0
      },
      "text/plain": [
       "HBox(children=(FloatProgress(value=0.0, max=29487.0), HTML(value='')))"
      ]
     },
     "metadata": {
      "tags": []
     },
     "output_type": "display_data"
    },
    {
     "name": "stdout",
     "output_type": "stream",
     "text": [
      "\n"
     ]
    }
   ],
   "source": [
    "# Building feature representation and averaging.\n",
    "feature_space_train = create_feature_space(X_train_w2v, model3_3)\n",
    "feature_space_val = create_feature_space(X_val_w2v, model3_3)\n",
    "feature_space_test = create_feature_space(X_test_w2v, model3_3)"
   ]
  },
  {
   "cell_type": "code",
   "execution_count": null,
   "metadata": {
    "colab": {
     "base_uri": "https://localhost:8080/"
    },
    "id": "hVtCyIChUVk_",
    "outputId": "ab9c6bf4-105c-406d-c53f-6d40cc3deda6"
   },
   "outputs": [
    {
     "name": "stdout",
     "output_type": "stream",
     "text": [
      "Training Set Accuracy:0.727\n",
      "Validation Set Accuracy:0.736\n",
      "Test Set Accuracy:0.734\n",
      "\n",
      "\n",
      "Training Set Weighted F1-Score:0.721\n",
      "Validation Set Weighted F1-Score:0.729\n",
      "Test Set Weighted F1-Score:0.727\n",
      "\n",
      "\n",
      "CPU times: user 5min 9s, sys: 32.2 s, total: 5min 41s\n",
      "Wall time: 3min 35s\n"
     ]
    }
   ],
   "source": [
    "%%time\n",
    "\n",
    "classifier = LogisticRegression(random_state=49)\n",
    "\n",
    "train_LR_clf(feature_space_train, feature_space_val, feature_space_test, \n",
    "             y_train_cleaned, y_val_cleaned, y_test_cleaned,\n",
    "             classifier, vectorizer=None)"
   ]
  },
  {
   "cell_type": "markdown",
   "metadata": {
    "id": "Lnldadr4gE9D"
   },
   "source": [
    "##### Task 3.3.3: CBOW and Skip-Gram Models with vector_size=200, epochs=8, min_count=5, windows=15 and hs=1 parameters."
   ]
  },
  {
   "cell_type": "code",
   "execution_count": null,
   "metadata": {
    "colab": {
     "base_uri": "https://localhost:8080/"
    },
    "id": "5u9bq_zyMt8v",
    "outputId": "a03bd8ab-daf8-43c6-b2ed-83081569fe31"
   },
   "outputs": [
    {
     "name": "stdout",
     "output_type": "stream",
     "text": [
      "Loss after epoch 0: 73712360.0\n",
      "Loss after epoch 1: 35718400.0\n",
      "Loss after epoch 2: 24786968.0\n",
      "Loss after epoch 3: 0.0\n",
      "Loss after epoch 4: 0.0\n",
      "Loss after epoch 5: 0.0\n",
      "Loss after epoch 6: 0.0\n",
      "Loss after epoch 7: 0.0\n",
      "CPU times: user 38min 55s, sys: 7.41 s, total: 39min 3s\n",
      "Wall time: 20min 11s\n"
     ]
    }
   ],
   "source": [
    "%%time\n",
    "# CBOW MODEL\n",
    "\n",
    "# Defining model \n",
    "model3_4 = Word2Vec(vector_size=200, workers=4, min_count=5, window=15, compute_loss=True, sg=0, hs=1)\n",
    "\n",
    "# Training word2vec\n",
    "train_word2vec(X_train_w2v, model3_4, epochs=8)"
   ]
  },
  {
   "cell_type": "code",
   "execution_count": null,
   "metadata": {
    "colab": {
     "base_uri": "https://localhost:8080/"
    },
    "id": "fh6GHZdOMuEH",
    "outputId": "4768b502-011f-442f-ba8b-a193b39840c7"
   },
   "outputs": [
    {
     "name": "stdout",
     "output_type": "stream",
     "text": [
      "Word: participant\n",
      "[('subject', 0.7210912108421326), ('individual', 0.6643620729446411), ('patient', 0.6638002395629883), ('person', 0.6036820411682129), ('women', 0.5996574759483337)]\n",
      "Word: survivor\n",
      "[('people', 0.47770997881889343), ('person', 0.4524770677089691), ('survivorship', 0.4116574823856354), ('participant', 0.39057984948158264), ('children', 0.37997138500213623)]\n",
      "Word: cancer\n",
      "[('carcinoma', 0.7855398654937744), ('adenocarcinoma', 0.7085302472114563), ('cancerspecific', 0.610693633556366), ('selfexamination', 0.5554887056350708), ('carcinogenesi', 0.5513815879821777)]\n"
     ]
    }
   ],
   "source": [
    "# Word2Vec Model with Increased Vector Size\n",
    "words_list= [\"participant\", \"survivor\", \"cancer\"]\n",
    "show_example_embeddings(model3_4, words_list)"
   ]
  },
  {
   "cell_type": "code",
   "execution_count": null,
   "metadata": {
    "colab": {
     "base_uri": "https://localhost:8080/",
     "height": 168,
     "referenced_widgets": [
      "753ff5c08230449ebb11ee880d93e5c7",
      "62aaf6cc34774e3288a06f7ef0f5d38a",
      "2bdd47b35021477da3a5bc69ddf7a30d",
      "62c99a6e04dd4e27a507920beee90ce2",
      "d02cc7bb2b69461498b17e8f2d71e9c0",
      "388cea7dd7d341dbbae3b8f19b6e501a",
      "377226a28eae4c4594ca6b3f6a94a262",
      "79f2dfa3ec584e0eaf636a254b46020b",
      "baecb0ea05d548dd9ef5d5a53cca6739",
      "8c5056827391447c9c03548d89e67276",
      "0377513013bc4d93a535c44b0fe9780f",
      "725fa24464c747d38bc8d7fc9d072139",
      "bf12323c836846ff805445ed4561012e",
      "e550e646504e46a780c6bb6dec42f737",
      "dbc5bf71904b45ae9650a792780abf77",
      "c3a60fcb4c3849dfade51a0e038cb0b1",
      "781aeb0488274b38a5bc4ea5b9c889cb",
      "4ad2450abb194437bb57053c17103975",
      "109fdc34afd04ca1bef32f655b9c14fa",
      "62f485c0bb4b494ba96980b9bb173db1",
      "4cc3b549d7a04aa0ae00419226d7af06",
      "05b58e46ab8b4e6ba0c830e637800097",
      "47596feb80a64a389648606842ea31a4",
      "24701e027be24bf3ac989e06fda52f44"
     ]
    },
    "id": "TbM8iyKUTytP",
    "outputId": "48a49ef0-daf1-4f9e-9283-85941182e06a"
   },
   "outputs": [
    {
     "data": {
      "application/vnd.jupyter.widget-view+json": {
       "model_id": "753ff5c08230449ebb11ee880d93e5c7",
       "version_major": 2,
       "version_minor": 0
      },
      "text/plain": [
       "HBox(children=(FloatProgress(value=0.0, max=2211538.0), HTML(value='')))"
      ]
     },
     "metadata": {
      "tags": []
     },
     "output_type": "display_data"
    },
    {
     "name": "stdout",
     "output_type": "stream",
     "text": [
      "\n"
     ]
    },
    {
     "data": {
      "application/vnd.jupyter.widget-view+json": {
       "model_id": "baecb0ea05d548dd9ef5d5a53cca6739",
       "version_major": 2,
       "version_minor": 0
      },
      "text/plain": [
       "HBox(children=(FloatProgress(value=0.0, max=28929.0), HTML(value='')))"
      ]
     },
     "metadata": {
      "tags": []
     },
     "output_type": "display_data"
    },
    {
     "name": "stdout",
     "output_type": "stream",
     "text": [
      "\n"
     ]
    },
    {
     "data": {
      "application/vnd.jupyter.widget-view+json": {
       "model_id": "781aeb0488274b38a5bc4ea5b9c889cb",
       "version_major": 2,
       "version_minor": 0
      },
      "text/plain": [
       "HBox(children=(FloatProgress(value=0.0, max=29487.0), HTML(value='')))"
      ]
     },
     "metadata": {
      "tags": []
     },
     "output_type": "display_data"
    },
    {
     "name": "stdout",
     "output_type": "stream",
     "text": [
      "\n"
     ]
    }
   ],
   "source": [
    "# Building feature representation and averaging.\n",
    "feature_space_train = create_feature_space(X_train_w2v, model3_4)\n",
    "feature_space_val = create_feature_space(X_val_w2v, model3_4)\n",
    "feature_space_test = create_feature_space(X_test_w2v, model3_4)"
   ]
  },
  {
   "cell_type": "code",
   "execution_count": null,
   "metadata": {
    "colab": {
     "base_uri": "https://localhost:8080/"
    },
    "id": "_vFnvXnDCHlj",
    "outputId": "11ba630e-145a-4dd5-b87c-7aff91035781"
   },
   "outputs": [
    {
     "name": "stderr",
     "output_type": "stream",
     "text": [
      "[Parallel(n_jobs=1)]: Using backend SequentialBackend with 1 concurrent workers.\n",
      "[Parallel(n_jobs=1)]: Done   1 out of   1 | elapsed:  5.8min finished\n"
     ]
    },
    {
     "name": "stdout",
     "output_type": "stream",
     "text": [
      "Training Set Accuracy:0.738\n",
      "Validation Set Accuracy:0.748\n",
      "Test Set Accuracy:0.745\n",
      "\n",
      "\n",
      "Training Set Weighted F1-Score:0.732\n",
      "Validation Set Weighted F1-Score:0.742\n",
      "Test Set Weighted F1-Score:0.739\n",
      "\n",
      "\n",
      "CPU times: user 9min 22s, sys: 52.3 s, total: 10min 14s\n",
      "Wall time: 6min\n"
     ]
    }
   ],
   "source": [
    "%%time\n",
    "\n",
    "\n",
    "classifier = LogisticRegression(random_state=49, verbose=1)\n",
    "\n",
    "train_LR_clf(feature_space_train, feature_space_val, feature_space_test, \n",
    "             y_train_cleaned, y_val_cleaned, y_test_cleaned,\n",
    "             classifier, vectorizer=None)"
   ]
  },
  {
   "cell_type": "code",
   "execution_count": null,
   "metadata": {
    "id": "VZxf0KaVmOk-"
   },
   "outputs": [],
   "source": [
    "model3_4.save(\"word2vec_cbow_0748.model\")"
   ]
  },
  {
   "cell_type": "markdown",
   "metadata": {
    "id": "ttd8AnxzL2to"
   },
   "source": [
    "### Task 3: Results of Word2Vec Models and Discussion\n",
    "\n",
    " | Word2Vec Models | vector_size | min_count|# of epochs | windows| Accuracy* |Weighted F1 Score*|\n",
    "|:---:|:-------------:|:-----------:|:-----------:|:-------------:|:-----------:|:-----------:|\n",
    "|CBOW (Vanilla) |5|1| 3|5| 0.553| 0.524| \n",
    "|Skip-Gram (Vanilla) |5|1|3|5|0.543| 0.516|\n",
    "|-----------|-----------|-----------|-----------|-----------|-----------| ------------|\n",
    "|CBOW |50|1| 3|5| 0.716| 0.714| \n",
    "|Skip-Gram |50|1|3|5|0.707| 0.705|\n",
    "|CBOW |50|5| 3| 5|0.713| 0.704| \n",
    "|Skip-Gram |50|5|3|5|0.715| 0.707|\n",
    "|CBOW |100|5| 8| 5|0.733| 0.726| \n",
    "|Skip-Gram |100|5|8|5|0.734| 0.727|\n",
    "|CBOW |200|5| 8|15|**0.745**| **0.739**| \n",
    "\n",
    "\n",
    "*Model performances depicted obtained on the test set.*\n",
    "\n",
    "---\n",
    "\n",
    "\n",
    "Qualitative examples of **Vanilla CBOW model**:\n",
    "\n",
    "* Query: participant  [('nondiscriminator', 0.9996463656425476), ('gb43', 0.9986741542816162), ('blankenship', 0.9981800317764282), ('x2000', 0.9980732202529907), ('usual', 0.9968590140342712)]\n",
    "\n",
    "* Query: survivor [('nct01057043', 0.9974766373634338), ('dampnessexpel', 0.9965510368347168), ('psychosomatically', 0.9946552515029907), ('nonzincdeficient', 0.9945807456970215), ('diagnosi', 0.9942414164543152)]\n",
    "* Query: cancer [('oviducal', 0.9984340071678162), ('indication', 0.9954898953437805), ('mammaryleft', 0.9935178160667419), ('highrisk', 0.9923037886619568), ('gammaglutamyltransaminase', 0.991998016834259)]\n",
    "\n",
    "\n",
    "Qualitative examples of **Tuned CBOW model**:\n",
    "\n",
    "* Word: participant [('subject', 0.7210912108421326), ('individual', 0.6643620729446411), ('patient', 0.6638002395629883), ('person', 0.6036820411682129), ('women', 0.5996574759483337)]\n",
    "* Word: survivor [('people', 0.47770997881889343), ('person', 0.4524770677089691), ('survivorship', 0.4116574823856354), ('participant', 0.39057984948158264), ('children', 0.37997138500213623)]\n",
    "* Word: cancer [('carcinoma', 0.7855398654937744), ('adenocarcinoma', 0.7085302472114563), ('cancerspecific', 0.610693633556366), ('selfexamination', 0.5554887056350708), ('carcinogenesi', 0.5513815879821777)]\n",
    "\n",
    "\n",
    "---\n",
    "### Discussion\n",
    "\n",
    "Overall, Vanilla Word2Vec models, CBOW and Skip-Gram, did not lead to good model performance when they are analyzed qualitatively and quantitavely.\n",
    "\n",
    "There are mainly two reasons that lead the poor results.\n",
    "\n",
    "*    First, both Word2Vec models are trained with very limited vector size, thus each token squeezed into very small numeric representation. These representations are not descriptive enough to reflect real syntactic and semantic relationships of tokens.\n",
    "*    Second, both models trained with full vocabulary. This is very problematic for the most of the cases, since whole corpus may include certain tokens only once. This approach introduces noise to the Word2Vec models, preventing them to learn robust representations.\n",
    "\n",
    "To this end, we continue to train different CBOW and Skip-Gram models with increased vector_size, min_count and windows size and to experiment their effects on model performances.\n",
    "\n",
    "Quantitatively and qualitatively, increasing vector size along with more training, larger windows size led to better model performances for both Word2Vec models as expected.\n",
    "\n",
    "By only increasing vector size from 5 to 50, we obtained Word2Vec models that are able to build up an embedding space that resulting ~15% performance increase in weighted F1-Score on validation set and test set.\n",
    "\n",
    "Quantitatively, we obtained the best results with vector size of 200, windows size of 15, 5 word vocabulary thresholding and 8 epoch training. This parameters resulted **74.5% accurarcy and 73.9% weighted F1 score on the test set.**\n",
    "\n",
    "Quantitatively, it is evident that above-mentioned parameters indeed lead to better word representations and **models were able to capture semantic relationships.**  \n",
    "\n"
   ]
  },
  {
   "cell_type": "markdown",
   "metadata": {
    "id": "T1EFfdMMucDt"
   },
   "source": [
    "### Task 4: LSTM/GRU Based Architectures \n",
    "\n",
    "\n",
    "In this section of the project, we experiment Recurrent Neural Network structures (RNN) such as Long-Short Term Memory (LSTM) and Gated Current Units (GRU). These structures are proven to be very effective on the sequential data such as text and time series.\n",
    "\n",
    "However, both units have distinct  substructures. Briefly, LSTM works with three different gates (input, output and forget) to concatenate, output, read and write operations to process information. While GRU does not use hidden states and works with two gates (update and reset) to conduct concatenate, forget and add operations for generating output.\n",
    "\n",
    "It is import to note that GRU is simplier unit compared to LSTM w.r.t number of model parameters, thus it is faster to train and less parameters to learn by the deep learning models.\n"
   ]
  },
  {
   "cell_type": "markdown",
   "metadata": {
    "id": "tQsn6cET7UEO"
   },
   "source": [
    "#### Task 4.0 LSTM/GRU Based Model-Data Processing"
   ]
  },
  {
   "cell_type": "code",
   "execution_count": 20,
   "metadata": {
    "id": "aaGz2v4PzDhm"
   },
   "outputs": [],
   "source": [
    "def data_for_nn(X_train, y_train, X_val, y_val, X_test, y_test):\n",
    "\n",
    "  return np.array(X_train, copy=False, dtype=\"object\"), np.array(y_train, copy=False, dtype=\"int64\"), np.array(X_val, copy=False, dtype=\"object\"), np.array(y_val, copy=False, dtype=\"int64\"), np.array(X_test, copy=False, dtype=\"object\"), np.array(y_test, copy=False, dtype=\"int64\")\n",
    "\n",
    "\n",
    "def plot_performance(history):\n",
    "\n",
    "  plt.subplots(figsize=(18, 6))\n",
    "\n",
    "  plt.subplot(1, 3, 1)\n",
    "  plt.plot(history.history['loss'])\n",
    "  plt.plot(history.history['val_loss'])\n",
    "  plt.title('Model Loss', fontsize = 10)\n",
    "  plt.ylabel('Loss', fontsize = 10)\n",
    "  plt.xlabel('Epoch', fontsize = 10)\n",
    "  plt.legend(['Train', 'Validation'], fontsize = 10)\n",
    "\n",
    "  plt.subplot(1, 3, 2)\n",
    "  plt.plot(history.history['accuracy'])\n",
    "  plt.plot(history.history['val_accuracy'])\n",
    "  plt.title('Model Accuracy', fontsize = 10)\n",
    "  plt.ylabel('Accuracy', fontsize = 10)\n",
    "  plt.xlabel('Epoch', fontsize = 10)\n",
    "  plt.legend(['Train', 'Validation'], fontsize =10)\n",
    "\n",
    "  plt.subplot(1, 3, 3)\n",
    "  plt.plot(history.history['f1_weighted'])\n",
    "  plt.plot(history.history['val_f1_weighted'])\n",
    "  plt.title('Model Weighted F1-Score', fontsize = 10)\n",
    "  plt.ylabel('Weighted F1-Score', fontsize = 10)\n",
    "  plt.xlabel('Epoch', fontsize = 10)\n",
    "  plt.legend(['Train', 'Validation'], fontsize = 10)\n",
    "\n",
    "  plt.tight_layout()\n",
    "  plt.show()\n"
   ]
  },
  {
   "cell_type": "code",
   "execution_count": 21,
   "metadata": {
    "id": "fEk7BKrerAXm"
   },
   "outputs": [],
   "source": [
    "# Making data ready as numpy arrays and right data types for the LSTM and GRU models.\n",
    "X_train_C, y_train_C, X_val_C, y_val_C, X_test_C, y_test_C  = data_for_nn(X_train_cleaned, y_train_cleaned, X_val_cleaned, y_val_cleaned, X_test_cleaned, y_test_cleaned)"
   ]
  },
  {
   "cell_type": "code",
   "execution_count": 22,
   "metadata": {
    "id": "UMCQBIIPYM91"
   },
   "outputs": [],
   "source": [
    "# Before training the models, shuffling the training dataset\n",
    "X_train_C, y_train_C = shuffle(X_train_C, y_train_C, random_state=49)"
   ]
  },
  {
   "cell_type": "code",
   "execution_count": 23,
   "metadata": {
    "id": "9K4E6bzdllho"
   },
   "outputs": [],
   "source": [
    "# Transforming labels to one-hot encoded matrix representations.\n",
    "y_train_new = tf.keras.utils.to_categorical(y_train_C, 5)\n",
    "y_val_new = tf.keras.utils.to_categorical(y_val_C, 5)\n",
    "y_test_new = tf.keras.utils.to_categorical(y_test_C, 5)"
   ]
  },
  {
   "cell_type": "code",
   "execution_count": 24,
   "metadata": {
    "id": "l2snmQyYKCzF"
   },
   "outputs": [],
   "source": [
    "# Tokenizing and padding the sequences based on training dataset\n",
    "tokenizer = Tokenizer(oov_token=True) # In case of missing vocab item in test set.\n",
    "\n",
    "# Fitting tokenizer only on training set and transforming others.\n",
    "encoded_docs_train= tokenizer.fit_on_texts(X_train_C)\n",
    "encoded_docs_train = tokenizer.texts_to_sequences(X_train_C)\n",
    "encoded_docs_val = tokenizer.texts_to_sequences(X_val_C)\n",
    "encoded_docs_test = tokenizer.texts_to_sequences(X_test_C)"
   ]
  },
  {
   "cell_type": "code",
   "execution_count": 25,
   "metadata": {
    "colab": {
     "base_uri": "https://localhost:8080/"
    },
    "id": "m0viXix1R7br",
    "outputId": "692b81ea-a432-4026-fc18-068b7e3462c9"
   },
   "outputs": [
    {
     "name": "stdout",
     "output_type": "stream",
     "text": [
      "238\n"
     ]
    }
   ],
   "source": [
    "# Computing max_length and padding \n",
    "max_length = max([len(s.split()) for s in X_train_C])\n",
    "print(max_length)\n",
    "\n",
    "# Padding sequences such that all the sequences carry the same lenght\n",
    "X_train = pad_sequences(encoded_docs_train, maxlen = max_length, padding = 'post')\n",
    "X_val = pad_sequences(encoded_docs_val, maxlen = max_length, padding = 'post')\n",
    "X_test = pad_sequences(encoded_docs_test, maxlen = max_length, padding = 'post')\n",
    "\n",
    "# Compute Vocabulary Size\n",
    "vocab_size = len(tokenizer.word_index) + 1"
   ]
  },
  {
   "cell_type": "code",
   "execution_count": 26,
   "metadata": {
    "colab": {
     "base_uri": "https://localhost:8080/"
    },
    "id": "482FejG0MlOn",
    "outputId": "7bf88a16-3770-41c4-abf9-4aa26a416cde"
   },
   "outputs": [
    {
     "data": {
      "text/plain": [
       "258030"
      ]
     },
     "execution_count": 26,
     "metadata": {
      "tags": []
     },
     "output_type": "execute_result"
    }
   ],
   "source": [
    "vocab_size"
   ]
  },
  {
   "cell_type": "markdown",
   "metadata": {
    "id": "qNZHIR6hvOKu"
   },
   "source": [
    "#### Task 4.1 LSTM Based Model"
   ]
  },
  {
   "cell_type": "markdown",
   "metadata": {
    "id": "WX0qIB3zvsN8"
   },
   "source": [
    "##### Task 4.1.1: Vanilla LSTM Model\n",
    "\n",
    "In this part of the code, we implement vanilla LSTM architecture with max vocabulary size and output dimension of embedding layer 10.\n",
    "\n",
    "The architecture consists of Embedding Layer, Bidirectional LSTM block, and Output Layer."
   ]
  },
  {
   "cell_type": "code",
   "execution_count": 27,
   "metadata": {
    "id": "qfNzRPPdtjml"
   },
   "outputs": [],
   "source": [
    "tf.keras.backend.clear_session()"
   ]
  },
  {
   "cell_type": "code",
   "execution_count": 28,
   "metadata": {
    "id": "8iZNCTUB_g9c"
   },
   "outputs": [],
   "source": [
    "# Vanilla LSTM Model\n",
    "text_input = Input(shape=(X_train.shape[1],),  name='text')\n",
    "embedding = Embedding(input_dim = vocab_size, output_dim = 10, input_length = max_length)(text_input)\n",
    "x = LSTM(10)(embedding)\n",
    "x = Dense(10, activation = \"relu\")(x)\n",
    "output = Dense(5, activation=\"softmax\", name=\"predictions\")(x)\n",
    "\n",
    "model = Model(text_input, output)\n"
   ]
  },
  {
   "cell_type": "code",
   "execution_count": 29,
   "metadata": {
    "colab": {
     "base_uri": "https://localhost:8080/"
    },
    "id": "gUXdvpviuSuy",
    "outputId": "12168389-6863-44df-a9ce-96cc8ae81f83"
   },
   "outputs": [
    {
     "name": "stdout",
     "output_type": "stream",
     "text": [
      "Model: \"model\"\n",
      "_________________________________________________________________\n",
      "Layer (type)                 Output Shape              Param #   \n",
      "=================================================================\n",
      "text (InputLayer)            [(None, 238)]             0         \n",
      "_________________________________________________________________\n",
      "embedding (Embedding)        (None, 238, 10)           2580300   \n",
      "_________________________________________________________________\n",
      "lstm (LSTM)                  (None, 10)                840       \n",
      "_________________________________________________________________\n",
      "dense (Dense)                (None, 10)                110       \n",
      "_________________________________________________________________\n",
      "predictions (Dense)          (None, 5)                 55        \n",
      "=================================================================\n",
      "Total params: 2,581,305\n",
      "Trainable params: 2,581,305\n",
      "Non-trainable params: 0\n",
      "_________________________________________________________________\n"
     ]
    }
   ],
   "source": [
    "model.summary()"
   ]
  },
  {
   "cell_type": "markdown",
   "metadata": {
    "id": "XVI4ZoekEoqE"
   },
   "source": [
    "This model will learn roughly 2.5 million parameters, mainly embedding layer weights."
   ]
  },
  {
   "cell_type": "code",
   "execution_count": null,
   "metadata": {
    "id": "PGHtUI7Vt8Ve"
   },
   "outputs": [],
   "source": [
    "tf.keras.utils.plot_model(model,show_shapes=True)\n"
   ]
  },
  {
   "cell_type": "code",
   "execution_count": 30,
   "metadata": {
    "id": "E9don4LWEfuP"
   },
   "outputs": [],
   "source": [
    "opt = Adam(0.0001)\n",
    "metrics_train = [tf.keras.metrics.CategoricalAccuracy(name=\"accuracy\"), \n",
    "                 tfa.metrics.F1Score(num_classes=5, average=\"weighted\", name=\"f1_weighted\")]\n",
    "\n",
    "model.compile(loss=\"categorical_crossentropy\",\n",
    "              optimizer=opt,\n",
    "              metrics= metrics_train)\n"
   ]
  },
  {
   "cell_type": "code",
   "execution_count": 31,
   "metadata": {
    "colab": {
     "base_uri": "https://localhost:8080/"
    },
    "id": "7D9daVuTlXBv",
    "outputId": "bed13e46-d68e-4a32-cf6b-688e1291f68d"
   },
   "outputs": [
    {
     "name": "stdout",
     "output_type": "stream",
     "text": [
      "Epoch 1/10\n",
      "885/885 [==============================] - 87s 61ms/step - loss: 1.5676 - accuracy: 0.3263 - f1_weighted: 0.1606 - val_loss: 1.4461 - val_accuracy: 0.3270 - val_f1_weighted: 0.1611\n",
      "Epoch 2/10\n",
      "885/885 [==============================] - 52s 59ms/step - loss: 1.4452 - accuracy: 0.3437 - f1_weighted: 0.2143 - val_loss: 1.4440 - val_accuracy: 0.3461 - val_f1_weighted: 0.1780\n",
      "Epoch 3/10\n",
      "885/885 [==============================] - 52s 59ms/step - loss: 1.4440 - accuracy: 0.3465 - f1_weighted: 0.1783 - val_loss: 1.4440 - val_accuracy: 0.3461 - val_f1_weighted: 0.1780\n",
      "Epoch 4/10\n",
      "885/885 [==============================] - 53s 60ms/step - loss: 1.4435 - accuracy: 0.3468 - f1_weighted: 0.1786 - val_loss: 1.4440 - val_accuracy: 0.3461 - val_f1_weighted: 0.1780\n",
      "Epoch 5/10\n",
      "885/885 [==============================] - 52s 59ms/step - loss: 1.4449 - accuracy: 0.3470 - f1_weighted: 0.1787 - val_loss: 1.4440 - val_accuracy: 0.3461 - val_f1_weighted: 0.1780\n",
      "Epoch 6/10\n",
      "885/885 [==============================] - 52s 59ms/step - loss: 1.4451 - accuracy: 0.3464 - f1_weighted: 0.1782 - val_loss: 1.4440 - val_accuracy: 0.3461 - val_f1_weighted: 0.1780\n",
      "Epoch 7/10\n",
      "885/885 [==============================] - 52s 58ms/step - loss: 1.4442 - accuracy: 0.3464 - f1_weighted: 0.1782 - val_loss: 1.4440 - val_accuracy: 0.3461 - val_f1_weighted: 0.1780\n",
      "Epoch 8/10\n",
      "885/885 [==============================] - 52s 58ms/step - loss: 1.4433 - accuracy: 0.3469 - f1_weighted: 0.1787 - val_loss: 1.4440 - val_accuracy: 0.3461 - val_f1_weighted: 0.1780\n",
      "Epoch 9/10\n",
      "885/885 [==============================] - 52s 59ms/step - loss: 1.4443 - accuracy: 0.3466 - f1_weighted: 0.1784 - val_loss: 1.4440 - val_accuracy: 0.3461 - val_f1_weighted: 0.1780\n",
      "Epoch 10/10\n",
      "885/885 [==============================] - 51s 58ms/step - loss: 1.4451 - accuracy: 0.3464 - f1_weighted: 0.1782 - val_loss: 1.4439 - val_accuracy: 0.3461 - val_f1_weighted: 0.1780\n"
     ]
    }
   ],
   "source": [
    "BATCH_SIZE = 2000\n",
    "\n",
    "history = model.fit(x = X_train, y=y_train_new, validation_split= 0.2, epochs=10, batch_size=BATCH_SIZE, shuffle=True)"
   ]
  },
  {
   "cell_type": "code",
   "execution_count": 32,
   "metadata": {
    "colab": {
     "base_uri": "https://localhost:8080/",
     "height": 404
    },
    "id": "E8YefiLX2mXD",
    "outputId": "e7f79a23-5e60-475f-b8df-c1effe2918d8"
   },
   "outputs": [
    {
     "data": {
      "image/png": "[encoded data removed]",
      "text/plain": [
       "<Figure size 1296x432 with 3 Axes>"
      ]
     },
     "metadata": {
      "needs_background": "light",
      "tags": []
     },
     "output_type": "display_data"
    }
   ],
   "source": [
    "plot_performance(history)"
   ]
  },
  {
   "cell_type": "code",
   "execution_count": 36,
   "metadata": {
    "colab": {
     "base_uri": "https://localhost:8080/"
    },
    "id": "rJ0v2RxE8PWt",
    "outputId": "cc77e9d2-aee1-4050-de19-0a870236e13f"
   },
   "outputs": [
    {
     "name": "stdout",
     "output_type": "stream",
     "text": [
      "905/905 [==============================] - 5s 6ms/step - loss: 1.4424 - accuracy: 0.3449 - f1_weighted: 0.1769\n",
      "Validation loss:1.442\n",
      "Validation accuracy:0.345\n",
      "Validation f1:0.177\n"
     ]
    }
   ],
   "source": [
    "# Validation set performance\n",
    "loss_val, acc_val, f1_val = model.evaluate(X_val, y_val_new)\n",
    "\n",
    "print('Validation loss:%.3f' % loss_val)\n",
    "print('Validation accuracy:%.3f' % acc_val)\n",
    "print('Validation f1:%.3f' % f1_val)"
   ]
  },
  {
   "cell_type": "code",
   "execution_count": 37,
   "metadata": {
    "colab": {
     "base_uri": "https://localhost:8080/"
    },
    "id": "RMlnUciLAfKy",
    "outputId": "50f494ad-d674-4834-8600-0eedb1d4779d"
   },
   "outputs": [
    {
     "name": "stdout",
     "output_type": "stream",
     "text": [
      "922/922 [==============================] - 6s 6ms/step - loss: 1.4381 - accuracy: 0.3485 - f1_weighted: 0.1801\n",
      "Test score:1.438\n",
      "Test accuracy:0.348\n",
      "Test f1:0.180\n"
     ]
    }
   ],
   "source": [
    "# Testset performance\n",
    "score_test, acc_test, f1_test = model.evaluate(X_test, y_test_new)\n",
    "\n",
    "print('Test score:%.3f' % score_test)\n",
    "print('Test accuracy:%.3f' % acc_test)\n",
    "print('Test f1:%.3f'% f1_test)"
   ]
  },
  {
   "cell_type": "markdown",
   "metadata": {
    "id": "Lt2lvdu98e6T"
   },
   "source": [
    "As vanilla LSTM model, this architecture is not able to learn the word representations to classify the sequences succesfully.\n",
    "\n",
    "In the following model, we introduce bidirectionality to maintain information from past states and future states."
   ]
  },
  {
   "cell_type": "markdown",
   "metadata": {
    "id": "lIlo8imnv9bI"
   },
   "source": [
    "##### Task 4.1.2: Advanced LSTM Models\n",
    "\n",
    "In the following code section, we increase embedding layer output size to 100 and add bidirectionality of RNN unit to observe impact of these paratemeter and allow model extract features. As expected, this increase will be computationally very expensive, however the model performance is also expected to increase comparaed to vanilla model."
   ]
  },
  {
   "cell_type": "code",
   "execution_count": null,
   "metadata": {
    "id": "0rWiBN3e2uTy"
   },
   "outputs": [],
   "source": [
    "tf.keras.backend.clear_session()"
   ]
  },
  {
   "cell_type": "code",
   "execution_count": null,
   "metadata": {
    "id": "2aNryQWP2xlo"
   },
   "outputs": [],
   "source": [
    "# LSTM Model with increased embedding output dimension\n",
    "\n",
    "text_input = Input(shape=(X_train.shape[1],),  name='text')\n",
    "embedding = Embedding(input_dim = vocab_size, output_dim = 100, input_length = max_length)(text_input)\n",
    "x = Bidirectional(LSTM(10))(embedding)\n",
    "x = Dense(10, activation = \"relu\")(x)\n",
    "output = Dense(5, activation=\"softmax\", name=\"predictions\")(x)\n",
    "\n",
    "model = Model(text_input, output)\n"
   ]
  },
  {
   "cell_type": "code",
   "execution_count": null,
   "metadata": {
    "colab": {
     "base_uri": "https://localhost:8080/"
    },
    "id": "k23Te3cP9l45",
    "outputId": "967ac00f-c708-48bd-c1ba-3a49ac3cf180"
   },
   "outputs": [
    {
     "name": "stdout",
     "output_type": "stream",
     "text": [
      "Model: \"model\"\n",
      "_________________________________________________________________\n",
      "Layer (type)                 Output Shape              Param #   \n",
      "=================================================================\n",
      "text (InputLayer)            [(None, 238)]             0         \n",
      "_________________________________________________________________\n",
      "embedding (Embedding)        (None, 238, 100)          25803000  \n",
      "_________________________________________________________________\n",
      "bidirectional (Bidirectional (None, 20)                8880      \n",
      "_________________________________________________________________\n",
      "dense (Dense)                (None, 10)                210       \n",
      "_________________________________________________________________\n",
      "predictions (Dense)          (None, 5)                 55        \n",
      "=================================================================\n",
      "Total params: 25,812,145\n",
      "Trainable params: 25,812,145\n",
      "Non-trainable params: 0\n",
      "_________________________________________________________________\n"
     ]
    }
   ],
   "source": [
    "model.summary()"
   ]
  },
  {
   "cell_type": "markdown",
   "metadata": {
    "id": "cg_r-2mC2XsP"
   },
   "source": [
    "We observe high increase on the number of parameters to be learn by this models since output dimension of embedding layer now 10 times more."
   ]
  },
  {
   "cell_type": "code",
   "execution_count": null,
   "metadata": {
    "id": "ppt9lBoi21Um"
   },
   "outputs": [],
   "source": [
    "opt = Adam(0.0001)\n",
    "metrics_train = [tf.keras.metrics.CategoricalAccuracy(name=\"accuracy\"), \n",
    "                 tfa.metrics.F1Score(num_classes=5, average=\"weighted\", name=\"f1_weighted\")]\n",
    "\n",
    "model.compile(loss=\"categorical_crossentropy\",\n",
    "              optimizer=opt,\n",
    "              metrics= metrics_train)\n"
   ]
  },
  {
   "cell_type": "code",
   "execution_count": null,
   "metadata": {
    "colab": {
     "base_uri": "https://localhost:8080/"
    },
    "id": "m3o8qkMk23VA",
    "outputId": "b25fa5d7-b292-4715-9a38-637d4e3a7dde"
   },
   "outputs": [
    {
     "name": "stdout",
     "output_type": "stream",
     "text": [
      "Epoch 1/20\n",
      "885/885 [==============================] - 331s 370ms/step - loss: 1.3956 - accuracy: 0.4254 - f1_weighted: 0.3406 - val_loss: 0.8832 - val_accuracy: 0.6741 - val_f1_weighted: 0.6251\n",
      "Epoch 2/20\n",
      "885/885 [==============================] - 327s 370ms/step - loss: 0.8371 - accuracy: 0.6832 - f1_weighted: 0.6352 - val_loss: 0.7664 - val_accuracy: 0.6958 - val_f1_weighted: 0.6474\n",
      "Epoch 3/20\n",
      "885/885 [==============================] - 325s 367ms/step - loss: 0.7448 - accuracy: 0.7020 - f1_weighted: 0.6522 - val_loss: 0.7208 - val_accuracy: 0.7036 - val_f1_weighted: 0.6541\n",
      "Epoch 4/20\n",
      "885/885 [==============================] - 325s 367ms/step - loss: 0.6970 - accuracy: 0.7206 - f1_weighted: 0.6792 - val_loss: 0.6780 - val_accuracy: 0.7489 - val_f1_weighted: 0.7188\n",
      "Epoch 5/20\n",
      "885/885 [==============================] - 325s 368ms/step - loss: 0.6492 - accuracy: 0.7609 - f1_weighted: 0.7336 - val_loss: 0.6389 - val_accuracy: 0.7652 - val_f1_weighted: 0.7516\n",
      "Epoch 6/20\n",
      "885/885 [==============================] - 326s 369ms/step - loss: 0.6088 - accuracy: 0.7783 - f1_weighted: 0.7679 - val_loss: 0.6142 - val_accuracy: 0.7764 - val_f1_weighted: 0.7700\n",
      "Epoch 7/20\n",
      "885/885 [==============================] - 328s 370ms/step - loss: 0.5817 - accuracy: 0.7899 - f1_weighted: 0.7845 - val_loss: 0.5985 - val_accuracy: 0.7833 - val_f1_weighted: 0.7798\n",
      "Epoch 8/20\n",
      "885/885 [==============================] - 325s 367ms/step - loss: 0.5600 - accuracy: 0.7990 - f1_weighted: 0.7954 - val_loss: 0.5884 - val_accuracy: 0.7874 - val_f1_weighted: 0.7844\n",
      "Epoch 9/20\n",
      "885/885 [==============================] - 324s 366ms/step - loss: 0.5451 - accuracy: 0.8048 - f1_weighted: 0.8019 - val_loss: 0.5816 - val_accuracy: 0.7900 - val_f1_weighted: 0.7870\n",
      "Epoch 10/20\n",
      "885/885 [==============================] - 323s 365ms/step - loss: 0.5325 - accuracy: 0.8096 - f1_weighted: 0.8070 - val_loss: 0.5768 - val_accuracy: 0.7914 - val_f1_weighted: 0.7895\n",
      "Epoch 11/20\n",
      "885/885 [==============================] - 323s 365ms/step - loss: 0.5213 - accuracy: 0.8138 - f1_weighted: 0.8114 - val_loss: 0.5739 - val_accuracy: 0.7925 - val_f1_weighted: 0.7908\n",
      "Epoch 12/20\n",
      "885/885 [==============================] - 324s 367ms/step - loss: 0.5148 - accuracy: 0.8167 - f1_weighted: 0.8145 - val_loss: 0.5722 - val_accuracy: 0.7936 - val_f1_weighted: 0.7909\n",
      "Epoch 13/20\n",
      "885/885 [==============================] - 325s 367ms/step - loss: 0.5048 - accuracy: 0.8202 - f1_weighted: 0.8181 - val_loss: 0.5712 - val_accuracy: 0.7941 - val_f1_weighted: 0.7915\n",
      "Epoch 14/20\n",
      "885/885 [==============================] - 324s 366ms/step - loss: 0.4986 - accuracy: 0.8223 - f1_weighted: 0.8203 - val_loss: 0.5705 - val_accuracy: 0.7942 - val_f1_weighted: 0.7920\n",
      "Epoch 15/20\n",
      "885/885 [==============================] - 323s 366ms/step - loss: 0.4924 - accuracy: 0.8252 - f1_weighted: 0.8232 - val_loss: 0.5705 - val_accuracy: 0.7943 - val_f1_weighted: 0.7924\n",
      "Epoch 16/20\n",
      "885/885 [==============================] - 324s 366ms/step - loss: 0.4867 - accuracy: 0.8272 - f1_weighted: 0.8253 - val_loss: 0.5715 - val_accuracy: 0.7938 - val_f1_weighted: 0.7923\n",
      "Epoch 17/20\n",
      "885/885 [==============================] - 324s 367ms/step - loss: 0.4792 - accuracy: 0.8302 - f1_weighted: 0.8283 - val_loss: 0.5718 - val_accuracy: 0.7940 - val_f1_weighted: 0.7919\n",
      "Epoch 18/20\n",
      "885/885 [==============================] - 324s 366ms/step - loss: 0.4737 - accuracy: 0.8323 - f1_weighted: 0.8305 - val_loss: 0.5753 - val_accuracy: 0.7931 - val_f1_weighted: 0.7901\n",
      "Epoch 19/20\n",
      "885/885 [==============================] - 322s 364ms/step - loss: 0.4699 - accuracy: 0.8341 - f1_weighted: 0.8324 - val_loss: 0.5737 - val_accuracy: 0.7939 - val_f1_weighted: 0.7919\n",
      "Epoch 20/20\n",
      "885/885 [==============================] - 323s 365ms/step - loss: 0.4655 - accuracy: 0.8355 - f1_weighted: 0.8338 - val_loss: 0.5783 - val_accuracy: 0.7926 - val_f1_weighted: 0.7896\n"
     ]
    }
   ],
   "source": [
    "BATCH_SIZE = 2000\n",
    "\n",
    "history = model.fit(x = X_train, y=y_train_new, validation_split= 0.2, epochs=20, batch_size=BATCH_SIZE, shuffle=True)"
   ]
  },
  {
   "cell_type": "code",
   "execution_count": null,
   "metadata": {
    "colab": {
     "base_uri": "https://localhost:8080/",
     "height": 461
    },
    "id": "fe_tQcfbQKCG",
    "outputId": "6eb9b2c6-e4a5-4100-9f3b-d7e207aa653a"
   },
   "outputs": [
    {
     "data": {
      "image/png": "[encoded data removed]",
      "text/plain": [
       "<Figure size 1296x432 with 3 Axes>"
      ]
     },
     "metadata": {
      "needs_background": "light",
      "tags": []
     },
     "output_type": "display_data"
    }
   ],
   "source": [
    "plot_performance(history)"
   ]
  },
  {
   "cell_type": "code",
   "execution_count": null,
   "metadata": {
    "id": "YXLM162EQaZ4"
   },
   "outputs": [],
   "source": [
    "# os.chdir(\"/content/drive/MyDrive/PubMed_200k_RCT/model\")"
   ]
  },
  {
   "cell_type": "code",
   "execution_count": null,
   "metadata": {
    "id": "cU7Eo0A9QQhZ"
   },
   "outputs": [],
   "source": [
    "# model.save(\"lstm_080f1.h5\")\n"
   ]
  },
  {
   "cell_type": "code",
   "execution_count": null,
   "metadata": {
    "colab": {
     "base_uri": "https://localhost:8080/"
    },
    "id": "nJvJ4cJW-eVR",
    "outputId": "ec0352f2-0a77-4a9d-a2b5-e624c4d079a7"
   },
   "outputs": [
    {
     "name": "stdout",
     "output_type": "stream",
     "text": [
      "905/905 [==============================] - 9s 10ms/step - loss: 0.5436 - accuracy: 0.8014 - f1_weighted: 0.7987\n",
      "Validation Loss:0.544\n",
      "Validation Accuracy:0.801\n",
      "Validation Weighted F1:0.799\n"
     ]
    }
   ],
   "source": [
    "# Validation set performance\n",
    "loss_val, acc_val, f1_val = model.evaluate(X_val, y_val_new)\n",
    "\n",
    "print('Validation Loss:%.3f' % loss_val)\n",
    "print('Validation Accuracy:%.3f' %  acc_val)\n",
    "print('Validation Weighted F1:%.3f' %  f1_val)"
   ]
  },
  {
   "cell_type": "code",
   "execution_count": null,
   "metadata": {
    "colab": {
     "base_uri": "https://localhost:8080/"
    },
    "id": "fLe12jV7_j2i",
    "outputId": "5e000d39-590f-491c-983b-bbc12b616394"
   },
   "outputs": [
    {
     "name": "stdout",
     "output_type": "stream",
     "text": [
      "922/922 [==============================] - 9s 10ms/step - loss: 0.5579 - accuracy: 0.8011 - f1_weighted: 0.7979\n",
      "Test Loss:0.558\n",
      "Test Accuracy:0.801\n",
      "Test Weighted F1:0.798\n"
     ]
    }
   ],
   "source": [
    "# Testset performance\n",
    "score_test, acc_test, f1_test = model.evaluate(X_test, y_test_new)\n",
    "\n",
    "print('Test Loss:%.3f' % score_test)\n",
    "print('Test Accuracy:%.3f' %  acc_test)\n",
    "print('Test Weighted F1:%.3f' %  f1_test)"
   ]
  },
  {
   "cell_type": "markdown",
   "metadata": {
    "id": "g3DNGV7_DV9w"
   },
   "source": [
    "Increasing output dimension of embedding layer provided 2% performance increase overall. However, it comes with a price. Computational cost of training such model is very expensive.\n",
    "\n",
    "In the following, we decrease this dimension 20 to reduce computational complexity and increase model complexity by adding additional Bidirectional layer with 10 LSTM units and 100 neurons into dense layer to capture more dependencies. Additionally, since model complexity increases we introduce dropout layer to avoid possible overfitting problems."
   ]
  },
  {
   "cell_type": "code",
   "execution_count": null,
   "metadata": {
    "id": "12abX3ULwBkG"
   },
   "outputs": [],
   "source": [
    "# Clearing session\n",
    "tf.keras.backend.clear_session()"
   ]
  },
  {
   "cell_type": "code",
   "execution_count": null,
   "metadata": {
    "id": "tDSbcgugSx7z"
   },
   "outputs": [],
   "source": [
    "# LSTM Model with 20 embedding output dimension with additional Bidirectional layer with 10 LSTM units.\n",
    "\n",
    "text_input = Input(shape=(X_train.shape[1],),  name='text')\n",
    "embedding = Embedding(input_dim = vocab_size, output_dim = 20, input_length = max_length)(text_input)\n",
    "x = Bidirectional(LSTM(10, return_sequences=True))(embedding)\n",
    "x = Bidirectional(LSTM(10))(x)\n",
    "x = Dense(100, activation = \"relu\")(x)\n",
    "x = Dropout(0.2)(x)\n",
    "output = Dense(5, activation=\"softmax\", name=\"predictions\")(x)\n",
    "\n",
    "model = Model(text_input, output)\n"
   ]
  },
  {
   "cell_type": "code",
   "execution_count": null,
   "metadata": {
    "colab": {
     "base_uri": "https://localhost:8080/"
    },
    "id": "IwGii0gUTPcm",
    "outputId": "c3b155c4-aeb9-43a9-c6f3-7ac47610af8d"
   },
   "outputs": [
    {
     "name": "stdout",
     "output_type": "stream",
     "text": [
      "Model: \"model\"\n",
      "_________________________________________________________________\n",
      "Layer (type)                 Output Shape              Param #   \n",
      "=================================================================\n",
      "text (InputLayer)            [(None, 238)]             0         \n",
      "_________________________________________________________________\n",
      "embedding (Embedding)        (None, 238, 20)           5160600   \n",
      "_________________________________________________________________\n",
      "bidirectional (Bidirectional (None, 238, 20)           2480      \n",
      "_________________________________________________________________\n",
      "bidirectional_1 (Bidirection (None, 20)                2480      \n",
      "_________________________________________________________________\n",
      "dense (Dense)                (None, 100)               2100      \n",
      "_________________________________________________________________\n",
      "dropout (Dropout)            (None, 100)               0         \n",
      "_________________________________________________________________\n",
      "predictions (Dense)          (None, 5)                 505       \n",
      "=================================================================\n",
      "Total params: 5,168,165\n",
      "Trainable params: 5,168,165\n",
      "Non-trainable params: 0\n",
      "_________________________________________________________________\n"
     ]
    }
   ],
   "source": [
    "model.summary()"
   ]
  },
  {
   "cell_type": "code",
   "execution_count": null,
   "metadata": {
    "id": "V-q-b_giSx_F"
   },
   "outputs": [],
   "source": [
    "opt = Adam(0.0001)\n",
    "metrics_train = [tf.keras.metrics.CategoricalAccuracy(name=\"accuracy\"), \n",
    "                 tfa.metrics.F1Score(num_classes=5, average=\"weighted\", name=\"f1_weighted\")]\n",
    "\n",
    "model.compile(loss=\"categorical_crossentropy\",\n",
    "              optimizer=opt,\n",
    "              metrics= metrics_train)"
   ]
  },
  {
   "cell_type": "code",
   "execution_count": null,
   "metadata": {
    "colab": {
     "base_uri": "https://localhost:8080/"
    },
    "id": "NnlUHn09SyCK",
    "outputId": "eac8ccdc-1d28-4096-8e15-107985681914"
   },
   "outputs": [
    {
     "name": "stdout",
     "output_type": "stream",
     "text": [
      "Epoch 1/20\n",
      "885/885 [==============================] - 132s 144ms/step - loss: 1.4248 - accuracy: 0.3754 - f1_weighted: 0.3180 - val_loss: 0.8653 - val_accuracy: 0.6577 - val_f1_weighted: 0.6140\n",
      "Epoch 2/20\n",
      "885/885 [==============================] - 126s 143ms/step - loss: 0.8033 - accuracy: 0.6832 - f1_weighted: 0.6562 - val_loss: 0.6941 - val_accuracy: 0.7384 - val_f1_weighted: 0.7145\n",
      "Epoch 3/20\n",
      "885/885 [==============================] - 126s 143ms/step - loss: 0.6783 - accuracy: 0.7456 - f1_weighted: 0.7297 - val_loss: 0.6467 - val_accuracy: 0.7603 - val_f1_weighted: 0.7511\n",
      "Epoch 4/20\n",
      "885/885 [==============================] - 126s 143ms/step - loss: 0.6352 - accuracy: 0.7661 - f1_weighted: 0.7580 - val_loss: 0.6303 - val_accuracy: 0.7683 - val_f1_weighted: 0.7627\n",
      "Epoch 5/20\n",
      "885/885 [==============================] - 127s 143ms/step - loss: 0.6131 - accuracy: 0.7763 - f1_weighted: 0.7708 - val_loss: 0.6210 - val_accuracy: 0.7726 - val_f1_weighted: 0.7684\n",
      "Epoch 6/20\n",
      "885/885 [==============================] - 127s 143ms/step - loss: 0.5977 - accuracy: 0.7842 - f1_weighted: 0.7799 - val_loss: 0.6142 - val_accuracy: 0.7751 - val_f1_weighted: 0.7716\n",
      "Epoch 7/20\n",
      "885/885 [==============================] - 127s 144ms/step - loss: 0.5853 - accuracy: 0.7893 - f1_weighted: 0.7858 - val_loss: 0.6080 - val_accuracy: 0.7784 - val_f1_weighted: 0.7759\n",
      "Epoch 8/20\n",
      "885/885 [==============================] - 127s 144ms/step - loss: 0.5715 - accuracy: 0.7960 - f1_weighted: 0.7930 - val_loss: 0.6021 - val_accuracy: 0.7816 - val_f1_weighted: 0.7787\n",
      "Epoch 9/20\n",
      "885/885 [==============================] - 127s 143ms/step - loss: 0.5606 - accuracy: 0.8013 - f1_weighted: 0.7986 - val_loss: 0.6001 - val_accuracy: 0.7834 - val_f1_weighted: 0.7798\n",
      "Epoch 10/20\n",
      "885/885 [==============================] - 127s 144ms/step - loss: 0.5498 - accuracy: 0.8062 - f1_weighted: 0.8037 - val_loss: 0.5960 - val_accuracy: 0.7853 - val_f1_weighted: 0.7821\n",
      "Epoch 11/20\n",
      "885/885 [==============================] - 127s 143ms/step - loss: 0.5406 - accuracy: 0.8103 - f1_weighted: 0.8080 - val_loss: 0.5947 - val_accuracy: 0.7856 - val_f1_weighted: 0.7838\n",
      "Epoch 12/20\n",
      "885/885 [==============================] - 127s 143ms/step - loss: 0.5322 - accuracy: 0.8138 - f1_weighted: 0.8116 - val_loss: 0.5961 - val_accuracy: 0.7864 - val_f1_weighted: 0.7824\n",
      "Epoch 13/20\n",
      "885/885 [==============================] - 126s 142ms/step - loss: 0.5257 - accuracy: 0.8170 - f1_weighted: 0.8149 - val_loss: 0.5954 - val_accuracy: 0.7861 - val_f1_weighted: 0.7848\n",
      "Epoch 14/20\n",
      "885/885 [==============================] - 126s 143ms/step - loss: 0.5179 - accuracy: 0.8202 - f1_weighted: 0.8183 - val_loss: 0.5947 - val_accuracy: 0.7866 - val_f1_weighted: 0.7841\n",
      "Epoch 15/20\n",
      "885/885 [==============================] - 128s 144ms/step - loss: 0.5113 - accuracy: 0.8231 - f1_weighted: 0.8212 - val_loss: 0.5952 - val_accuracy: 0.7867 - val_f1_weighted: 0.7844\n",
      "Epoch 16/20\n",
      "885/885 [==============================] - 127s 144ms/step - loss: 0.5048 - accuracy: 0.8255 - f1_weighted: 0.8237 - val_loss: 0.5986 - val_accuracy: 0.7855 - val_f1_weighted: 0.7836\n",
      "Epoch 17/20\n",
      "885/885 [==============================] - 127s 144ms/step - loss: 0.4994 - accuracy: 0.8274 - f1_weighted: 0.8256 - val_loss: 0.5985 - val_accuracy: 0.7855 - val_f1_weighted: 0.7842\n",
      "Epoch 18/20\n",
      "885/885 [==============================] - 127s 143ms/step - loss: 0.4949 - accuracy: 0.8295 - f1_weighted: 0.8278 - val_loss: 0.6030 - val_accuracy: 0.7842 - val_f1_weighted: 0.7829\n",
      "Epoch 19/20\n",
      "885/885 [==============================] - 125s 142ms/step - loss: 0.4885 - accuracy: 0.8318 - f1_weighted: 0.8302 - val_loss: 0.6059 - val_accuracy: 0.7842 - val_f1_weighted: 0.7808\n",
      "Epoch 20/20\n",
      "885/885 [==============================] - 126s 142ms/step - loss: 0.4850 - accuracy: 0.8334 - f1_weighted: 0.8318 - val_loss: 0.6057 - val_accuracy: 0.7838 - val_f1_weighted: 0.7823\n"
     ]
    }
   ],
   "source": [
    "BATCH_SIZE = 2000\n",
    "\n",
    "history = model.fit(x = X_train, y=y_train_new, validation_split= 0.2, epochs=20, batch_size=BATCH_SIZE, shuffle=True)"
   ]
  },
  {
   "cell_type": "code",
   "execution_count": null,
   "metadata": {
    "colab": {
     "base_uri": "https://localhost:8080/",
     "height": 404
    },
    "id": "KPJEg5fBasIe",
    "outputId": "a5fa02b0-5314-4b1a-d645-5e7a68695725"
   },
   "outputs": [
    {
     "data": {
      "image/png": "[encoded data removed]",
      "text/plain": [
       "<Figure size 1296x432 with 3 Axes>"
      ]
     },
     "metadata": {
      "needs_background": "light",
      "tags": []
     },
     "output_type": "display_data"
    }
   ],
   "source": [
    "plot_performance(history)"
   ]
  },
  {
   "cell_type": "code",
   "execution_count": null,
   "metadata": {
    "colab": {
     "base_uri": "https://localhost:8080/"
    },
    "id": "IsKgcpSOSyFL",
    "outputId": "819b4534-e7f6-4e01-eff7-8854a3a92050"
   },
   "outputs": [
    {
     "name": "stdout",
     "output_type": "stream",
     "text": [
      "905/905 [==============================] - 15s 16ms/step - loss: 0.5774 - accuracy: 0.7908 - f1_weighted: 0.7896\n",
      "Validation Loss:0.577\n",
      "Validation Accuracy:0.791\n",
      "Validation Weighted F1:0.790\n"
     ]
    }
   ],
   "source": [
    "# Validation set performance\n",
    "loss_val, acc_val, f1_val = model.evaluate(X_val, y_val_new)\n",
    "\n",
    "print('Validation Loss:%.3f' % loss_val)\n",
    "print('Validation Accuracy:%.3f' %  acc_val)\n",
    "print('Validation Weighted F1:%.3f' %  f1_val)"
   ]
  },
  {
   "cell_type": "code",
   "execution_count": null,
   "metadata": {
    "colab": {
     "base_uri": "https://localhost:8080/"
    },
    "id": "LwoqKHS0TV11",
    "outputId": "4be1e468-cf8c-47be-bac1-6446ab7fd8a3"
   },
   "outputs": [
    {
     "name": "stdout",
     "output_type": "stream",
     "text": [
      "922/922 [==============================] - 15s 16ms/step - loss: 0.5900 - accuracy: 0.7898 - f1_weighted: 0.7879\n",
      "Test Loss:0.590\n",
      "Test Accuracy:0.790\n",
      "Test Weighted F1:0.788\n"
     ]
    }
   ],
   "source": [
    "# Testset performance\n",
    "score_test, acc_test, f1_test = model.evaluate(X_test, y_test_new)\n",
    "\n",
    "print('Test Loss:%.3f' % score_test)\n",
    "print('Test Accuracy:%.3f' %  acc_test)\n",
    "print('Test Weighted F1:%.3f' %  f1_test)"
   ]
  },
  {
   "cell_type": "markdown",
   "metadata": {
    "id": "D5FAKlux3S3N"
   },
   "source": [
    "Sadly, this model did not outperform the previous model however it is much cheaper to train this model since it has only 5 million parameters due to output embedding size of 20. Please note that it was 25 million parameter in the case of output embedding size of 100.\n",
    "\n",
    "This model provides 78.8%  weighted F1 score and 79% accuracy.\n",
    "\n",
    "With this scores, we continue to experiment the idea of lighter but more complex models. Thus, in the following we increase number of LSTM units to 60 and reduce the output embedding size to 10 and introduce heavier dropout degree of 0.5."
   ]
  },
  {
   "cell_type": "code",
   "execution_count": null,
   "metadata": {
    "id": "LhBkHGvCarA-"
   },
   "outputs": [],
   "source": [
    "# Clearing session\n",
    "tf.keras.backend.clear_session()"
   ]
  },
  {
   "cell_type": "code",
   "execution_count": null,
   "metadata": {
    "id": "WaTOhFh6bCY0"
   },
   "outputs": [],
   "source": [
    "# LSTM Model\n",
    "\n",
    "text_input = Input(shape=(X_train.shape[1],),  name='text')\n",
    "embedding = Embedding(input_dim = vocab_size, output_dim = 10, input_length = max_length)(text_input)\n",
    "x = Bidirectional(LSTM(60, return_sequences=True))(embedding)\n",
    "x = Bidirectional(LSTM(60))(x)\n",
    "x = Dense(100, activation = \"relu\")(x)\n",
    "x = Dropout(0.5)(x)\n",
    "output = Dense(5, activation=\"softmax\", name=\"predictions\")(x)\n",
    "\n",
    "model = Model(text_input, output)\n"
   ]
  },
  {
   "cell_type": "code",
   "execution_count": null,
   "metadata": {
    "colab": {
     "base_uri": "https://localhost:8080/"
    },
    "id": "MuUq0RxAbDAu",
    "outputId": "6a2b5e04-6f64-4038-8bd4-fd280ee39721"
   },
   "outputs": [
    {
     "name": "stdout",
     "output_type": "stream",
     "text": [
      "Model: \"model\"\n",
      "_________________________________________________________________\n",
      "Layer (type)                 Output Shape              Param #   \n",
      "=================================================================\n",
      "text (InputLayer)            [(None, 238)]             0         \n",
      "_________________________________________________________________\n",
      "embedding (Embedding)        (None, 238, 10)           2580300   \n",
      "_________________________________________________________________\n",
      "bidirectional (Bidirectional (None, 238, 120)          34080     \n",
      "_________________________________________________________________\n",
      "bidirectional_1 (Bidirection (None, 120)               86880     \n",
      "_________________________________________________________________\n",
      "dense (Dense)                (None, 100)               12100     \n",
      "_________________________________________________________________\n",
      "dropout (Dropout)            (None, 100)               0         \n",
      "_________________________________________________________________\n",
      "predictions (Dense)          (None, 5)                 505       \n",
      "=================================================================\n",
      "Total params: 2,713,865\n",
      "Trainable params: 2,713,865\n",
      "Non-trainable params: 0\n",
      "_________________________________________________________________\n"
     ]
    }
   ],
   "source": [
    "model.summary()"
   ]
  },
  {
   "cell_type": "code",
   "execution_count": null,
   "metadata": {
    "id": "oNL_Vh6Odb_O"
   },
   "outputs": [],
   "source": [
    "opt = Adam(0.001)\n",
    "metrics_train = [tf.keras.metrics.CategoricalAccuracy(name=\"accuracy\"), \n",
    "                 tfa.metrics.F1Score(num_classes=5, average=\"weighted\", name=\"f1_weighted\")]\n",
    "\n",
    "model.compile(loss=\"categorical_crossentropy\",\n",
    "              optimizer=opt,\n",
    "              metrics= metrics_train)"
   ]
  },
  {
   "cell_type": "code",
   "execution_count": null,
   "metadata": {
    "colab": {
     "base_uri": "https://localhost:8080/"
    },
    "id": "pZhbvJfTdcBu",
    "outputId": "62c65cd3-6fab-40c8-91aa-a03555688d1e"
   },
   "outputs": [
    {
     "name": "stdout",
     "output_type": "stream",
     "text": [
      "Epoch 1/5\n",
      "885/885 [==============================] - 297s 331ms/step - loss: 0.9219 - accuracy: 0.6219 - f1_weighted: 0.6032 - val_loss: 0.5863 - val_accuracy: 0.7870 - val_f1_weighted: 0.7846\n",
      "Epoch 2/5\n",
      "885/885 [==============================] - 292s 330ms/step - loss: 0.5812 - accuracy: 0.7949 - f1_weighted: 0.7924 - val_loss: 0.5642 - val_accuracy: 0.7962 - val_f1_weighted: 0.7939\n",
      "Epoch 3/5\n",
      "885/885 [==============================] - 292s 330ms/step - loss: 0.5307 - accuracy: 0.8144 - f1_weighted: 0.8125 - val_loss: 0.5615 - val_accuracy: 0.7970 - val_f1_weighted: 0.7941\n",
      "Epoch 4/5\n",
      "885/885 [==============================] - 293s 331ms/step - loss: 0.4980 - accuracy: 0.8262 - f1_weighted: 0.8246 - val_loss: 0.5558 - val_accuracy: 0.7984 - val_f1_weighted: 0.7968\n",
      "Epoch 5/5\n",
      "885/885 [==============================] - 293s 331ms/step - loss: 0.4717 - accuracy: 0.8356 - f1_weighted: 0.8342 - val_loss: 0.5636 - val_accuracy: 0.7984 - val_f1_weighted: 0.7961\n"
     ]
    }
   ],
   "source": [
    "BATCH_SIZE = 2000\n",
    "\n",
    "history = model.fit(x = X_train, y = y_train_new, validation_split= 0.2, epochs=5, batch_size=BATCH_SIZE, shuffle=True)"
   ]
  },
  {
   "cell_type": "code",
   "execution_count": null,
   "metadata": {
    "colab": {
     "base_uri": "https://localhost:8080/",
     "height": 404
    },
    "id": "nlbvVbxoqwB_",
    "outputId": "2c8e0a23-f803-490b-ce55-fd1cea8e29c6"
   },
   "outputs": [
    {
     "data": {
      "image/png": "[encoded data removed]",
      "text/plain": [
       "<Figure size 1296x432 with 3 Axes>"
      ]
     },
     "metadata": {
      "needs_background": "light",
      "tags": []
     },
     "output_type": "display_data"
    }
   ],
   "source": [
    "plot_performance(history)"
   ]
  },
  {
   "cell_type": "code",
   "execution_count": null,
   "metadata": {
    "colab": {
     "base_uri": "https://localhost:8080/"
    },
    "id": "FOajeUavdcE8",
    "outputId": "c79dd6ce-f592-4f98-8cf2-dcfcd86dcd6b"
   },
   "outputs": [
    {
     "name": "stdout",
     "output_type": "stream",
     "text": [
      "14465/14465 [==============================] - 206s 14ms/step - loss: 0.5324 - accuracy: 0.8057 - f1_weighted: 0.8039\n",
      "Validation Loss:0.532\n",
      "Validation Accuracy:0.806\n",
      "Validation Weighted F1:0.804\n"
     ]
    }
   ],
   "source": [
    "# Validation set performance\n",
    "loss_val, acc_val, f1_val = model.evaluate(X_val, y_val_new, batch_size=2)\n",
    "\n",
    "print('Validation Loss:%.3f' % loss_val)\n",
    "print('Validation Accuracy:%.3f' %  acc_val)\n",
    "print('Validation Weighted F1:%.3f' %  f1_val)"
   ]
  },
  {
   "cell_type": "code",
   "execution_count": null,
   "metadata": {
    "colab": {
     "base_uri": "https://localhost:8080/"
    },
    "id": "gYrmf8qrdcHq",
    "outputId": "d5e945f0-26fe-46f3-a12d-c8b41a1ab392"
   },
   "outputs": [
    {
     "name": "stdout",
     "output_type": "stream",
     "text": [
      "14744/14744 [==============================] - 209s 14ms/step - loss: 0.5403 - accuracy: 0.8067 - f1_weighted: 0.8043\n",
      "Test Loss:0.540\n",
      "Test Accuracy:0.807\n",
      "Test Weighted F1:0.804\n"
     ]
    }
   ],
   "source": [
    "# Testset performance\n",
    "score_test, acc_test, f1_test = model.evaluate(X_test, y_test_new, batch_size=2)\n",
    "\n",
    "print('Test Loss:%.3f' % score_test)\n",
    "print('Test Accuracy:%.3f' %  acc_test)\n",
    "print('Test Weighted F1:%.3f' %  f1_test)"
   ]
  },
  {
   "cell_type": "code",
   "execution_count": null,
   "metadata": {
    "id": "XH7m14MqsaGE"
   },
   "outputs": [],
   "source": [
    "# model.save(\"lstm_0805f1.h5\")"
   ]
  },
  {
   "cell_type": "markdown",
   "metadata": {
    "id": "T5m3wyM34Pxs"
   },
   "source": [
    "This model performs better that previous model, thus the above strategy works. However, it is clear that this model overfits on training dataset and it fails to generalize on validation split (20% of training dataset).\n",
    "\n",
    "With that in mind, we add LSTM dropout, created LSTM bottle neck to squeze the information towards the end of the network and decrease batch size to avoid overfitting and obtain more stable training. Additionally, we experimented different optimizer, RMSProp, in the following model with the hope of achieving better convergence."
   ]
  },
  {
   "cell_type": "code",
   "execution_count": null,
   "metadata": {
    "id": "S84SSdyedcKh"
   },
   "outputs": [],
   "source": [
    "# Clearing session\n",
    "tf.keras.backend.clear_session()"
   ]
  },
  {
   "cell_type": "code",
   "execution_count": null,
   "metadata": {
    "id": "MgCcCWzOrYuz"
   },
   "outputs": [],
   "source": [
    "# LSTM Model with RMSprop and LSTM Dropout\n",
    "\n",
    "text_input = Input(shape=(X_train.shape[1],),  name='text')\n",
    "embedding = Embedding(input_dim = vocab_size, output_dim = 10, input_length = max_length)(text_input)\n",
    "x = Bidirectional(LSTM(50, return_sequences=True, dropout=0.2))(embedding)\n",
    "x = Bidirectional(LSTM(10))(x)\n",
    "x = Dense(100, activation = \"relu\")(x)\n",
    "x = Dropout(0.5)(x)\n",
    "output = Dense(5, activation=\"softmax\", name=\"predictions\")(x)\n",
    "\n",
    "model = Model(text_input, output)\n"
   ]
  },
  {
   "cell_type": "code",
   "execution_count": null,
   "metadata": {
    "colab": {
     "base_uri": "https://localhost:8080/"
    },
    "id": "Iu8EFk5nst0P",
    "outputId": "36b7df1c-74f2-41a3-84c5-eefa0f51ff23"
   },
   "outputs": [
    {
     "name": "stdout",
     "output_type": "stream",
     "text": [
      "Model: \"model_1\"\n",
      "_________________________________________________________________\n",
      "Layer (type)                 Output Shape              Param #   \n",
      "=================================================================\n",
      "text (InputLayer)            [(None, 238)]             0         \n",
      "_________________________________________________________________\n",
      "embedding_4 (Embedding)      (None, 238, 10)           2580300   \n",
      "_________________________________________________________________\n",
      "bidirectional_9 (Bidirection (None, 238, 100)          24400     \n",
      "_________________________________________________________________\n",
      "bidirectional_10 (Bidirectio (None, 20)                8880      \n",
      "_________________________________________________________________\n",
      "dense_1 (Dense)              (None, 100)               2100      \n",
      "_________________________________________________________________\n",
      "dropout_1 (Dropout)          (None, 100)               0         \n",
      "_________________________________________________________________\n",
      "predictions (Dense)          (None, 5)                 505       \n",
      "=================================================================\n",
      "Total params: 2,616,185\n",
      "Trainable params: 2,616,185\n",
      "Non-trainable params: 0\n",
      "_________________________________________________________________\n"
     ]
    }
   ],
   "source": [
    "model.summary()"
   ]
  },
  {
   "cell_type": "code",
   "execution_count": null,
   "metadata": {
    "id": "RwG5M99jrYzH"
   },
   "outputs": [],
   "source": [
    "\n",
    "opt2 = RMSprop(0.001)\n",
    "metrics_train = [tf.keras.metrics.CategoricalAccuracy(name=\"accuracy\"), \n",
    "                 tfa.metrics.F1Score(num_classes=5, average=\"weighted\", name=\"f1_weighted\")]\n",
    "\n",
    "model.compile(loss=\"categorical_crossentropy\",\n",
    "              optimizer=opt2,\n",
    "              metrics= metrics_train)"
   ]
  },
  {
   "cell_type": "code",
   "execution_count": null,
   "metadata": {
    "colab": {
     "base_uri": "https://localhost:8080/"
    },
    "id": "FnszU7dfEHz-",
    "outputId": "12156cbf-f100-43e0-e158-f0e8feff2e47"
   },
   "outputs": [
    {
     "name": "stdout",
     "output_type": "stream",
     "text": [
      "Epoch 1/10\n",
      "1770/1770 [==============================] - 216s 119ms/step - loss: 0.9011 - accuracy: 0.6272 - f1_weighted: 0.6089 - val_loss: 0.6026 - val_accuracy: 0.7811 - val_f1_weighted: 0.7789\n",
      "Epoch 2/10\n",
      "1770/1770 [==============================] - 214s 121ms/step - loss: 0.6104 - accuracy: 0.7835 - f1_weighted: 0.7805 - val_loss: 0.5699 - val_accuracy: 0.7949 - val_f1_weighted: 0.7895\n",
      "Epoch 3/10\n",
      "1770/1770 [==============================] - 212s 120ms/step - loss: 0.5788 - accuracy: 0.7958 - f1_weighted: 0.7932 - val_loss: 0.5575 - val_accuracy: 0.7989 - val_f1_weighted: 0.7933\n",
      "Epoch 4/10\n",
      "1770/1770 [==============================] - 212s 120ms/step - loss: 0.5606 - accuracy: 0.8020 - f1_weighted: 0.7996 - val_loss: 0.5427 - val_accuracy: 0.8034 - val_f1_weighted: 0.7992\n",
      "Epoch 5/10\n",
      "1770/1770 [==============================] - 212s 120ms/step - loss: 0.5491 - accuracy: 0.8066 - f1_weighted: 0.8042 - val_loss: 0.5330 - val_accuracy: 0.8077 - val_f1_weighted: 0.8052\n",
      "Epoch 6/10\n",
      "1770/1770 [==============================] - 211s 119ms/step - loss: 0.5398 - accuracy: 0.8095 - f1_weighted: 0.8073 - val_loss: 0.5289 - val_accuracy: 0.8093 - val_f1_weighted: 0.8081\n",
      "Epoch 7/10\n",
      "1770/1770 [==============================] - 212s 120ms/step - loss: 0.5325 - accuracy: 0.8129 - f1_weighted: 0.8107 - val_loss: 0.5238 - val_accuracy: 0.8111 - val_f1_weighted: 0.8098\n",
      "Epoch 8/10\n",
      "1770/1770 [==============================] - 213s 120ms/step - loss: 0.5244 - accuracy: 0.8156 - f1_weighted: 0.8135 - val_loss: 0.5186 - val_accuracy: 0.8131 - val_f1_weighted: 0.8108\n",
      "Epoch 9/10\n",
      "1770/1770 [==============================] - 212s 120ms/step - loss: 0.5187 - accuracy: 0.8178 - f1_weighted: 0.8157 - val_loss: 0.5184 - val_accuracy: 0.8136 - val_f1_weighted: 0.8115\n",
      "Epoch 10/10\n",
      "1770/1770 [==============================] - 213s 120ms/step - loss: 0.5140 - accuracy: 0.8200 - f1_weighted: 0.8180 - val_loss: 0.5102 - val_accuracy: 0.8163 - val_f1_weighted: 0.8142\n"
     ]
    }
   ],
   "source": [
    "BATCH_SIZE = 1000\n",
    "\n",
    "history = model.fit(x = X_train, y = y_train_new, validation_split= 0.2, epochs=10, batch_size=BATCH_SIZE, shuffle=True)"
   ]
  },
  {
   "cell_type": "code",
   "execution_count": null,
   "metadata": {
    "colab": {
     "base_uri": "https://localhost:8080/",
     "height": 311
    },
    "id": "nGWLmakirY6j",
    "outputId": "1fe71469-9061-4590-8fa5-542487eebdfa"
   },
   "outputs": [
    {
     "data": {
      "image/png": "[encoded data removed]",
      "text/plain": [
       "<Figure size 1296x432 with 3 Axes>"
      ]
     },
     "metadata": {
      "needs_background": "light",
      "tags": []
     },
     "output_type": "display_data"
    }
   ],
   "source": [
    "plot_performance(history)"
   ]
  },
  {
   "cell_type": "code",
   "execution_count": null,
   "metadata": {
    "colab": {
     "base_uri": "https://localhost:8080/"
    },
    "id": "GapHfWbXHur5",
    "outputId": "30c23d53-dea1-4521-ae69-dd5defbdcde4"
   },
   "outputs": [
    {
     "name": "stdout",
     "output_type": "stream",
     "text": [
      "14465/14465 [==============================] - 202s 14ms/step - loss: 0.4750 - accuracy: 0.8232 - f1_weighted: 0.8215\n",
      "Validation Loss:0.475\n",
      "Validation Accuracy:0.823\n",
      "Validation Weighted F1:0.821\n"
     ]
    }
   ],
   "source": [
    "# Validation set performance\n",
    "loss_val, acc_val, f1_val = model.evaluate(X_val, y_val_new, batch_size=2)\n",
    "\n",
    "print('Validation Loss:%.3f' % loss_val)\n",
    "print('Validation Accuracy:%.3f' %  acc_val)\n",
    "print('Validation Weighted F1:%.3f' %  f1_val)"
   ]
  },
  {
   "cell_type": "code",
   "execution_count": null,
   "metadata": {
    "colab": {
     "base_uri": "https://localhost:8080/"
    },
    "id": "JX1V1im0IIQg",
    "outputId": "986f9ef2-3a87-4d12-e348-22d70556ec4f"
   },
   "outputs": [
    {
     "name": "stdout",
     "output_type": "stream",
     "text": [
      "14744/14744 [==============================] - 206s 14ms/step - loss: 0.4857 - accuracy: 0.8255 - f1_weighted: 0.8233\n",
      "Test Loss:0.486\n",
      "Test Accuracy:0.825\n",
      "Test Weighted F1:0.823\n"
     ]
    }
   ],
   "source": [
    "# Testset performance\n",
    "score_test, acc_test, f1_test = model.evaluate(X_test, y_test_new, batch_size=2)\n",
    "\n",
    "print('Test Loss:%.3f' % score_test)\n",
    "print('Test Accuracy:%.3f' %  acc_test)\n",
    "print('Test Weighted F1:%.3f' %  f1_test)"
   ]
  },
  {
   "cell_type": "markdown",
   "metadata": {
    "id": "oinKn-KM6dzp"
   },
   "source": [
    "With applying above-mentioned strategy, our model now achieves 82.5% test accuracy and 82.3% weighted F1 score. \n",
    "\n",
    "According to the model performance graphs, we can train this model with more epochs, since model performance increases through number of epochs."
   ]
  },
  {
   "cell_type": "code",
   "execution_count": null,
   "metadata": {
    "id": "yrjIEQ4_U9AV"
   },
   "outputs": [],
   "source": [
    "# os.chdir(\"/content/drive/MyDrive/PubMed_200k_RCT/model\")"
   ]
  },
  {
   "cell_type": "code",
   "execution_count": null,
   "metadata": {
    "colab": {
     "base_uri": "https://localhost:8080/"
    },
    "id": "i3gFEIuEV2FZ",
    "outputId": "3482a2c3-7158-46b4-cc95-c0edbfb04131"
   },
   "outputs": [
    {
     "name": "stdout",
     "output_type": "stream",
     "text": [
      "lstm_0805f1.h5\tlstm_080f1.h5  lstm_0825f1.h5\n"
     ]
    }
   ],
   "source": [
    "# !ls"
   ]
  },
  {
   "cell_type": "code",
   "execution_count": null,
   "metadata": {
    "id": "YjGlDWjkxAFb"
   },
   "outputs": [],
   "source": [
    "# model.save(\"lstm_0825f1.h5\")"
   ]
  },
  {
   "cell_type": "code",
   "execution_count": null,
   "metadata": {
    "id": "ZHtzq_rfUZHM"
   },
   "outputs": [],
   "source": [
    "# Clearing session\n",
    "tf.keras.backend.clear_session()"
   ]
  },
  {
   "cell_type": "code",
   "execution_count": null,
   "metadata": {
    "id": "sZDbtAlDUZHQ"
   },
   "outputs": [],
   "source": [
    "# LSTM Model with RMSprop and LSTM Dropout\n",
    "\n",
    "text_input = Input(shape=(X_train.shape[1],),  name='text')\n",
    "embedding = Embedding(input_dim = vocab_size, output_dim = 10, input_length = max_length)(text_input)\n",
    "x = Bidirectional(LSTM(50, return_sequences=True, dropout=0.2))(embedding)\n",
    "x = Bidirectional(LSTM(10))(x)\n",
    "x = Dense(100, activation = \"relu\")(x)\n",
    "x = Dropout(0.5)(x)\n",
    "output = Dense(5, activation=\"softmax\", name=\"predictions\")(x)\n",
    "\n",
    "model = Model(text_input, output)\n"
   ]
  },
  {
   "cell_type": "code",
   "execution_count": null,
   "metadata": {
    "colab": {
     "base_uri": "https://localhost:8080/"
    },
    "id": "Z6vQIswBUZHR",
    "outputId": "c4643120-042f-43b5-9acc-c2bb9a802718"
   },
   "outputs": [
    {
     "name": "stdout",
     "output_type": "stream",
     "text": [
      "Model: \"model\"\n",
      "_________________________________________________________________\n",
      "Layer (type)                 Output Shape              Param #   \n",
      "=================================================================\n",
      "text (InputLayer)            [(None, 238)]             0         \n",
      "_________________________________________________________________\n",
      "embedding (Embedding)        (None, 238, 10)           2580300   \n",
      "_________________________________________________________________\n",
      "bidirectional (Bidirectional (None, 238, 100)          24400     \n",
      "_________________________________________________________________\n",
      "bidirectional_1 (Bidirection (None, 20)                8880      \n",
      "_________________________________________________________________\n",
      "dense (Dense)                (None, 100)               2100      \n",
      "_________________________________________________________________\n",
      "dropout (Dropout)            (None, 100)               0         \n",
      "_________________________________________________________________\n",
      "predictions (Dense)          (None, 5)                 505       \n",
      "=================================================================\n",
      "Total params: 2,616,185\n",
      "Trainable params: 2,616,185\n",
      "Non-trainable params: 0\n",
      "_________________________________________________________________\n"
     ]
    }
   ],
   "source": [
    "model.summary()"
   ]
  },
  {
   "cell_type": "code",
   "execution_count": null,
   "metadata": {
    "id": "7QU4hooXUZHT"
   },
   "outputs": [],
   "source": [
    "\n",
    "opt2 = RMSprop(0.001)\n",
    "metrics_train = [tf.keras.metrics.CategoricalAccuracy(name=\"accuracy\"), \n",
    "                 tfa.metrics.F1Score(num_classes=5, average=\"weighted\", name=\"f1_weighted\")]\n",
    "\n",
    "model.compile(loss=\"categorical_crossentropy\",\n",
    "              optimizer=opt2,\n",
    "              metrics= metrics_train)"
   ]
  },
  {
   "cell_type": "code",
   "execution_count": null,
   "metadata": {
    "colab": {
     "base_uri": "https://localhost:8080/"
    },
    "id": "TVftkInkUZHU",
    "outputId": "5a103939-7be0-486a-c4b1-de762e716b0f"
   },
   "outputs": [
    {
     "name": "stdout",
     "output_type": "stream",
     "text": [
      "Epoch 1/15\n",
      "1770/1770 [==============================] - 246s 119ms/step - loss: 0.8791 - accuracy: 0.6450 - f1_weighted: 0.6271 - val_loss: 0.5975 - val_accuracy: 0.7834 - val_f1_weighted: 0.7783\n",
      "Epoch 2/15\n",
      "1770/1770 [==============================] - 209s 118ms/step - loss: 0.6111 - accuracy: 0.7825 - f1_weighted: 0.7794 - val_loss: 0.5730 - val_accuracy: 0.7922 - val_f1_weighted: 0.7915\n",
      "Epoch 3/15\n",
      "1770/1770 [==============================] - 210s 118ms/step - loss: 0.5813 - accuracy: 0.7947 - f1_weighted: 0.7921 - val_loss: 0.5605 - val_accuracy: 0.7967 - val_f1_weighted: 0.7918\n",
      "Epoch 4/15\n",
      "1770/1770 [==============================] - 209s 118ms/step - loss: 0.5637 - accuracy: 0.8014 - f1_weighted: 0.7990 - val_loss: 0.5393 - val_accuracy: 0.8046 - val_f1_weighted: 0.8020\n",
      "Epoch 5/15\n",
      "1770/1770 [==============================] - 210s 119ms/step - loss: 0.5490 - accuracy: 0.8061 - f1_weighted: 0.8039 - val_loss: 0.5323 - val_accuracy: 0.8079 - val_f1_weighted: 0.8059\n",
      "Epoch 6/15\n",
      "1770/1770 [==============================] - 210s 119ms/step - loss: 0.5373 - accuracy: 0.8106 - f1_weighted: 0.8084 - val_loss: 0.5284 - val_accuracy: 0.8097 - val_f1_weighted: 0.8088\n",
      "Epoch 7/15\n",
      "1770/1770 [==============================] - 209s 118ms/step - loss: 0.5299 - accuracy: 0.8137 - f1_weighted: 0.8115 - val_loss: 0.5251 - val_accuracy: 0.8104 - val_f1_weighted: 0.8101\n",
      "Epoch 8/15\n",
      "1770/1770 [==============================] - 209s 118ms/step - loss: 0.5227 - accuracy: 0.8165 - f1_weighted: 0.8144 - val_loss: 0.5224 - val_accuracy: 0.8119 - val_f1_weighted: 0.8085\n",
      "Epoch 9/15\n",
      "1770/1770 [==============================] - 209s 118ms/step - loss: 0.5152 - accuracy: 0.8195 - f1_weighted: 0.8175 - val_loss: 0.5104 - val_accuracy: 0.8167 - val_f1_weighted: 0.8153\n",
      "Epoch 10/15\n",
      "1770/1770 [==============================] - 212s 120ms/step - loss: 0.5105 - accuracy: 0.8210 - f1_weighted: 0.8191 - val_loss: 0.5054 - val_accuracy: 0.8186 - val_f1_weighted: 0.8168\n",
      "Epoch 11/15\n",
      "1770/1770 [==============================] - 210s 119ms/step - loss: 0.5051 - accuracy: 0.8236 - f1_weighted: 0.8217 - val_loss: 0.5093 - val_accuracy: 0.8169 - val_f1_weighted: 0.8153\n",
      "Epoch 12/15\n",
      "1770/1770 [==============================] - 210s 119ms/step - loss: 0.5008 - accuracy: 0.8248 - f1_weighted: 0.8230 - val_loss: 0.5067 - val_accuracy: 0.8189 - val_f1_weighted: 0.8180\n",
      "Epoch 13/15\n",
      "1770/1770 [==============================] - 210s 119ms/step - loss: 0.4997 - accuracy: 0.8260 - f1_weighted: 0.8241 - val_loss: 0.5083 - val_accuracy: 0.8187 - val_f1_weighted: 0.8192\n",
      "Epoch 14/15\n",
      "1770/1770 [==============================] - 211s 119ms/step - loss: 0.4945 - accuracy: 0.8278 - f1_weighted: 0.8260 - val_loss: 0.5026 - val_accuracy: 0.8205 - val_f1_weighted: 0.8193\n",
      "Epoch 15/15\n",
      "1770/1770 [==============================] - 210s 119ms/step - loss: 0.4916 - accuracy: 0.8287 - f1_weighted: 0.8268 - val_loss: 0.5021 - val_accuracy: 0.8212 - val_f1_weighted: 0.8195\n"
     ]
    }
   ],
   "source": [
    "BATCH_SIZE = 1000\n",
    "\n",
    "history = model.fit(x = X_train, y = y_train_new, validation_split= 0.2, epochs=15, batch_size=BATCH_SIZE, shuffle=True)"
   ]
  },
  {
   "cell_type": "code",
   "execution_count": null,
   "metadata": {
    "colab": {
     "base_uri": "https://localhost:8080/",
     "height": 341
    },
    "id": "rVj8pWbmUZHV",
    "outputId": "e2db8d76-51e8-4ed3-f7b0-3ab6a781a488"
   },
   "outputs": [
    {
     "data": {
      "image/png": "[encoded data removed]",
      "text/plain": [
       "<Figure size 1296x432 with 3 Axes>"
      ]
     },
     "metadata": {
      "needs_background": "light",
      "tags": []
     },
     "output_type": "display_data"
    }
   ],
   "source": [
    "plot_performance(history)"
   ]
  },
  {
   "cell_type": "code",
   "execution_count": null,
   "metadata": {
    "colab": {
     "base_uri": "https://localhost:8080/"
    },
    "id": "Cr5_A40XUZHa",
    "outputId": "8bd035f6-0db8-4a7c-be2b-1a085f09c1dd"
   },
   "outputs": [
    {
     "name": "stdout",
     "output_type": "stream",
     "text": [
      "14465/14465 [==============================] - 190s 13ms/step - loss: 0.4670 - accuracy: 0.8298 - f1_weighted: 0.8285\n",
      "Validation Loss:0.467\n",
      "Validation Accuracy:0.830\n",
      "Validation Weighted F1:0.828\n"
     ]
    }
   ],
   "source": [
    "# Validation set performance\n",
    "loss_val, acc_val, f1_val = model.evaluate(X_val, y_val_new, batch_size=2)\n",
    "\n",
    "print('Validation Loss:%.3f' % loss_val)\n",
    "print('Validation Accuracy:%.3f' %  acc_val)\n",
    "print('Validation Weighted F1:%.3f' %  f1_val)"
   ]
  },
  {
   "cell_type": "code",
   "execution_count": null,
   "metadata": {
    "colab": {
     "base_uri": "https://localhost:8080/"
    },
    "id": "AOXSB5t8UZHb",
    "outputId": "a60bf2e6-4eda-4204-af11-fccff271dc6c"
   },
   "outputs": [
    {
     "name": "stdout",
     "output_type": "stream",
     "text": [
      "14744/14744 [==============================] - 193s 13ms/step - loss: 0.4752 - accuracy: 0.8297 - f1_weighted: 0.8279\n",
      "Test Loss:0.475\n",
      "Test Accuracy:0.830\n",
      "Test Weighted F1:0.828\n"
     ]
    }
   ],
   "source": [
    "# Testset performance\n",
    "score_test, acc_test, f1_test = model.evaluate(X_test, y_test_new, batch_size=2)\n",
    "\n",
    "print('Test Loss:%.3f' % score_test)\n",
    "print('Test Accuracy:%.3f' %  acc_test)\n",
    "print('Test Weighted F1:%.3f' %  f1_test)"
   ]
  },
  {
   "cell_type": "markdown",
   "metadata": {
    "id": "s3Q0V4ZIyBKw"
   },
   "source": [
    "Higher amount of training resulted a bit better performance, thus this will be our final LSTM model to include in our project."
   ]
  },
  {
   "cell_type": "code",
   "execution_count": null,
   "metadata": {
    "id": "Ps3DqXxPHuYv"
   },
   "outputs": [],
   "source": [
    "# os.chdir(\"/content/drive/MyDrive/PubMed_200k_RCT/model\")"
   ]
  },
  {
   "cell_type": "code",
   "execution_count": null,
   "metadata": {
    "id": "89x18dfPHzZI"
   },
   "outputs": [],
   "source": [
    "# !ls"
   ]
  },
  {
   "cell_type": "code",
   "execution_count": null,
   "metadata": {
    "id": "qr-XOdOxUT3B"
   },
   "outputs": [],
   "source": [
    "# model.save(\"lstm_083f1.h5\")"
   ]
  },
  {
   "cell_type": "markdown",
   "metadata": {
    "id": "78zJOsMcJxRn"
   },
   "source": [
    "#### Task 4.2 GRU Based Model"
   ]
  },
  {
   "cell_type": "markdown",
   "metadata": {
    "id": "uUqTvb7G9GOL"
   },
   "source": [
    "##### Task 4.2.1: Vanilla GRU Model\n",
    "\n",
    "In this part of the code, we implement vanilla GRU architecture with max vocabulary size and output dimension of embedding layer 10.\n",
    "\n",
    "The architecture consists of Embedding Layer, GRU block, Dense Layer and Output Layer."
   ]
  },
  {
   "cell_type": "code",
   "execution_count": 38,
   "metadata": {
    "id": "9rmDVehhA31B"
   },
   "outputs": [],
   "source": [
    "# Clearing session\n",
    "tf.keras.backend.clear_session()"
   ]
  },
  {
   "cell_type": "code",
   "execution_count": 40,
   "metadata": {
    "id": "AZ5m03dXOUnH"
   },
   "outputs": [],
   "source": [
    "# Vanilla GRU Model\n",
    "text_input = Input(shape=(X_train.shape[1],),  name='text')\n",
    "embedding = Embedding(input_dim = vocab_size, output_dim = 10, input_length = max_length)(text_input)\n",
    "x = GRU(10)(embedding)\n",
    "x = Dense(10, activation = \"relu\")(x)\n",
    "output = Dense(5, activation=\"softmax\", name=\"predictions\")(x)\n",
    "\n",
    "model = Model(text_input, output)"
   ]
  },
  {
   "cell_type": "code",
   "execution_count": 48,
   "metadata": {
    "colab": {
     "base_uri": "https://localhost:8080/"
    },
    "id": "tkoyp7KbOWIl",
    "outputId": "9dc4d7d4-2290-4c8a-c981-68e543d9335e"
   },
   "outputs": [
    {
     "name": "stdout",
     "output_type": "stream",
     "text": [
      "Model: \"model\"\n",
      "_________________________________________________________________\n",
      "Layer (type)                 Output Shape              Param #   \n",
      "=================================================================\n",
      "text (InputLayer)            [(None, 238)]             0         \n",
      "_________________________________________________________________\n",
      "embedding (Embedding)        (None, 238, 10)           2580300   \n",
      "_________________________________________________________________\n",
      "gru (GRU)                    (None, 10)                660       \n",
      "_________________________________________________________________\n",
      "dense (Dense)                (None, 10)                110       \n",
      "_________________________________________________________________\n",
      "predictions (Dense)          (None, 5)                 55        \n",
      "=================================================================\n",
      "Total params: 2,581,125\n",
      "Trainable params: 2,581,125\n",
      "Non-trainable params: 0\n",
      "_________________________________________________________________\n"
     ]
    }
   ],
   "source": [
    "model.summary()"
   ]
  },
  {
   "cell_type": "code",
   "execution_count": 42,
   "metadata": {
    "id": "pqFa_GPaOXzw"
   },
   "outputs": [],
   "source": [
    "\n",
    "opt2 = Adam(0.0001)\n",
    "metrics_train = [tf.keras.metrics.CategoricalAccuracy(name=\"accuracy\"), \n",
    "                 tfa.metrics.F1Score(num_classes=5, average=\"weighted\", name=\"f1_weighted\")]\n",
    "\n",
    "model.compile(loss=\"categorical_crossentropy\",\n",
    "              optimizer=opt2,\n",
    "              metrics= metrics_train)"
   ]
  },
  {
   "cell_type": "code",
   "execution_count": 43,
   "metadata": {
    "colab": {
     "base_uri": "https://localhost:8080/"
    },
    "id": "h1CNriVXOY7p",
    "outputId": "27df9bc8-42ae-45ac-f5b3-b3969f47aff5"
   },
   "outputs": [
    {
     "name": "stdout",
     "output_type": "stream",
     "text": [
      "Epoch 1/10\n",
      "885/885 [==============================] - 56s 62ms/step - loss: 1.5471 - accuracy: 0.3278 - f1_weighted: 0.1851 - val_loss: 1.4442 - val_accuracy: 0.3461 - val_f1_weighted: 0.1780\n",
      "Epoch 2/10\n",
      "885/885 [==============================] - 53s 60ms/step - loss: 1.4441 - accuracy: 0.3463 - f1_weighted: 0.1782 - val_loss: 1.4440 - val_accuracy: 0.3461 - val_f1_weighted: 0.1780\n",
      "Epoch 3/10\n",
      "885/885 [==============================] - 54s 61ms/step - loss: 1.4449 - accuracy: 0.3464 - f1_weighted: 0.1782 - val_loss: 1.4440 - val_accuracy: 0.3461 - val_f1_weighted: 0.1780\n",
      "Epoch 4/10\n",
      "885/885 [==============================] - 54s 61ms/step - loss: 1.4452 - accuracy: 0.3463 - f1_weighted: 0.1781 - val_loss: 1.4440 - val_accuracy: 0.3461 - val_f1_weighted: 0.1780\n",
      "Epoch 5/10\n",
      "885/885 [==============================] - 53s 60ms/step - loss: 1.4447 - accuracy: 0.3467 - f1_weighted: 0.1785 - val_loss: 1.4439 - val_accuracy: 0.3461 - val_f1_weighted: 0.1780\n",
      "Epoch 6/10\n",
      "885/885 [==============================] - 53s 60ms/step - loss: 1.4442 - accuracy: 0.3467 - f1_weighted: 0.1785 - val_loss: 1.4439 - val_accuracy: 0.3461 - val_f1_weighted: 0.1780\n",
      "Epoch 7/10\n",
      "885/885 [==============================] - 53s 60ms/step - loss: 1.4443 - accuracy: 0.3468 - f1_weighted: 0.1786 - val_loss: 1.4439 - val_accuracy: 0.3461 - val_f1_weighted: 0.1780\n",
      "Epoch 8/10\n",
      "885/885 [==============================] - 53s 60ms/step - loss: 1.4441 - accuracy: 0.3466 - f1_weighted: 0.1784 - val_loss: 1.4440 - val_accuracy: 0.3461 - val_f1_weighted: 0.1780\n",
      "Epoch 9/10\n",
      "885/885 [==============================] - 53s 60ms/step - loss: 1.4437 - accuracy: 0.3470 - f1_weighted: 0.1788 - val_loss: 1.4440 - val_accuracy: 0.3461 - val_f1_weighted: 0.1780\n",
      "Epoch 10/10\n",
      "885/885 [==============================] - 53s 60ms/step - loss: 1.4447 - accuracy: 0.3463 - f1_weighted: 0.1781 - val_loss: 1.4439 - val_accuracy: 0.3461 - val_f1_weighted: 0.1780\n"
     ]
    }
   ],
   "source": [
    "BATCH_SIZE = 2000\n",
    "\n",
    "history = model.fit(x = X_train, y = y_train_new, validation_split= 0.2, epochs=10, batch_size=BATCH_SIZE, shuffle=True)"
   ]
  },
  {
   "cell_type": "code",
   "execution_count": 44,
   "metadata": {
    "colab": {
     "base_uri": "https://localhost:8080/",
     "height": 404
    },
    "id": "i6e9Zmx2Ock8",
    "outputId": "70987385-7e34-4cac-e49a-af07b39bdbe6"
   },
   "outputs": [
    {
     "data": {
      "image/png": "[encoded data removed]",
      "text/plain": [
       "<Figure size 1296x432 with 3 Axes>"
      ]
     },
     "metadata": {
      "needs_background": "light",
      "tags": []
     },
     "output_type": "display_data"
    }
   ],
   "source": [
    "plot_performance(history)"
   ]
  },
  {
   "cell_type": "code",
   "execution_count": 49,
   "metadata": {
    "colab": {
     "base_uri": "https://localhost:8080/"
    },
    "id": "yAj0qzgSOfE0",
    "outputId": "89959359-35a6-4c20-f329-a8e64cc7d3d9"
   },
   "outputs": [
    {
     "name": "stdout",
     "output_type": "stream",
     "text": [
      "905/905 [==============================] - 5s 6ms/step - loss: 1.4424 - accuracy: 0.3449 - f1_weighted: 0.1769\n",
      "Validation Loss:1.442\n",
      "Validation Accuracy:0.345\n",
      "Validation Weighted F1:0.177\n"
     ]
    }
   ],
   "source": [
    "# Validation set performance\n",
    "loss_val, acc_val, f1_val = model.evaluate(X_val, y_val_new)\n",
    "\n",
    "print('Validation Loss:%.3f' % loss_val)\n",
    "print('Validation Accuracy:%.3f' %  acc_val)\n",
    "print('Validation Weighted F1:%.3f' %  f1_val)"
   ]
  },
  {
   "cell_type": "code",
   "execution_count": 50,
   "metadata": {
    "colab": {
     "base_uri": "https://localhost:8080/"
    },
    "id": "kg6XzYIrOhbe",
    "outputId": "82bd07f2-f938-4487-ce55-6dd262ca345f"
   },
   "outputs": [
    {
     "name": "stdout",
     "output_type": "stream",
     "text": [
      "922/922 [==============================] - 5s 6ms/step - loss: 1.4381 - accuracy: 0.3485 - f1_weighted: 0.1801\n",
      "Test Loss:1.438\n",
      "Test Accuracy:0.348\n",
      "Test Weighted F1:0.180\n"
     ]
    }
   ],
   "source": [
    "# Testset performance\n",
    "score_test, acc_test, f1_test = model.evaluate(X_test, y_test_new)\n",
    "\n",
    "print('Test Loss:%.3f' % score_test)\n",
    "print('Test Accuracy:%.3f' %  acc_test)\n",
    "print('Test Weighted F1:%.3f' %  f1_test)"
   ]
  },
  {
   "cell_type": "markdown",
   "metadata": {
    "id": "tHoAotJr9Byp"
   },
   "source": [
    "##### Task 4.2.2: Advanced GRU Models\n",
    "\n",
    "In the following code section, we maintain embedding layer output size as 10 thanks to our learning from LSTM models. However, we introduce bidirectionality on the Gated Recurrent Units to preserve information from past and preeceding states.\n",
    "\n",
    "Additionally, we introduce dropout within GRU and after the Dense layer to avoid overfitting and obtain robustness."
   ]
  },
  {
   "cell_type": "code",
   "execution_count": 51,
   "metadata": {
    "id": "5a6l4g38Dxmb"
   },
   "outputs": [],
   "source": [
    "# Clearing session\n",
    "tf.keras.backend.clear_session()"
   ]
  },
  {
   "cell_type": "code",
   "execution_count": 58,
   "metadata": {
    "id": "orhEi5ecDxmc"
   },
   "outputs": [],
   "source": [
    "#  GRU Model\n",
    "text_input = Input(shape=(X_train.shape[1],),  name='text')\n",
    "embedding = Embedding(input_dim = vocab_size, output_dim = 10, input_length = max_length)(text_input)\n",
    "x = Bidirectional(GRU(10))(embedding)\n",
    "x = Dense(10, activation = \"relu\")(x)\n",
    "output = Dense(5, activation=\"softmax\", name=\"predictions\")(x)\n",
    "\n",
    "model = Model(text_input, output)"
   ]
  },
  {
   "cell_type": "code",
   "execution_count": 59,
   "metadata": {
    "colab": {
     "base_uri": "https://localhost:8080/"
    },
    "id": "j4ZawDp-Dxmd",
    "outputId": "68b70f34-a711-4959-cd2b-d9544155f330"
   },
   "outputs": [
    {
     "name": "stdout",
     "output_type": "stream",
     "text": [
      "Model: \"model_2\"\n",
      "_________________________________________________________________\n",
      "Layer (type)                 Output Shape              Param #   \n",
      "=================================================================\n",
      "text (InputLayer)            [(None, 238)]             0         \n",
      "_________________________________________________________________\n",
      "embedding_2 (Embedding)      (None, 238, 10)           2580300   \n",
      "_________________________________________________________________\n",
      "bidirectional_2 (Bidirection (None, 20)                1320      \n",
      "_________________________________________________________________\n",
      "dense_2 (Dense)              (None, 10)                210       \n",
      "_________________________________________________________________\n",
      "predictions (Dense)          (None, 5)                 55        \n",
      "=================================================================\n",
      "Total params: 2,581,885\n",
      "Trainable params: 2,581,885\n",
      "Non-trainable params: 0\n",
      "_________________________________________________________________\n"
     ]
    }
   ],
   "source": [
    "model.summary()"
   ]
  },
  {
   "cell_type": "code",
   "execution_count": 60,
   "metadata": {
    "id": "nXEwoU2MDxmd"
   },
   "outputs": [],
   "source": [
    "\n",
    "opt2 = Adam(0.0001)\n",
    "metrics_train = [tf.keras.metrics.CategoricalAccuracy(name=\"accuracy\"), \n",
    "                 tfa.metrics.F1Score(num_classes=5, average=\"weighted\", name=\"f1_weighted\")]\n",
    "\n",
    "model.compile(loss=\"categorical_crossentropy\",\n",
    "              optimizer=opt2,\n",
    "              metrics= metrics_train)"
   ]
  },
  {
   "cell_type": "code",
   "execution_count": 61,
   "metadata": {
    "colab": {
     "base_uri": "https://localhost:8080/"
    },
    "id": "GeyZrNBuDxme",
    "outputId": "39a89803-8e6e-47db-b148-0520919dfb9a"
   },
   "outputs": [
    {
     "name": "stdout",
     "output_type": "stream",
     "text": [
      "Epoch 1/10\n",
      "885/885 [==============================] - 70s 77ms/step - loss: 1.5379 - accuracy: 0.3460 - f1_weighted: 0.2375 - val_loss: 1.1474 - val_accuracy: 0.5562 - val_f1_weighted: 0.4501\n",
      "Epoch 2/10\n",
      "885/885 [==============================] - 66s 75ms/step - loss: 0.9887 - accuracy: 0.6176 - f1_weighted: 0.5452 - val_loss: 0.7568 - val_accuracy: 0.7256 - val_f1_weighted: 0.6932\n",
      "Epoch 3/10\n",
      "885/885 [==============================] - 66s 75ms/step - loss: 0.7332 - accuracy: 0.7327 - f1_weighted: 0.7012 - val_loss: 0.6962 - val_accuracy: 0.7406 - val_f1_weighted: 0.7140\n",
      "Epoch 4/10\n",
      "885/885 [==============================] - 66s 75ms/step - loss: 0.6792 - accuracy: 0.7475 - f1_weighted: 0.7240 - val_loss: 0.6637 - val_accuracy: 0.7536 - val_f1_weighted: 0.7383\n",
      "Epoch 5/10\n",
      "885/885 [==============================] - 67s 75ms/step - loss: 0.6489 - accuracy: 0.7605 - f1_weighted: 0.7475 - val_loss: 0.6484 - val_accuracy: 0.7606 - val_f1_weighted: 0.7510\n",
      "Epoch 6/10\n",
      "885/885 [==============================] - 66s 75ms/step - loss: 0.6305 - accuracy: 0.7691 - f1_weighted: 0.7605 - val_loss: 0.6388 - val_accuracy: 0.7651 - val_f1_weighted: 0.7575\n",
      "Epoch 7/10\n",
      "885/885 [==============================] - 66s 75ms/step - loss: 0.6175 - accuracy: 0.7747 - f1_weighted: 0.7679 - val_loss: 0.6320 - val_accuracy: 0.7685 - val_f1_weighted: 0.7634\n",
      "Epoch 8/10\n",
      "885/885 [==============================] - 66s 75ms/step - loss: 0.6097 - accuracy: 0.7782 - f1_weighted: 0.7727 - val_loss: 0.6260 - val_accuracy: 0.7713 - val_f1_weighted: 0.7666\n",
      "Epoch 9/10\n",
      "885/885 [==============================] - 66s 75ms/step - loss: 0.6012 - accuracy: 0.7819 - f1_weighted: 0.7772 - val_loss: 0.6229 - val_accuracy: 0.7726 - val_f1_weighted: 0.7682\n",
      "Epoch 10/10\n",
      "885/885 [==============================] - 66s 75ms/step - loss: 0.5935 - accuracy: 0.7853 - f1_weighted: 0.7810 - val_loss: 0.6179 - val_accuracy: 0.7744 - val_f1_weighted: 0.7698\n"
     ]
    }
   ],
   "source": [
    "BATCH_SIZE = 2000\n",
    "\n",
    "history = model.fit(x = X_train, y = y_train_new, validation_split= 0.2, epochs=10, batch_size=BATCH_SIZE, shuffle=True)"
   ]
  },
  {
   "cell_type": "code",
   "execution_count": 62,
   "metadata": {
    "colab": {
     "base_uri": "https://localhost:8080/",
     "height": 404
    },
    "id": "-QjswLRIDxmf",
    "outputId": "ff6fd489-51d6-491b-b183-87fa2c29071b"
   },
   "outputs": [
    {
     "data": {
      "image/png": "[encoded data removed]",
      "text/plain": [
       "<Figure size 1296x432 with 3 Axes>"
      ]
     },
     "metadata": {
      "needs_background": "light",
      "tags": []
     },
     "output_type": "display_data"
    }
   ],
   "source": [
    "plot_performance(history)"
   ]
  },
  {
   "cell_type": "code",
   "execution_count": 63,
   "metadata": {
    "colab": {
     "base_uri": "https://localhost:8080/"
    },
    "id": "x5hvFw_3Dxmg",
    "outputId": "9616b9a9-c566-4c95-e9fb-6ae39e04f724"
   },
   "outputs": [
    {
     "name": "stdout",
     "output_type": "stream",
     "text": [
      "14465/14465 [==============================] - 122s 8ms/step - loss: 0.5914 - accuracy: 0.7797 - f1_weighted: 0.7753\n",
      "Validation Loss:0.591\n",
      "Validation Accuracy:0.780\n",
      "Validation Weighted F1:0.775\n"
     ]
    }
   ],
   "source": [
    "# Validation set performance\n",
    "loss_val, acc_val, f1_val = model.evaluate(X_val, y_val_new, batch_size=2)\n",
    "\n",
    "print('Validation Loss:%.3f' % loss_val)\n",
    "print('Validation Accuracy:%.3f' %  acc_val)\n",
    "print('Validation Weighted F1:%.3f' %  f1_val)"
   ]
  },
  {
   "cell_type": "code",
   "execution_count": 64,
   "metadata": {
    "colab": {
     "base_uri": "https://localhost:8080/"
    },
    "id": "TxY_14dkDxmh",
    "outputId": "78aa37a8-b5a6-41a9-9e8d-2c7c15a66c6c"
   },
   "outputs": [
    {
     "name": "stdout",
     "output_type": "stream",
     "text": [
      "14744/14744 [==============================] - 124s 8ms/step - loss: 0.6015 - accuracy: 0.7797 - f1_weighted: 0.7748\n",
      "Test Loss:0.601\n",
      "Test Accuracy:0.780\n",
      "Test Weighted F1:0.775\n"
     ]
    }
   ],
   "source": [
    "# Testset performance\n",
    "score_test, acc_test, f1_test = model.evaluate(X_test, y_test_new, batch_size=2)\n",
    "\n",
    "print('Test Loss:%.3f' % score_test)\n",
    "print('Test Accuracy:%.3f' %  acc_test)\n",
    "print('Test Weighted F1:%.3f' %  f1_test)"
   ]
  },
  {
   "cell_type": "markdown",
   "metadata": {
    "id": "wNOgfvrREN5Z"
   },
   "source": [
    "Compared to vanilla GRU, this model with bidirectional gated recurrent units greatly improves its performance."
   ]
  },
  {
   "cell_type": "code",
   "execution_count": null,
   "metadata": {
    "id": "R_Z9BVgyKSFG"
   },
   "outputs": [],
   "source": [
    "tf.keras.backend.clear_session()"
   ]
  },
  {
   "cell_type": "code",
   "execution_count": null,
   "metadata": {
    "id": "O9dMsf3QUUAh"
   },
   "outputs": [],
   "source": [
    "# LSTM Model with RMSprop and LSTM Dropout\n",
    "\n",
    "text_input = Input(shape=(X_train.shape[1],),  name='text')\n",
    "embedding = Embedding(input_dim = vocab_size, output_dim = 10, input_length = max_length)(text_input)\n",
    "x = Bidirectional(GRU(50, return_sequences=True, dropout=0.2))(embedding)\n",
    "x = Bidirectional(GRU(10))(x)\n",
    "x = Dense(100, activation = \"relu\")(x)\n",
    "x = Dropout(0.5)(x)\n",
    "output = Dense(5, activation=\"softmax\", name=\"predictions\")(x)\n",
    "\n",
    "model = Model(text_input, output)\n"
   ]
  },
  {
   "cell_type": "code",
   "execution_count": null,
   "metadata": {
    "colab": {
     "base_uri": "https://localhost:8080/"
    },
    "id": "pGwsDLACUUE1",
    "outputId": "698a07c0-581d-4bbb-b0b9-0f11fb69e36a"
   },
   "outputs": [
    {
     "name": "stdout",
     "output_type": "stream",
     "text": [
      "Model: \"model\"\n",
      "_________________________________________________________________\n",
      "Layer (type)                 Output Shape              Param #   \n",
      "=================================================================\n",
      "text (InputLayer)            [(None, 238)]             0         \n",
      "_________________________________________________________________\n",
      "embedding (Embedding)        (None, 238, 10)           2580300   \n",
      "_________________________________________________________________\n",
      "bidirectional (Bidirectional (None, 238, 100)          18600     \n",
      "_________________________________________________________________\n",
      "bidirectional_1 (Bidirection (None, 20)                6720      \n",
      "_________________________________________________________________\n",
      "dense (Dense)                (None, 100)               2100      \n",
      "_________________________________________________________________\n",
      "dropout (Dropout)            (None, 100)               0         \n",
      "_________________________________________________________________\n",
      "predictions (Dense)          (None, 5)                 505       \n",
      "=================================================================\n",
      "Total params: 2,608,225\n",
      "Trainable params: 2,608,225\n",
      "Non-trainable params: 0\n",
      "_________________________________________________________________\n"
     ]
    }
   ],
   "source": [
    "model.summary()"
   ]
  },
  {
   "cell_type": "code",
   "execution_count": null,
   "metadata": {
    "id": "_VhYlHSGUUJL"
   },
   "outputs": [],
   "source": [
    "\n",
    "opt2 = RMSprop(0.001)\n",
    "metrics_train = [tf.keras.metrics.CategoricalAccuracy(name=\"accuracy\"), \n",
    "                 tfa.metrics.F1Score(num_classes=5, average=\"weighted\", name=\"f1_weighted\")]\n",
    "\n",
    "model.compile(loss=\"categorical_crossentropy\",\n",
    "              optimizer=opt2,\n",
    "              metrics= metrics_train)"
   ]
  },
  {
   "cell_type": "code",
   "execution_count": null,
   "metadata": {
    "colab": {
     "base_uri": "https://localhost:8080/"
    },
    "id": "Nq4TjMMCtVlM",
    "outputId": "620445b0-4a57-4454-ffc9-5c509ecf3698"
   },
   "outputs": [
    {
     "name": "stdout",
     "output_type": "stream",
     "text": [
      "Epoch 1/15\n",
      "1770/1770 [==============================] - 253s 122ms/step - loss: 0.8738 - accuracy: 0.6455 - f1_weighted: 0.6318 - val_loss: 0.6043 - val_accuracy: 0.7802 - val_f1_weighted: 0.7775\n",
      "Epoch 2/15\n",
      "1770/1770 [==============================] - 217s 122ms/step - loss: 0.6126 - accuracy: 0.7804 - f1_weighted: 0.7771 - val_loss: 0.5744 - val_accuracy: 0.7912 - val_f1_weighted: 0.7854\n",
      "Epoch 3/15\n",
      "1770/1770 [==============================] - 216s 122ms/step - loss: 0.5836 - accuracy: 0.7936 - f1_weighted: 0.7909 - val_loss: 0.5536 - val_accuracy: 0.8003 - val_f1_weighted: 0.7982\n",
      "Epoch 4/15\n",
      "1770/1770 [==============================] - 216s 122ms/step - loss: 0.5632 - accuracy: 0.8022 - f1_weighted: 0.7997 - val_loss: 0.5409 - val_accuracy: 0.8056 - val_f1_weighted: 0.8039\n",
      "Epoch 5/15\n",
      "1770/1770 [==============================] - 217s 122ms/step - loss: 0.5507 - accuracy: 0.8063 - f1_weighted: 0.8038 - val_loss: 0.5321 - val_accuracy: 0.8088 - val_f1_weighted: 0.8069\n",
      "Epoch 6/15\n",
      "1770/1770 [==============================] - 215s 122ms/step - loss: 0.5405 - accuracy: 0.8103 - f1_weighted: 0.8079 - val_loss: 0.5318 - val_accuracy: 0.8091 - val_f1_weighted: 0.8079\n",
      "Epoch 7/15\n",
      "1770/1770 [==============================] - 216s 122ms/step - loss: 0.5316 - accuracy: 0.8139 - f1_weighted: 0.8116 - val_loss: 0.5246 - val_accuracy: 0.8116 - val_f1_weighted: 0.8094\n",
      "Epoch 8/15\n",
      "1770/1770 [==============================] - 218s 123ms/step - loss: 0.5253 - accuracy: 0.8164 - f1_weighted: 0.8142 - val_loss: 0.5205 - val_accuracy: 0.8135 - val_f1_weighted: 0.8110\n",
      "Epoch 9/15\n",
      "1770/1770 [==============================] - 217s 122ms/step - loss: 0.5193 - accuracy: 0.8180 - f1_weighted: 0.8159 - val_loss: 0.5210 - val_accuracy: 0.8128 - val_f1_weighted: 0.8121\n",
      "Epoch 10/15\n",
      "1770/1770 [==============================] - 217s 122ms/step - loss: 0.5136 - accuracy: 0.8205 - f1_weighted: 0.8184 - val_loss: 0.5166 - val_accuracy: 0.8148 - val_f1_weighted: 0.8122\n",
      "Epoch 11/15\n",
      "1770/1770 [==============================] - 215s 121ms/step - loss: 0.5092 - accuracy: 0.8224 - f1_weighted: 0.8204 - val_loss: 0.5139 - val_accuracy: 0.8159 - val_f1_weighted: 0.8153\n",
      "Epoch 12/15\n",
      "1770/1770 [==============================] - 215s 121ms/step - loss: 0.5056 - accuracy: 0.8236 - f1_weighted: 0.8217 - val_loss: 0.5280 - val_accuracy: 0.8106 - val_f1_weighted: 0.8102\n",
      "Epoch 13/15\n",
      "1770/1770 [==============================] - 215s 121ms/step - loss: 0.5012 - accuracy: 0.8252 - f1_weighted: 0.8233 - val_loss: 0.5130 - val_accuracy: 0.8174 - val_f1_weighted: 0.8164\n",
      "Epoch 14/15\n",
      "1770/1770 [==============================] - 216s 122ms/step - loss: 0.4985 - accuracy: 0.8263 - f1_weighted: 0.8244 - val_loss: 0.5176 - val_accuracy: 0.8161 - val_f1_weighted: 0.8157\n",
      "Epoch 15/15\n",
      "1770/1770 [==============================] - 215s 122ms/step - loss: 0.4947 - accuracy: 0.8276 - f1_weighted: 0.8258 - val_loss: 0.5154 - val_accuracy: 0.8175 - val_f1_weighted: 0.8157\n"
     ]
    }
   ],
   "source": [
    "BATCH_SIZE = 1000\n",
    "\n",
    "history = model.fit(x = X_train, y = y_train_new, validation_split= 0.2, epochs=15, batch_size=BATCH_SIZE, shuffle=True)"
   ]
  },
  {
   "cell_type": "code",
   "execution_count": null,
   "metadata": {
    "colab": {
     "base_uri": "https://localhost:8080/",
     "height": 404
    },
    "id": "ztgMAyJJUUS_",
    "outputId": "906b0372-5c36-45ba-da4c-1b6e608b0bcd"
   },
   "outputs": [
    {
     "data": {
      "image/png": "[encoded data removed]",
      "text/plain": [
       "<Figure size 1296x432 with 3 Axes>"
      ]
     },
     "metadata": {
      "needs_background": "light",
      "tags": []
     },
     "output_type": "display_data"
    }
   ],
   "source": [
    "plot_performance(history)"
   ]
  },
  {
   "cell_type": "code",
   "execution_count": null,
   "metadata": {
    "colab": {
     "base_uri": "https://localhost:8080/"
    },
    "id": "V3urOq8DLQ1k",
    "outputId": "d76f0755-0ef0-4142-9164-0ae29ce001a6"
   },
   "outputs": [
    {
     "name": "stdout",
     "output_type": "stream",
     "text": [
      "14465/14465 [==============================] - 182s 13ms/step - loss: 0.4768 - accuracy: 0.8243 - f1_weighted: 0.8227\n",
      "Validation Loss:0.477\n",
      "Validation Accuracy:0.824\n",
      "Validation Weighted F1:0.823\n"
     ]
    }
   ],
   "source": [
    "# Validation set performance\n",
    "loss_val, acc_val, f1_val = model.evaluate(X_val, y_val_new, batch_size=2)\n",
    "\n",
    "print('Validation Loss:%.3f' % loss_val)\n",
    "print('Validation Accuracy:%.3f' %  acc_val)\n",
    "print('Validation Weighted F1:%.3f' %  f1_val)"
   ]
  },
  {
   "cell_type": "code",
   "execution_count": null,
   "metadata": {
    "colab": {
     "base_uri": "https://localhost:8080/"
    },
    "id": "DOWMTo8uMo4P",
    "outputId": "8fec0ec7-6643-4a1f-e475-5519d29efe3f"
   },
   "outputs": [
    {
     "name": "stdout",
     "output_type": "stream",
     "text": [
      "14744/14744 [==============================] - 185s 13ms/step - loss: 0.4901 - accuracy: 0.8260 - f1_weighted: 0.8238\n",
      "Test Loss:0.490\n",
      "Test Accuracy:0.826\n",
      "Test Weighted F1:0.824\n"
     ]
    }
   ],
   "source": [
    "# Testset performance\n",
    "score_test, acc_test, f1_test = model.evaluate(X_test, y_test_new, batch_size=2)\n",
    "\n",
    "print('Test Loss:%.3f' % score_test)\n",
    "print('Test Accuracy:%.3f' %  acc_test)\n",
    "print('Test Weighted F1:%.3f' %  f1_test)"
   ]
  },
  {
   "cell_type": "code",
   "execution_count": null,
   "metadata": {
    "id": "5PPtrloyUUXp"
   },
   "outputs": [],
   "source": [
    "model.save(\"gru_82f1.h5\")"
   ]
  },
  {
   "cell_type": "markdown",
   "metadata": {
    "id": "sbxfD-omXCvc"
   },
   "source": [
    "### Task 4: Results of LSTM/GRU Models and Discussion\n",
    "\n",
    " | Models | Embedding Output Size | Bidirectional |# RNN Units | Dropout| Learning Rate | Optimizer | Batch Size | # of epochs | Accuracy* |Weighted F1 Score*|\n",
    "|:---:|:-------------:|:-----------:|:-----------:|:-------------:|:-----------:|:-----------:|:-----------:|:-----------:|:-----------:|:-----------:|\n",
    "|LSTM (Vanilla) |10|-|10|-| 0.0001| adam| 2000| 10|0.348|0.180| \n",
    "|LSTM           |100|one|10|-|0.0001| adam| 2000|20|0.801|0.798|\n",
    "|LSTM           |20|double|10-10|0.2|0.0001| adam|2000|20|0.790|0.788|\n",
    "|LSTM           |10|double|60-60|0.5|0.001| adam|2000|5|0.807|0.804|\n",
    "|LSTM          |10|double|50-10|0.5|0.001|RMSprop|1000|10|0.825|0.823|\n",
    "|LSTM          |10|double|50-10 + dropout|0.5|0.001|RMSprop|1000|15|**0.830**|**0.828**|\n",
    "|-----------|-----------|-----------|-----------|-----------|-----------| ------------|------------|------------|------------|------------|\n",
    "|GRU (Vanilla) |10|-|10|-| 0.0001| adam| 2000| 20| 0.345| 0.178| \n",
    "|GRU           |10|one|10|-| 0.0001| adam| 2000| 10| 0.780| 0.775| \n",
    "|GRU           |10|one|10|-| 0.0001| adam| 2000| 20| 0.863| 0.824|\n",
    "\n",
    "*Model performances depicted obtained on the test set.*\n",
    "\n",
    "In the last part of the project, we experimented with two different RNN units and compare their model performances. What we observe is that output dimension of embedding layer plays a key role however, it introduces number of model parameter and training time greatly. \n",
    "\n",
    "Secondly, bidirectionality is a game changer factor in our models. Once it is introduced, RNN units are able to preserve information from past and future states, thus capturing dependencies within sequences and learning over training dataset.\n",
    "\n",
    "Specifically, we observe that introducing Dropout layer after Dense Layer as well as within Bidirectional LSTM allowed our model to perform the best. Additionally, creating Bidirectional bottleneck by double LSTM units with the size of 50 and 10 distill the crucial states to pass through the network, resulting the best model performance."
   ]
  },
  {
   "cell_type": "markdown",
   "metadata": {
    "id": "X-EpaAnGL0gu"
   },
   "source": [
    "### Main Challenges and Future Work\n",
    "\n",
    "From NLP point of view, it is difficult to obtain well-represented domain specific embeddings, in our case healthcare domain. Additionally, we haven't used any pre-trained model such as BioBert to head start with robust word representations. \n",
    "\n",
    "As future action, one can experiment with different word embedding models such as Glove and Doc2Vec. In this project, we treat each sequence separately and extract features from word level. One can extend this approach with feeding series of sequences each time, thus enforcing model to treat the series as documents and capture relationships among them. \n",
    "\n",
    "Additionally, one can extend the propose architectures with deeper RNN models, explore different optimizer and learning rate, batch sizes, vocabulary size, Ngram approachs and all the other parameters that not mentioned."
   ]
  },
  {
   "cell_type": "code",
   "execution_count": null,
   "metadata": {},
   "outputs": [],
   "source": []
  }
 ],
 "metadata": {
  "accelerator": "GPU",
  "colab": {
   "collapsed_sections": [
    "9C3nHnyrGl8m",
    "9Va5sbiuazlw",
    "NkT8mgBcHjxk",
    "twj6yk8-0vq-",
    "PXa3ogoxZ-vW",
    "TPZEIeCB0q_f",
    "G8B59XzMhIl8",
    "APCBd6pyg23h",
    "Lnldadr4gE9D",
    "tQsn6cET7UEO",
    "WX0qIB3zvsN8",
    "lIlo8imnv9bI",
    "uUqTvb7G9GOL",
    "tHoAotJr9Byp"
   ],
   "name": "project_3.ipynb",
   "provenance": [],
   "toc_visible": true
  },
  "kernelspec": {
   "display_name": "Python 3",
   "language": "python",
   "name": "python3"
  },
  "language_info": {
   "codemirror_mode": {
    "name": "ipython",
    "version": 3
   },
   "file_extension": ".py",
   "mimetype": "text/x-python",
   "name": "python",
   "nbconvert_exporter": "python",
   "pygments_lexer": "ipython3",
   "version": "3.7.5"
  },
  "widgets": {
   "application/vnd.jupyter.widget-state+json": {
    "01c0048c1bc4499a82de2f0e46480796": {
     "model_module": "@jupyter-widgets/base",
     "model_name": "LayoutModel",
     "state": {
      "_model_module": "@jupyter-widgets/base",
      "_model_module_version": "1.2.0",
      "_model_name": "LayoutModel",
      "_view_count": null,
      "_view_module": "@jupyter-widgets/base",
      "_view_module_version": "1.2.0",
      "_view_name": "LayoutView",
      "align_content": null,
      "align_items": null,
      "align_self": null,
      "border": null,
      "bottom": null,
      "display": null,
      "flex": null,
      "flex_flow": null,
      "grid_area": null,
      "grid_auto_columns": null,
      "grid_auto_flow": null,
      "grid_auto_rows": null,
      "grid_column": null,
      "grid_gap": null,
      "grid_row": null,
      "grid_template_areas": null,
      "grid_template_columns": null,
      "grid_template_rows": null,
      "height": null,
      "justify_content": null,
      "justify_items": null,
      "left": null,
      "margin": null,
      "max_height": null,
      "max_width": null,
      "min_height": null,
      "min_width": null,
      "object_fit": null,
      "object_position": null,
      "order": null,
      "overflow": null,
      "overflow_x": null,
      "overflow_y": null,
      "padding": null,
      "right": null,
      "top": null,
      "visibility": null,
      "width": null
     }
    },
    "0377513013bc4d93a535c44b0fe9780f": {
     "model_module": "@jupyter-widgets/controls",
     "model_name": "HTMLModel",
     "state": {
      "_dom_classes": [],
      "_model_module": "@jupyter-widgets/controls",
      "_model_module_version": "1.5.0",
      "_model_name": "HTMLModel",
      "_view_count": null,
      "_view_module": "@jupyter-widgets/controls",
      "_view_module_version": "1.5.0",
      "_view_name": "HTMLView",
      "description": "",
      "description_tooltip": null,
      "layout": "IPY_MODEL_dbc5bf71904b45ae9650a792780abf77",
      "placeholder": "​",
      "style": "IPY_MODEL_c3a60fcb4c3849dfade51a0e038cb0b1",
      "value": " 28929/28929 [00:07&lt;00:00, 3651.61it/s]"
     }
    },
    "05b58e46ab8b4e6ba0c830e637800097": {
     "model_module": "@jupyter-widgets/controls",
     "model_name": "ProgressStyleModel",
     "state": {
      "_model_module": "@jupyter-widgets/controls",
      "_model_module_version": "1.5.0",
      "_model_name": "ProgressStyleModel",
      "_view_count": null,
      "_view_module": "@jupyter-widgets/base",
      "_view_module_version": "1.2.0",
      "_view_name": "StyleView",
      "bar_color": null,
      "description_width": "initial"
     }
    },
    "07e02c6ce99744bf96e4a350f84dd837": {
     "model_module": "@jupyter-widgets/controls",
     "model_name": "HTMLModel",
     "state": {
      "_dom_classes": [],
      "_model_module": "@jupyter-widgets/controls",
      "_model_module_version": "1.5.0",
      "_model_name": "HTMLModel",
      "_view_count": null,
      "_view_module": "@jupyter-widgets/controls",
      "_view_module_version": "1.5.0",
      "_view_name": "HTMLView",
      "description": "",
      "description_tooltip": null,
      "layout": "IPY_MODEL_aa1227de9fa6402eb1bb13a670d7e5f5",
      "placeholder": "​",
      "style": "IPY_MODEL_f3ae6c01079a45469c6c4fbe77cb98b0",
      "value": " 2211538/2211538 [00:54&lt;00:00, 40482.73it/s]"
     }
    },
    "0c5e562fd1e54ede9fa43415f1ee69c9": {
     "model_module": "@jupyter-widgets/base",
     "model_name": "LayoutModel",
     "state": {
      "_model_module": "@jupyter-widgets/base",
      "_model_module_version": "1.2.0",
      "_model_name": "LayoutModel",
      "_view_count": null,
      "_view_module": "@jupyter-widgets/base",
      "_view_module_version": "1.2.0",
      "_view_name": "LayoutView",
      "align_content": null,
      "align_items": null,
      "align_self": null,
      "border": null,
      "bottom": null,
      "display": null,
      "flex": null,
      "flex_flow": null,
      "grid_area": null,
      "grid_auto_columns": null,
      "grid_auto_flow": null,
      "grid_auto_rows": null,
      "grid_column": null,
      "grid_gap": null,
      "grid_row": null,
      "grid_template_areas": null,
      "grid_template_columns": null,
      "grid_template_rows": null,
      "height": null,
      "justify_content": null,
      "justify_items": null,
      "left": null,
      "margin": null,
      "max_height": null,
      "max_width": null,
      "min_height": null,
      "min_width": null,
      "object_fit": null,
      "object_position": null,
      "order": null,
      "overflow": null,
      "overflow_x": null,
      "overflow_y": null,
      "padding": null,
      "right": null,
      "top": null,
      "visibility": null,
      "width": null
     }
    },
    "0e6bf5de176a466d844cdd8c9198a43c": {
     "model_module": "@jupyter-widgets/controls",
     "model_name": "HTMLModel",
     "state": {
      "_dom_classes": [],
      "_model_module": "@jupyter-widgets/controls",
      "_model_module_version": "1.5.0",
      "_model_name": "HTMLModel",
      "_view_count": null,
      "_view_module": "@jupyter-widgets/controls",
      "_view_module_version": "1.5.0",
      "_view_name": "HTMLView",
      "description": "",
      "description_tooltip": null,
      "layout": "IPY_MODEL_c9aa4df176544295a9f52f0594702f0f",
      "placeholder": "​",
      "style": "IPY_MODEL_2077da53018546d29f5fb3477731f2f7",
      "value": " 28929/28929 [00:45&lt;00:00, 640.32it/s]"
     }
    },
    "109fdc34afd04ca1bef32f655b9c14fa": {
     "model_module": "@jupyter-widgets/controls",
     "model_name": "HTMLModel",
     "state": {
      "_dom_classes": [],
      "_model_module": "@jupyter-widgets/controls",
      "_model_module_version": "1.5.0",
      "_model_name": "HTMLModel",
      "_view_count": null,
      "_view_module": "@jupyter-widgets/controls",
      "_view_module_version": "1.5.0",
      "_view_name": "HTMLView",
      "description": "",
      "description_tooltip": null,
      "layout": "IPY_MODEL_47596feb80a64a389648606842ea31a4",
      "placeholder": "​",
      "style": "IPY_MODEL_24701e027be24bf3ac989e06fda52f44",
      "value": " 29487/29487 [00:05&lt;00:00, 4986.22it/s]"
     }
    },
    "11ad4fb6090e45b8ac07f9e4c83c86e1": {
     "model_module": "@jupyter-widgets/base",
     "model_name": "LayoutModel",
     "state": {
      "_model_module": "@jupyter-widgets/base",
      "_model_module_version": "1.2.0",
      "_model_name": "LayoutModel",
      "_view_count": null,
      "_view_module": "@jupyter-widgets/base",
      "_view_module_version": "1.2.0",
      "_view_name": "LayoutView",
      "align_content": null,
      "align_items": null,
      "align_self": null,
      "border": null,
      "bottom": null,
      "display": null,
      "flex": null,
      "flex_flow": null,
      "grid_area": null,
      "grid_auto_columns": null,
      "grid_auto_flow": null,
      "grid_auto_rows": null,
      "grid_column": null,
      "grid_gap": null,
      "grid_row": null,
      "grid_template_areas": null,
      "grid_template_columns": null,
      "grid_template_rows": null,
      "height": null,
      "justify_content": null,
      "justify_items": null,
      "left": null,
      "margin": null,
      "max_height": null,
      "max_width": null,
      "min_height": null,
      "min_width": null,
      "object_fit": null,
      "object_position": null,
      "order": null,
      "overflow": null,
      "overflow_x": null,
      "overflow_y": null,
      "padding": null,
      "right": null,
      "top": null,
      "visibility": null,
      "width": null
     }
    },
    "19a702b27f6646e7a017fa50786c8574": {
     "model_module": "@jupyter-widgets/controls",
     "model_name": "ProgressStyleModel",
     "state": {
      "_model_module": "@jupyter-widgets/controls",
      "_model_module_version": "1.5.0",
      "_model_name": "ProgressStyleModel",
      "_view_count": null,
      "_view_module": "@jupyter-widgets/base",
      "_view_module_version": "1.2.0",
      "_view_name": "StyleView",
      "bar_color": null,
      "description_width": "initial"
     }
    },
    "1c282347620e4a4b857be636a0502be6": {
     "model_module": "@jupyter-widgets/controls",
     "model_name": "HBoxModel",
     "state": {
      "_dom_classes": [],
      "_model_module": "@jupyter-widgets/controls",
      "_model_module_version": "1.5.0",
      "_model_name": "HBoxModel",
      "_view_count": null,
      "_view_module": "@jupyter-widgets/controls",
      "_view_module_version": "1.5.0",
      "_view_name": "HBoxView",
      "box_style": "",
      "children": [
       "IPY_MODEL_d60ed7c9efff4e14b27efa39f7489a83",
       "IPY_MODEL_333459ae357541a3adbd8298eb0259d7"
      ],
      "layout": "IPY_MODEL_da3df7a588ca44afb24c65d09260648b"
     }
    },
    "2077da53018546d29f5fb3477731f2f7": {
     "model_module": "@jupyter-widgets/controls",
     "model_name": "DescriptionStyleModel",
     "state": {
      "_model_module": "@jupyter-widgets/controls",
      "_model_module_version": "1.5.0",
      "_model_name": "DescriptionStyleModel",
      "_view_count": null,
      "_view_module": "@jupyter-widgets/base",
      "_view_module_version": "1.2.0",
      "_view_name": "StyleView",
      "description_width": ""
     }
    },
    "24701e027be24bf3ac989e06fda52f44": {
     "model_module": "@jupyter-widgets/controls",
     "model_name": "DescriptionStyleModel",
     "state": {
      "_model_module": "@jupyter-widgets/controls",
      "_model_module_version": "1.5.0",
      "_model_name": "DescriptionStyleModel",
      "_view_count": null,
      "_view_module": "@jupyter-widgets/base",
      "_view_module_version": "1.2.0",
      "_view_name": "StyleView",
      "description_width": ""
     }
    },
    "2bdd47b35021477da3a5bc69ddf7a30d": {
     "model_module": "@jupyter-widgets/controls",
     "model_name": "HTMLModel",
     "state": {
      "_dom_classes": [],
      "_model_module": "@jupyter-widgets/controls",
      "_model_module_version": "1.5.0",
      "_model_name": "HTMLModel",
      "_view_count": null,
      "_view_module": "@jupyter-widgets/controls",
      "_view_module_version": "1.5.0",
      "_view_name": "HTMLView",
      "description": "",
      "description_tooltip": null,
      "layout": "IPY_MODEL_377226a28eae4c4594ca6b3f6a94a262",
      "placeholder": "​",
      "style": "IPY_MODEL_79f2dfa3ec584e0eaf636a254b46020b",
      "value": " 2211538/2211538 [02:04&lt;00:00, 17701.68it/s]"
     }
    },
    "2ee36bd04fd741bcb346b53b39593883": {
     "model_module": "@jupyter-widgets/controls",
     "model_name": "DescriptionStyleModel",
     "state": {
      "_model_module": "@jupyter-widgets/controls",
      "_model_module_version": "1.5.0",
      "_model_name": "DescriptionStyleModel",
      "_view_count": null,
      "_view_module": "@jupyter-widgets/base",
      "_view_module_version": "1.2.0",
      "_view_name": "StyleView",
      "description_width": ""
     }
    },
    "333459ae357541a3adbd8298eb0259d7": {
     "model_module": "@jupyter-widgets/controls",
     "model_name": "HTMLModel",
     "state": {
      "_dom_classes": [],
      "_model_module": "@jupyter-widgets/controls",
      "_model_module_version": "1.5.0",
      "_model_name": "HTMLModel",
      "_view_count": null,
      "_view_module": "@jupyter-widgets/controls",
      "_view_module_version": "1.5.0",
      "_view_name": "HTMLView",
      "description": "",
      "description_tooltip": null,
      "layout": "IPY_MODEL_6f3dbc42d3914213ad335e8dd2add38c",
      "placeholder": "​",
      "style": "IPY_MODEL_e9daaf562cef47ada05d82dac869b128",
      "value": " 28929/28929 [00:28&lt;00:00, 1002.58it/s]"
     }
    },
    "36c023aec3234efaabae4c7fadb2e1e9": {
     "model_module": "@jupyter-widgets/controls",
     "model_name": "HTMLModel",
     "state": {
      "_dom_classes": [],
      "_model_module": "@jupyter-widgets/controls",
      "_model_module_version": "1.5.0",
      "_model_name": "HTMLModel",
      "_view_count": null,
      "_view_module": "@jupyter-widgets/controls",
      "_view_module_version": "1.5.0",
      "_view_name": "HTMLView",
      "description": "",
      "description_tooltip": null,
      "layout": "IPY_MODEL_adb1e4afcfcb426aa9daf23678e2f549",
      "placeholder": "​",
      "style": "IPY_MODEL_2ee36bd04fd741bcb346b53b39593883",
      "value": " 29487/29487 [00:45&lt;00:00, 654.07it/s]"
     }
    },
    "377226a28eae4c4594ca6b3f6a94a262": {
     "model_module": "@jupyter-widgets/base",
     "model_name": "LayoutModel",
     "state": {
      "_model_module": "@jupyter-widgets/base",
      "_model_module_version": "1.2.0",
      "_model_name": "LayoutModel",
      "_view_count": null,
      "_view_module": "@jupyter-widgets/base",
      "_view_module_version": "1.2.0",
      "_view_name": "LayoutView",
      "align_content": null,
      "align_items": null,
      "align_self": null,
      "border": null,
      "bottom": null,
      "display": null,
      "flex": null,
      "flex_flow": null,
      "grid_area": null,
      "grid_auto_columns": null,
      "grid_auto_flow": null,
      "grid_auto_rows": null,
      "grid_column": null,
      "grid_gap": null,
      "grid_row": null,
      "grid_template_areas": null,
      "grid_template_columns": null,
      "grid_template_rows": null,
      "height": null,
      "justify_content": null,
      "justify_items": null,
      "left": null,
      "margin": null,
      "max_height": null,
      "max_width": null,
      "min_height": null,
      "min_width": null,
      "object_fit": null,
      "object_position": null,
      "order": null,
      "overflow": null,
      "overflow_x": null,
      "overflow_y": null,
      "padding": null,
      "right": null,
      "top": null,
      "visibility": null,
      "width": null
     }
    },
    "388cea7dd7d341dbbae3b8f19b6e501a": {
     "model_module": "@jupyter-widgets/controls",
     "model_name": "ProgressStyleModel",
     "state": {
      "_model_module": "@jupyter-widgets/controls",
      "_model_module_version": "1.5.0",
      "_model_name": "ProgressStyleModel",
      "_view_count": null,
      "_view_module": "@jupyter-widgets/base",
      "_view_module_version": "1.2.0",
      "_view_name": "StyleView",
      "bar_color": null,
      "description_width": "initial"
     }
    },
    "3b64ebad7b16455f824b3016babba6e0": {
     "model_module": "@jupyter-widgets/base",
     "model_name": "LayoutModel",
     "state": {
      "_model_module": "@jupyter-widgets/base",
      "_model_module_version": "1.2.0",
      "_model_name": "LayoutModel",
      "_view_count": null,
      "_view_module": "@jupyter-widgets/base",
      "_view_module_version": "1.2.0",
      "_view_name": "LayoutView",
      "align_content": null,
      "align_items": null,
      "align_self": null,
      "border": null,
      "bottom": null,
      "display": null,
      "flex": null,
      "flex_flow": null,
      "grid_area": null,
      "grid_auto_columns": null,
      "grid_auto_flow": null,
      "grid_auto_rows": null,
      "grid_column": null,
      "grid_gap": null,
      "grid_row": null,
      "grid_template_areas": null,
      "grid_template_columns": null,
      "grid_template_rows": null,
      "height": null,
      "justify_content": null,
      "justify_items": null,
      "left": null,
      "margin": null,
      "max_height": null,
      "max_width": null,
      "min_height": null,
      "min_width": null,
      "object_fit": null,
      "object_position": null,
      "order": null,
      "overflow": null,
      "overflow_x": null,
      "overflow_y": null,
      "padding": null,
      "right": null,
      "top": null,
      "visibility": null,
      "width": null
     }
    },
    "41b3a2ff88e646d9a98d9efd2f4a27e4": {
     "model_module": "@jupyter-widgets/base",
     "model_name": "LayoutModel",
     "state": {
      "_model_module": "@jupyter-widgets/base",
      "_model_module_version": "1.2.0",
      "_model_name": "LayoutModel",
      "_view_count": null,
      "_view_module": "@jupyter-widgets/base",
      "_view_module_version": "1.2.0",
      "_view_name": "LayoutView",
      "align_content": null,
      "align_items": null,
      "align_self": null,
      "border": null,
      "bottom": null,
      "display": null,
      "flex": null,
      "flex_flow": null,
      "grid_area": null,
      "grid_auto_columns": null,
      "grid_auto_flow": null,
      "grid_auto_rows": null,
      "grid_column": null,
      "grid_gap": null,
      "grid_row": null,
      "grid_template_areas": null,
      "grid_template_columns": null,
      "grid_template_rows": null,
      "height": null,
      "justify_content": null,
      "justify_items": null,
      "left": null,
      "margin": null,
      "max_height": null,
      "max_width": null,
      "min_height": null,
      "min_width": null,
      "object_fit": null,
      "object_position": null,
      "order": null,
      "overflow": null,
      "overflow_x": null,
      "overflow_y": null,
      "padding": null,
      "right": null,
      "top": null,
      "visibility": null,
      "width": null
     }
    },
    "47596feb80a64a389648606842ea31a4": {
     "model_module": "@jupyter-widgets/base",
     "model_name": "LayoutModel",
     "state": {
      "_model_module": "@jupyter-widgets/base",
      "_model_module_version": "1.2.0",
      "_model_name": "LayoutModel",
      "_view_count": null,
      "_view_module": "@jupyter-widgets/base",
      "_view_module_version": "1.2.0",
      "_view_name": "LayoutView",
      "align_content": null,
      "align_items": null,
      "align_self": null,
      "border": null,
      "bottom": null,
      "display": null,
      "flex": null,
      "flex_flow": null,
      "grid_area": null,
      "grid_auto_columns": null,
      "grid_auto_flow": null,
      "grid_auto_rows": null,
      "grid_column": null,
      "grid_gap": null,
      "grid_row": null,
      "grid_template_areas": null,
      "grid_template_columns": null,
      "grid_template_rows": null,
      "height": null,
      "justify_content": null,
      "justify_items": null,
      "left": null,
      "margin": null,
      "max_height": null,
      "max_width": null,
      "min_height": null,
      "min_width": null,
      "object_fit": null,
      "object_position": null,
      "order": null,
      "overflow": null,
      "overflow_x": null,
      "overflow_y": null,
      "padding": null,
      "right": null,
      "top": null,
      "visibility": null,
      "width": null
     }
    },
    "49e02ce2536947bf93495d7a4ffa02ca": {
     "model_module": "@jupyter-widgets/controls",
     "model_name": "HBoxModel",
     "state": {
      "_dom_classes": [],
      "_model_module": "@jupyter-widgets/controls",
      "_model_module_version": "1.5.0",
      "_model_name": "HBoxModel",
      "_view_count": null,
      "_view_module": "@jupyter-widgets/controls",
      "_view_module_version": "1.5.0",
      "_view_name": "HBoxView",
      "box_style": "",
      "children": [
       "IPY_MODEL_d7d96f4bf1c44eaea2496a87b8a7f4d2",
       "IPY_MODEL_36c023aec3234efaabae4c7fadb2e1e9"
      ],
      "layout": "IPY_MODEL_d548bec6555d4ab6bf6ab7cacabb6b58"
     }
    },
    "4ad2450abb194437bb57053c17103975": {
     "model_module": "@jupyter-widgets/controls",
     "model_name": "FloatProgressModel",
     "state": {
      "_dom_classes": [],
      "_model_module": "@jupyter-widgets/controls",
      "_model_module_version": "1.5.0",
      "_model_name": "FloatProgressModel",
      "_view_count": null,
      "_view_module": "@jupyter-widgets/controls",
      "_view_module_version": "1.5.0",
      "_view_name": "ProgressView",
      "bar_style": "success",
      "description": "100%",
      "description_tooltip": null,
      "layout": "IPY_MODEL_4cc3b549d7a04aa0ae00419226d7af06",
      "max": 29487,
      "min": 0,
      "orientation": "horizontal",
      "style": "IPY_MODEL_05b58e46ab8b4e6ba0c830e637800097",
      "value": 29487
     }
    },
    "4cc3b549d7a04aa0ae00419226d7af06": {
     "model_module": "@jupyter-widgets/base",
     "model_name": "LayoutModel",
     "state": {
      "_model_module": "@jupyter-widgets/base",
      "_model_module_version": "1.2.0",
      "_model_name": "LayoutModel",
      "_view_count": null,
      "_view_module": "@jupyter-widgets/base",
      "_view_module_version": "1.2.0",
      "_view_name": "LayoutView",
      "align_content": null,
      "align_items": null,
      "align_self": null,
      "border": null,
      "bottom": null,
      "display": null,
      "flex": null,
      "flex_flow": null,
      "grid_area": null,
      "grid_auto_columns": null,
      "grid_auto_flow": null,
      "grid_auto_rows": null,
      "grid_column": null,
      "grid_gap": null,
      "grid_row": null,
      "grid_template_areas": null,
      "grid_template_columns": null,
      "grid_template_rows": null,
      "height": null,
      "justify_content": null,
      "justify_items": null,
      "left": null,
      "margin": null,
      "max_height": null,
      "max_width": null,
      "min_height": null,
      "min_width": null,
      "object_fit": null,
      "object_position": null,
      "order": null,
      "overflow": null,
      "overflow_x": null,
      "overflow_y": null,
      "padding": null,
      "right": null,
      "top": null,
      "visibility": null,
      "width": null
     }
    },
    "58330e2dfa4a4f9aa77ebeb0ddaafcb0": {
     "model_module": "@jupyter-widgets/controls",
     "model_name": "HTMLModel",
     "state": {
      "_dom_classes": [],
      "_model_module": "@jupyter-widgets/controls",
      "_model_module_version": "1.5.0",
      "_model_name": "HTMLModel",
      "_view_count": null,
      "_view_module": "@jupyter-widgets/controls",
      "_view_module_version": "1.5.0",
      "_view_name": "HTMLView",
      "description": "",
      "description_tooltip": null,
      "layout": "IPY_MODEL_6007d62c5c164e318137159845b5415c",
      "placeholder": "​",
      "style": "IPY_MODEL_ff16e38ec34c4c469b65e76d27f07c8a",
      "value": " 29487/29487 [00:01&lt;00:00, 20020.92it/s]"
     }
    },
    "59f31d01fba94c239dc6362db6cc4b5d": {
     "model_module": "@jupyter-widgets/controls",
     "model_name": "FloatProgressModel",
     "state": {
      "_dom_classes": [],
      "_model_module": "@jupyter-widgets/controls",
      "_model_module_version": "1.5.0",
      "_model_name": "FloatProgressModel",
      "_view_count": null,
      "_view_module": "@jupyter-widgets/controls",
      "_view_module_version": "1.5.0",
      "_view_name": "ProgressView",
      "bar_style": "success",
      "description": "100%",
      "description_tooltip": null,
      "layout": "IPY_MODEL_b1edaefb7c264abd9099822cb5e86e77",
      "max": 2211538,
      "min": 0,
      "orientation": "horizontal",
      "style": "IPY_MODEL_6adbc610d96a4c52806c16e3ae913901",
      "value": 2211538
     }
    },
    "6007d62c5c164e318137159845b5415c": {
     "model_module": "@jupyter-widgets/base",
     "model_name": "LayoutModel",
     "state": {
      "_model_module": "@jupyter-widgets/base",
      "_model_module_version": "1.2.0",
      "_model_name": "LayoutModel",
      "_view_count": null,
      "_view_module": "@jupyter-widgets/base",
      "_view_module_version": "1.2.0",
      "_view_name": "LayoutView",
      "align_content": null,
      "align_items": null,
      "align_self": null,
      "border": null,
      "bottom": null,
      "display": null,
      "flex": null,
      "flex_flow": null,
      "grid_area": null,
      "grid_auto_columns": null,
      "grid_auto_flow": null,
      "grid_auto_rows": null,
      "grid_column": null,
      "grid_gap": null,
      "grid_row": null,
      "grid_template_areas": null,
      "grid_template_columns": null,
      "grid_template_rows": null,
      "height": null,
      "justify_content": null,
      "justify_items": null,
      "left": null,
      "margin": null,
      "max_height": null,
      "max_width": null,
      "min_height": null,
      "min_width": null,
      "object_fit": null,
      "object_position": null,
      "order": null,
      "overflow": null,
      "overflow_x": null,
      "overflow_y": null,
      "padding": null,
      "right": null,
      "top": null,
      "visibility": null,
      "width": null
     }
    },
    "62aaf6cc34774e3288a06f7ef0f5d38a": {
     "model_module": "@jupyter-widgets/controls",
     "model_name": "FloatProgressModel",
     "state": {
      "_dom_classes": [],
      "_model_module": "@jupyter-widgets/controls",
      "_model_module_version": "1.5.0",
      "_model_name": "FloatProgressModel",
      "_view_count": null,
      "_view_module": "@jupyter-widgets/controls",
      "_view_module_version": "1.5.0",
      "_view_name": "ProgressView",
      "bar_style": "success",
      "description": "100%",
      "description_tooltip": null,
      "layout": "IPY_MODEL_d02cc7bb2b69461498b17e8f2d71e9c0",
      "max": 2211538,
      "min": 0,
      "orientation": "horizontal",
      "style": "IPY_MODEL_388cea7dd7d341dbbae3b8f19b6e501a",
      "value": 2211538
     }
    },
    "62c99a6e04dd4e27a507920beee90ce2": {
     "model_module": "@jupyter-widgets/base",
     "model_name": "LayoutModel",
     "state": {
      "_model_module": "@jupyter-widgets/base",
      "_model_module_version": "1.2.0",
      "_model_name": "LayoutModel",
      "_view_count": null,
      "_view_module": "@jupyter-widgets/base",
      "_view_module_version": "1.2.0",
      "_view_name": "LayoutView",
      "align_content": null,
      "align_items": null,
      "align_self": null,
      "border": null,
      "bottom": null,
      "display": null,
      "flex": null,
      "flex_flow": null,
      "grid_area": null,
      "grid_auto_columns": null,
      "grid_auto_flow": null,
      "grid_auto_rows": null,
      "grid_column": null,
      "grid_gap": null,
      "grid_row": null,
      "grid_template_areas": null,
      "grid_template_columns": null,
      "grid_template_rows": null,
      "height": null,
      "justify_content": null,
      "justify_items": null,
      "left": null,
      "margin": null,
      "max_height": null,
      "max_width": null,
      "min_height": null,
      "min_width": null,
      "object_fit": null,
      "object_position": null,
      "order": null,
      "overflow": null,
      "overflow_x": null,
      "overflow_y": null,
      "padding": null,
      "right": null,
      "top": null,
      "visibility": null,
      "width": null
     }
    },
    "62f485c0bb4b494ba96980b9bb173db1": {
     "model_module": "@jupyter-widgets/base",
     "model_name": "LayoutModel",
     "state": {
      "_model_module": "@jupyter-widgets/base",
      "_model_module_version": "1.2.0",
      "_model_name": "LayoutModel",
      "_view_count": null,
      "_view_module": "@jupyter-widgets/base",
      "_view_module_version": "1.2.0",
      "_view_name": "LayoutView",
      "align_content": null,
      "align_items": null,
      "align_self": null,
      "border": null,
      "bottom": null,
      "display": null,
      "flex": null,
      "flex_flow": null,
      "grid_area": null,
      "grid_auto_columns": null,
      "grid_auto_flow": null,
      "grid_auto_rows": null,
      "grid_column": null,
      "grid_gap": null,
      "grid_row": null,
      "grid_template_areas": null,
      "grid_template_columns": null,
      "grid_template_rows": null,
      "height": null,
      "justify_content": null,
      "justify_items": null,
      "left": null,
      "margin": null,
      "max_height": null,
      "max_width": null,
      "min_height": null,
      "min_width": null,
      "object_fit": null,
      "object_position": null,
      "order": null,
      "overflow": null,
      "overflow_x": null,
      "overflow_y": null,
      "padding": null,
      "right": null,
      "top": null,
      "visibility": null,
      "width": null
     }
    },
    "64bbc6325f064f9086bea6eb4f2ea817": {
     "model_module": "@jupyter-widgets/base",
     "model_name": "LayoutModel",
     "state": {
      "_model_module": "@jupyter-widgets/base",
      "_model_module_version": "1.2.0",
      "_model_name": "LayoutModel",
      "_view_count": null,
      "_view_module": "@jupyter-widgets/base",
      "_view_module_version": "1.2.0",
      "_view_name": "LayoutView",
      "align_content": null,
      "align_items": null,
      "align_self": null,
      "border": null,
      "bottom": null,
      "display": null,
      "flex": null,
      "flex_flow": null,
      "grid_area": null,
      "grid_auto_columns": null,
      "grid_auto_flow": null,
      "grid_auto_rows": null,
      "grid_column": null,
      "grid_gap": null,
      "grid_row": null,
      "grid_template_areas": null,
      "grid_template_columns": null,
      "grid_template_rows": null,
      "height": null,
      "justify_content": null,
      "justify_items": null,
      "left": null,
      "margin": null,
      "max_height": null,
      "max_width": null,
      "min_height": null,
      "min_width": null,
      "object_fit": null,
      "object_position": null,
      "order": null,
      "overflow": null,
      "overflow_x": null,
      "overflow_y": null,
      "padding": null,
      "right": null,
      "top": null,
      "visibility": null,
      "width": null
     }
    },
    "6a1b4a4f44f148d3862b54da907d33ee": {
     "model_module": "@jupyter-widgets/controls",
     "model_name": "HTMLModel",
     "state": {
      "_dom_classes": [],
      "_model_module": "@jupyter-widgets/controls",
      "_model_module_version": "1.5.0",
      "_model_name": "HTMLModel",
      "_view_count": null,
      "_view_module": "@jupyter-widgets/controls",
      "_view_module_version": "1.5.0",
      "_view_name": "HTMLView",
      "description": "",
      "description_tooltip": null,
      "layout": "IPY_MODEL_acc35bcd1d8646dc9a125d0d500ddbae",
      "placeholder": "​",
      "style": "IPY_MODEL_fabbf699042f4bf894fccd648b0d88d2",
      "value": " 2211538/2211538 [01:35&lt;00:00, 23223.25it/s]"
     }
    },
    "6adbc610d96a4c52806c16e3ae913901": {
     "model_module": "@jupyter-widgets/controls",
     "model_name": "ProgressStyleModel",
     "state": {
      "_model_module": "@jupyter-widgets/controls",
      "_model_module_version": "1.5.0",
      "_model_name": "ProgressStyleModel",
      "_view_count": null,
      "_view_module": "@jupyter-widgets/base",
      "_view_module_version": "1.2.0",
      "_view_name": "StyleView",
      "bar_color": null,
      "description_width": "initial"
     }
    },
    "6f3dbc42d3914213ad335e8dd2add38c": {
     "model_module": "@jupyter-widgets/base",
     "model_name": "LayoutModel",
     "state": {
      "_model_module": "@jupyter-widgets/base",
      "_model_module_version": "1.2.0",
      "_model_name": "LayoutModel",
      "_view_count": null,
      "_view_module": "@jupyter-widgets/base",
      "_view_module_version": "1.2.0",
      "_view_name": "LayoutView",
      "align_content": null,
      "align_items": null,
      "align_self": null,
      "border": null,
      "bottom": null,
      "display": null,
      "flex": null,
      "flex_flow": null,
      "grid_area": null,
      "grid_auto_columns": null,
      "grid_auto_flow": null,
      "grid_auto_rows": null,
      "grid_column": null,
      "grid_gap": null,
      "grid_row": null,
      "grid_template_areas": null,
      "grid_template_columns": null,
      "grid_template_rows": null,
      "height": null,
      "justify_content": null,
      "justify_items": null,
      "left": null,
      "margin": null,
      "max_height": null,
      "max_width": null,
      "min_height": null,
      "min_width": null,
      "object_fit": null,
      "object_position": null,
      "order": null,
      "overflow": null,
      "overflow_x": null,
      "overflow_y": null,
      "padding": null,
      "right": null,
      "top": null,
      "visibility": null,
      "width": null
     }
    },
    "725fa24464c747d38bc8d7fc9d072139": {
     "model_module": "@jupyter-widgets/base",
     "model_name": "LayoutModel",
     "state": {
      "_model_module": "@jupyter-widgets/base",
      "_model_module_version": "1.2.0",
      "_model_name": "LayoutModel",
      "_view_count": null,
      "_view_module": "@jupyter-widgets/base",
      "_view_module_version": "1.2.0",
      "_view_name": "LayoutView",
      "align_content": null,
      "align_items": null,
      "align_self": null,
      "border": null,
      "bottom": null,
      "display": null,
      "flex": null,
      "flex_flow": null,
      "grid_area": null,
      "grid_auto_columns": null,
      "grid_auto_flow": null,
      "grid_auto_rows": null,
      "grid_column": null,
      "grid_gap": null,
      "grid_row": null,
      "grid_template_areas": null,
      "grid_template_columns": null,
      "grid_template_rows": null,
      "height": null,
      "justify_content": null,
      "justify_items": null,
      "left": null,
      "margin": null,
      "max_height": null,
      "max_width": null,
      "min_height": null,
      "min_width": null,
      "object_fit": null,
      "object_position": null,
      "order": null,
      "overflow": null,
      "overflow_x": null,
      "overflow_y": null,
      "padding": null,
      "right": null,
      "top": null,
      "visibility": null,
      "width": null
     }
    },
    "753ff5c08230449ebb11ee880d93e5c7": {
     "model_module": "@jupyter-widgets/controls",
     "model_name": "HBoxModel",
     "state": {
      "_dom_classes": [],
      "_model_module": "@jupyter-widgets/controls",
      "_model_module_version": "1.5.0",
      "_model_name": "HBoxModel",
      "_view_count": null,
      "_view_module": "@jupyter-widgets/controls",
      "_view_module_version": "1.5.0",
      "_view_name": "HBoxView",
      "box_style": "",
      "children": [
       "IPY_MODEL_62aaf6cc34774e3288a06f7ef0f5d38a",
       "IPY_MODEL_2bdd47b35021477da3a5bc69ddf7a30d"
      ],
      "layout": "IPY_MODEL_62c99a6e04dd4e27a507920beee90ce2"
     }
    },
    "781aeb0488274b38a5bc4ea5b9c889cb": {
     "model_module": "@jupyter-widgets/controls",
     "model_name": "HBoxModel",
     "state": {
      "_dom_classes": [],
      "_model_module": "@jupyter-widgets/controls",
      "_model_module_version": "1.5.0",
      "_model_name": "HBoxModel",
      "_view_count": null,
      "_view_module": "@jupyter-widgets/controls",
      "_view_module_version": "1.5.0",
      "_view_name": "HBoxView",
      "box_style": "",
      "children": [
       "IPY_MODEL_4ad2450abb194437bb57053c17103975",
       "IPY_MODEL_109fdc34afd04ca1bef32f655b9c14fa"
      ],
      "layout": "IPY_MODEL_62f485c0bb4b494ba96980b9bb173db1"
     }
    },
    "79f2dfa3ec584e0eaf636a254b46020b": {
     "model_module": "@jupyter-widgets/controls",
     "model_name": "DescriptionStyleModel",
     "state": {
      "_model_module": "@jupyter-widgets/controls",
      "_model_module_version": "1.5.0",
      "_model_name": "DescriptionStyleModel",
      "_view_count": null,
      "_view_module": "@jupyter-widgets/base",
      "_view_module_version": "1.2.0",
      "_view_name": "StyleView",
      "description_width": ""
     }
    },
    "7b17fbeaac9042498bfda2707762dcb7": {
     "model_module": "@jupyter-widgets/controls",
     "model_name": "FloatProgressModel",
     "state": {
      "_dom_classes": [],
      "_model_module": "@jupyter-widgets/controls",
      "_model_module_version": "1.5.0",
      "_model_name": "FloatProgressModel",
      "_view_count": null,
      "_view_module": "@jupyter-widgets/controls",
      "_view_module_version": "1.5.0",
      "_view_name": "ProgressView",
      "bar_style": "success",
      "description": "100%",
      "description_tooltip": null,
      "layout": "IPY_MODEL_41b3a2ff88e646d9a98d9efd2f4a27e4",
      "max": 29487,
      "min": 0,
      "orientation": "horizontal",
      "style": "IPY_MODEL_8e9681d2395840bb9e2ee082ca7e54b4",
      "value": 29487
     }
    },
    "8c5056827391447c9c03548d89e67276": {
     "model_module": "@jupyter-widgets/controls",
     "model_name": "FloatProgressModel",
     "state": {
      "_dom_classes": [],
      "_model_module": "@jupyter-widgets/controls",
      "_model_module_version": "1.5.0",
      "_model_name": "FloatProgressModel",
      "_view_count": null,
      "_view_module": "@jupyter-widgets/controls",
      "_view_module_version": "1.5.0",
      "_view_name": "ProgressView",
      "bar_style": "success",
      "description": "100%",
      "description_tooltip": null,
      "layout": "IPY_MODEL_bf12323c836846ff805445ed4561012e",
      "max": 28929,
      "min": 0,
      "orientation": "horizontal",
      "style": "IPY_MODEL_e550e646504e46a780c6bb6dec42f737",
      "value": 28929
     }
    },
    "8e9681d2395840bb9e2ee082ca7e54b4": {
     "model_module": "@jupyter-widgets/controls",
     "model_name": "ProgressStyleModel",
     "state": {
      "_model_module": "@jupyter-widgets/controls",
      "_model_module_version": "1.5.0",
      "_model_name": "ProgressStyleModel",
      "_view_count": null,
      "_view_module": "@jupyter-widgets/base",
      "_view_module_version": "1.2.0",
      "_view_name": "StyleView",
      "bar_color": null,
      "description_width": "initial"
     }
    },
    "8f1b8bf94cd8457eb2ea4d81acb7c0ab": {
     "model_module": "@jupyter-widgets/base",
     "model_name": "LayoutModel",
     "state": {
      "_model_module": "@jupyter-widgets/base",
      "_model_module_version": "1.2.0",
      "_model_name": "LayoutModel",
      "_view_count": null,
      "_view_module": "@jupyter-widgets/base",
      "_view_module_version": "1.2.0",
      "_view_name": "LayoutView",
      "align_content": null,
      "align_items": null,
      "align_self": null,
      "border": null,
      "bottom": null,
      "display": null,
      "flex": null,
      "flex_flow": null,
      "grid_area": null,
      "grid_auto_columns": null,
      "grid_auto_flow": null,
      "grid_auto_rows": null,
      "grid_column": null,
      "grid_gap": null,
      "grid_row": null,
      "grid_template_areas": null,
      "grid_template_columns": null,
      "grid_template_rows": null,
      "height": null,
      "justify_content": null,
      "justify_items": null,
      "left": null,
      "margin": null,
      "max_height": null,
      "max_width": null,
      "min_height": null,
      "min_width": null,
      "object_fit": null,
      "object_position": null,
      "order": null,
      "overflow": null,
      "overflow_x": null,
      "overflow_y": null,
      "padding": null,
      "right": null,
      "top": null,
      "visibility": null,
      "width": null
     }
    },
    "9e7e21805b4d4940adde139d36a9158d": {
     "model_module": "@jupyter-widgets/controls",
     "model_name": "HBoxModel",
     "state": {
      "_dom_classes": [],
      "_model_module": "@jupyter-widgets/controls",
      "_model_module_version": "1.5.0",
      "_model_name": "HBoxModel",
      "_view_count": null,
      "_view_module": "@jupyter-widgets/controls",
      "_view_module_version": "1.5.0",
      "_view_name": "HBoxView",
      "box_style": "",
      "children": [
       "IPY_MODEL_cdd20dc36c184c369f6a216efe4b8fee",
       "IPY_MODEL_0e6bf5de176a466d844cdd8c9198a43c"
      ],
      "layout": "IPY_MODEL_8f1b8bf94cd8457eb2ea4d81acb7c0ab"
     }
    },
    "a5b07cd680b64ba289b9ea1a72f8b4c6": {
     "model_module": "@jupyter-widgets/base",
     "model_name": "LayoutModel",
     "state": {
      "_model_module": "@jupyter-widgets/base",
      "_model_module_version": "1.2.0",
      "_model_name": "LayoutModel",
      "_view_count": null,
      "_view_module": "@jupyter-widgets/base",
      "_view_module_version": "1.2.0",
      "_view_name": "LayoutView",
      "align_content": null,
      "align_items": null,
      "align_self": null,
      "border": null,
      "bottom": null,
      "display": null,
      "flex": null,
      "flex_flow": null,
      "grid_area": null,
      "grid_auto_columns": null,
      "grid_auto_flow": null,
      "grid_auto_rows": null,
      "grid_column": null,
      "grid_gap": null,
      "grid_row": null,
      "grid_template_areas": null,
      "grid_template_columns": null,
      "grid_template_rows": null,
      "height": null,
      "justify_content": null,
      "justify_items": null,
      "left": null,
      "margin": null,
      "max_height": null,
      "max_width": null,
      "min_height": null,
      "min_width": null,
      "object_fit": null,
      "object_position": null,
      "order": null,
      "overflow": null,
      "overflow_x": null,
      "overflow_y": null,
      "padding": null,
      "right": null,
      "top": null,
      "visibility": null,
      "width": null
     }
    },
    "a69ea58b6db04f95af90965c1b57d034": {
     "model_module": "@jupyter-widgets/base",
     "model_name": "LayoutModel",
     "state": {
      "_model_module": "@jupyter-widgets/base",
      "_model_module_version": "1.2.0",
      "_model_name": "LayoutModel",
      "_view_count": null,
      "_view_module": "@jupyter-widgets/base",
      "_view_module_version": "1.2.0",
      "_view_name": "LayoutView",
      "align_content": null,
      "align_items": null,
      "align_self": null,
      "border": null,
      "bottom": null,
      "display": null,
      "flex": null,
      "flex_flow": null,
      "grid_area": null,
      "grid_auto_columns": null,
      "grid_auto_flow": null,
      "grid_auto_rows": null,
      "grid_column": null,
      "grid_gap": null,
      "grid_row": null,
      "grid_template_areas": null,
      "grid_template_columns": null,
      "grid_template_rows": null,
      "height": null,
      "justify_content": null,
      "justify_items": null,
      "left": null,
      "margin": null,
      "max_height": null,
      "max_width": null,
      "min_height": null,
      "min_width": null,
      "object_fit": null,
      "object_position": null,
      "order": null,
      "overflow": null,
      "overflow_x": null,
      "overflow_y": null,
      "padding": null,
      "right": null,
      "top": null,
      "visibility": null,
      "width": null
     }
    },
    "a807dd9325be438ba45f9a4d709eb7c6": {
     "model_module": "@jupyter-widgets/controls",
     "model_name": "ProgressStyleModel",
     "state": {
      "_model_module": "@jupyter-widgets/controls",
      "_model_module_version": "1.5.0",
      "_model_name": "ProgressStyleModel",
      "_view_count": null,
      "_view_module": "@jupyter-widgets/base",
      "_view_module_version": "1.2.0",
      "_view_name": "StyleView",
      "bar_color": null,
      "description_width": "initial"
     }
    },
    "aa1227de9fa6402eb1bb13a670d7e5f5": {
     "model_module": "@jupyter-widgets/base",
     "model_name": "LayoutModel",
     "state": {
      "_model_module": "@jupyter-widgets/base",
      "_model_module_version": "1.2.0",
      "_model_name": "LayoutModel",
      "_view_count": null,
      "_view_module": "@jupyter-widgets/base",
      "_view_module_version": "1.2.0",
      "_view_name": "LayoutView",
      "align_content": null,
      "align_items": null,
      "align_self": null,
      "border": null,
      "bottom": null,
      "display": null,
      "flex": null,
      "flex_flow": null,
      "grid_area": null,
      "grid_auto_columns": null,
      "grid_auto_flow": null,
      "grid_auto_rows": null,
      "grid_column": null,
      "grid_gap": null,
      "grid_row": null,
      "grid_template_areas": null,
      "grid_template_columns": null,
      "grid_template_rows": null,
      "height": null,
      "justify_content": null,
      "justify_items": null,
      "left": null,
      "margin": null,
      "max_height": null,
      "max_width": null,
      "min_height": null,
      "min_width": null,
      "object_fit": null,
      "object_position": null,
      "order": null,
      "overflow": null,
      "overflow_x": null,
      "overflow_y": null,
      "padding": null,
      "right": null,
      "top": null,
      "visibility": null,
      "width": null
     }
    },
    "acc35bcd1d8646dc9a125d0d500ddbae": {
     "model_module": "@jupyter-widgets/base",
     "model_name": "LayoutModel",
     "state": {
      "_model_module": "@jupyter-widgets/base",
      "_model_module_version": "1.2.0",
      "_model_name": "LayoutModel",
      "_view_count": null,
      "_view_module": "@jupyter-widgets/base",
      "_view_module_version": "1.2.0",
      "_view_name": "LayoutView",
      "align_content": null,
      "align_items": null,
      "align_self": null,
      "border": null,
      "bottom": null,
      "display": null,
      "flex": null,
      "flex_flow": null,
      "grid_area": null,
      "grid_auto_columns": null,
      "grid_auto_flow": null,
      "grid_auto_rows": null,
      "grid_column": null,
      "grid_gap": null,
      "grid_row": null,
      "grid_template_areas": null,
      "grid_template_columns": null,
      "grid_template_rows": null,
      "height": null,
      "justify_content": null,
      "justify_items": null,
      "left": null,
      "margin": null,
      "max_height": null,
      "max_width": null,
      "min_height": null,
      "min_width": null,
      "object_fit": null,
      "object_position": null,
      "order": null,
      "overflow": null,
      "overflow_x": null,
      "overflow_y": null,
      "padding": null,
      "right": null,
      "top": null,
      "visibility": null,
      "width": null
     }
    },
    "adb1e4afcfcb426aa9daf23678e2f549": {
     "model_module": "@jupyter-widgets/base",
     "model_name": "LayoutModel",
     "state": {
      "_model_module": "@jupyter-widgets/base",
      "_model_module_version": "1.2.0",
      "_model_name": "LayoutModel",
      "_view_count": null,
      "_view_module": "@jupyter-widgets/base",
      "_view_module_version": "1.2.0",
      "_view_name": "LayoutView",
      "align_content": null,
      "align_items": null,
      "align_self": null,
      "border": null,
      "bottom": null,
      "display": null,
      "flex": null,
      "flex_flow": null,
      "grid_area": null,
      "grid_auto_columns": null,
      "grid_auto_flow": null,
      "grid_auto_rows": null,
      "grid_column": null,
      "grid_gap": null,
      "grid_row": null,
      "grid_template_areas": null,
      "grid_template_columns": null,
      "grid_template_rows": null,
      "height": null,
      "justify_content": null,
      "justify_items": null,
      "left": null,
      "margin": null,
      "max_height": null,
      "max_width": null,
      "min_height": null,
      "min_width": null,
      "object_fit": null,
      "object_position": null,
      "order": null,
      "overflow": null,
      "overflow_x": null,
      "overflow_y": null,
      "padding": null,
      "right": null,
      "top": null,
      "visibility": null,
      "width": null
     }
    },
    "b1edaefb7c264abd9099822cb5e86e77": {
     "model_module": "@jupyter-widgets/base",
     "model_name": "LayoutModel",
     "state": {
      "_model_module": "@jupyter-widgets/base",
      "_model_module_version": "1.2.0",
      "_model_name": "LayoutModel",
      "_view_count": null,
      "_view_module": "@jupyter-widgets/base",
      "_view_module_version": "1.2.0",
      "_view_name": "LayoutView",
      "align_content": null,
      "align_items": null,
      "align_self": null,
      "border": null,
      "bottom": null,
      "display": null,
      "flex": null,
      "flex_flow": null,
      "grid_area": null,
      "grid_auto_columns": null,
      "grid_auto_flow": null,
      "grid_auto_rows": null,
      "grid_column": null,
      "grid_gap": null,
      "grid_row": null,
      "grid_template_areas": null,
      "grid_template_columns": null,
      "grid_template_rows": null,
      "height": null,
      "justify_content": null,
      "justify_items": null,
      "left": null,
      "margin": null,
      "max_height": null,
      "max_width": null,
      "min_height": null,
      "min_width": null,
      "object_fit": null,
      "object_position": null,
      "order": null,
      "overflow": null,
      "overflow_x": null,
      "overflow_y": null,
      "padding": null,
      "right": null,
      "top": null,
      "visibility": null,
      "width": null
     }
    },
    "baecb0ea05d548dd9ef5d5a53cca6739": {
     "model_module": "@jupyter-widgets/controls",
     "model_name": "HBoxModel",
     "state": {
      "_dom_classes": [],
      "_model_module": "@jupyter-widgets/controls",
      "_model_module_version": "1.5.0",
      "_model_name": "HBoxModel",
      "_view_count": null,
      "_view_module": "@jupyter-widgets/controls",
      "_view_module_version": "1.5.0",
      "_view_name": "HBoxView",
      "box_style": "",
      "children": [
       "IPY_MODEL_8c5056827391447c9c03548d89e67276",
       "IPY_MODEL_0377513013bc4d93a535c44b0fe9780f"
      ],
      "layout": "IPY_MODEL_725fa24464c747d38bc8d7fc9d072139"
     }
    },
    "bf12323c836846ff805445ed4561012e": {
     "model_module": "@jupyter-widgets/base",
     "model_name": "LayoutModel",
     "state": {
      "_model_module": "@jupyter-widgets/base",
      "_model_module_version": "1.2.0",
      "_model_name": "LayoutModel",
      "_view_count": null,
      "_view_module": "@jupyter-widgets/base",
      "_view_module_version": "1.2.0",
      "_view_name": "LayoutView",
      "align_content": null,
      "align_items": null,
      "align_self": null,
      "border": null,
      "bottom": null,
      "display": null,
      "flex": null,
      "flex_flow": null,
      "grid_area": null,
      "grid_auto_columns": null,
      "grid_auto_flow": null,
      "grid_auto_rows": null,
      "grid_column": null,
      "grid_gap": null,
      "grid_row": null,
      "grid_template_areas": null,
      "grid_template_columns": null,
      "grid_template_rows": null,
      "height": null,
      "justify_content": null,
      "justify_items": null,
      "left": null,
      "margin": null,
      "max_height": null,
      "max_width": null,
      "min_height": null,
      "min_width": null,
      "object_fit": null,
      "object_position": null,
      "order": null,
      "overflow": null,
      "overflow_x": null,
      "overflow_y": null,
      "padding": null,
      "right": null,
      "top": null,
      "visibility": null,
      "width": null
     }
    },
    "c3a60fcb4c3849dfade51a0e038cb0b1": {
     "model_module": "@jupyter-widgets/controls",
     "model_name": "DescriptionStyleModel",
     "state": {
      "_model_module": "@jupyter-widgets/controls",
      "_model_module_version": "1.5.0",
      "_model_name": "DescriptionStyleModel",
      "_view_count": null,
      "_view_module": "@jupyter-widgets/base",
      "_view_module_version": "1.2.0",
      "_view_name": "StyleView",
      "description_width": ""
     }
    },
    "c756ae3eb1584a7595a2391091d0a0b9": {
     "model_module": "@jupyter-widgets/controls",
     "model_name": "ProgressStyleModel",
     "state": {
      "_model_module": "@jupyter-widgets/controls",
      "_model_module_version": "1.5.0",
      "_model_name": "ProgressStyleModel",
      "_view_count": null,
      "_view_module": "@jupyter-widgets/base",
      "_view_module_version": "1.2.0",
      "_view_name": "StyleView",
      "bar_color": null,
      "description_width": "initial"
     }
    },
    "c966afeda8434e509103d0aab660d672": {
     "model_module": "@jupyter-widgets/controls",
     "model_name": "HBoxModel",
     "state": {
      "_dom_classes": [],
      "_model_module": "@jupyter-widgets/controls",
      "_model_module_version": "1.5.0",
      "_model_name": "HBoxModel",
      "_view_count": null,
      "_view_module": "@jupyter-widgets/controls",
      "_view_module_version": "1.5.0",
      "_view_name": "HBoxView",
      "box_style": "",
      "children": [
       "IPY_MODEL_cb5f6b6384cc4fa2ab341837f2e551ce",
       "IPY_MODEL_6a1b4a4f44f148d3862b54da907d33ee"
      ],
      "layout": "IPY_MODEL_11ad4fb6090e45b8ac07f9e4c83c86e1"
     }
    },
    "c9aa4df176544295a9f52f0594702f0f": {
     "model_module": "@jupyter-widgets/base",
     "model_name": "LayoutModel",
     "state": {
      "_model_module": "@jupyter-widgets/base",
      "_model_module_version": "1.2.0",
      "_model_name": "LayoutModel",
      "_view_count": null,
      "_view_module": "@jupyter-widgets/base",
      "_view_module_version": "1.2.0",
      "_view_name": "LayoutView",
      "align_content": null,
      "align_items": null,
      "align_self": null,
      "border": null,
      "bottom": null,
      "display": null,
      "flex": null,
      "flex_flow": null,
      "grid_area": null,
      "grid_auto_columns": null,
      "grid_auto_flow": null,
      "grid_auto_rows": null,
      "grid_column": null,
      "grid_gap": null,
      "grid_row": null,
      "grid_template_areas": null,
      "grid_template_columns": null,
      "grid_template_rows": null,
      "height": null,
      "justify_content": null,
      "justify_items": null,
      "left": null,
      "margin": null,
      "max_height": null,
      "max_width": null,
      "min_height": null,
      "min_width": null,
      "object_fit": null,
      "object_position": null,
      "order": null,
      "overflow": null,
      "overflow_x": null,
      "overflow_y": null,
      "padding": null,
      "right": null,
      "top": null,
      "visibility": null,
      "width": null
     }
    },
    "cb5f6b6384cc4fa2ab341837f2e551ce": {
     "model_module": "@jupyter-widgets/controls",
     "model_name": "FloatProgressModel",
     "state": {
      "_dom_classes": [],
      "_model_module": "@jupyter-widgets/controls",
      "_model_module_version": "1.5.0",
      "_model_name": "FloatProgressModel",
      "_view_count": null,
      "_view_module": "@jupyter-widgets/controls",
      "_view_module_version": "1.5.0",
      "_view_name": "ProgressView",
      "bar_style": "success",
      "description": "100%",
      "description_tooltip": null,
      "layout": "IPY_MODEL_a69ea58b6db04f95af90965c1b57d034",
      "max": 2211538,
      "min": 0,
      "orientation": "horizontal",
      "style": "IPY_MODEL_cd22a6fbfe14417198acfaf7dd6b9c8e",
      "value": 2211538
     }
    },
    "cd22a6fbfe14417198acfaf7dd6b9c8e": {
     "model_module": "@jupyter-widgets/controls",
     "model_name": "ProgressStyleModel",
     "state": {
      "_model_module": "@jupyter-widgets/controls",
      "_model_module_version": "1.5.0",
      "_model_name": "ProgressStyleModel",
      "_view_count": null,
      "_view_module": "@jupyter-widgets/base",
      "_view_module_version": "1.2.0",
      "_view_name": "StyleView",
      "bar_color": null,
      "description_width": "initial"
     }
    },
    "cdd20dc36c184c369f6a216efe4b8fee": {
     "model_module": "@jupyter-widgets/controls",
     "model_name": "FloatProgressModel",
     "state": {
      "_dom_classes": [],
      "_model_module": "@jupyter-widgets/controls",
      "_model_module_version": "1.5.0",
      "_model_name": "FloatProgressModel",
      "_view_count": null,
      "_view_module": "@jupyter-widgets/controls",
      "_view_module_version": "1.5.0",
      "_view_name": "ProgressView",
      "bar_style": "success",
      "description": "100%",
      "description_tooltip": null,
      "layout": "IPY_MODEL_64bbc6325f064f9086bea6eb4f2ea817",
      "max": 28929,
      "min": 0,
      "orientation": "horizontal",
      "style": "IPY_MODEL_a807dd9325be438ba45f9a4d709eb7c6",
      "value": 28929
     }
    },
    "d02cc7bb2b69461498b17e8f2d71e9c0": {
     "model_module": "@jupyter-widgets/base",
     "model_name": "LayoutModel",
     "state": {
      "_model_module": "@jupyter-widgets/base",
      "_model_module_version": "1.2.0",
      "_model_name": "LayoutModel",
      "_view_count": null,
      "_view_module": "@jupyter-widgets/base",
      "_view_module_version": "1.2.0",
      "_view_name": "LayoutView",
      "align_content": null,
      "align_items": null,
      "align_self": null,
      "border": null,
      "bottom": null,
      "display": null,
      "flex": null,
      "flex_flow": null,
      "grid_area": null,
      "grid_auto_columns": null,
      "grid_auto_flow": null,
      "grid_auto_rows": null,
      "grid_column": null,
      "grid_gap": null,
      "grid_row": null,
      "grid_template_areas": null,
      "grid_template_columns": null,
      "grid_template_rows": null,
      "height": null,
      "justify_content": null,
      "justify_items": null,
      "left": null,
      "margin": null,
      "max_height": null,
      "max_width": null,
      "min_height": null,
      "min_width": null,
      "object_fit": null,
      "object_position": null,
      "order": null,
      "overflow": null,
      "overflow_x": null,
      "overflow_y": null,
      "padding": null,
      "right": null,
      "top": null,
      "visibility": null,
      "width": null
     }
    },
    "d0fa2bfbba9e4ba8a7d1f943fb922ea8": {
     "model_module": "@jupyter-widgets/controls",
     "model_name": "HBoxModel",
     "state": {
      "_dom_classes": [],
      "_model_module": "@jupyter-widgets/controls",
      "_model_module_version": "1.5.0",
      "_model_name": "HBoxModel",
      "_view_count": null,
      "_view_module": "@jupyter-widgets/controls",
      "_view_module_version": "1.5.0",
      "_view_name": "HBoxView",
      "box_style": "",
      "children": [
       "IPY_MODEL_59f31d01fba94c239dc6362db6cc4b5d",
       "IPY_MODEL_07e02c6ce99744bf96e4a350f84dd837"
      ],
      "layout": "IPY_MODEL_3b64ebad7b16455f824b3016babba6e0"
     }
    },
    "d548bec6555d4ab6bf6ab7cacabb6b58": {
     "model_module": "@jupyter-widgets/base",
     "model_name": "LayoutModel",
     "state": {
      "_model_module": "@jupyter-widgets/base",
      "_model_module_version": "1.2.0",
      "_model_name": "LayoutModel",
      "_view_count": null,
      "_view_module": "@jupyter-widgets/base",
      "_view_module_version": "1.2.0",
      "_view_name": "LayoutView",
      "align_content": null,
      "align_items": null,
      "align_self": null,
      "border": null,
      "bottom": null,
      "display": null,
      "flex": null,
      "flex_flow": null,
      "grid_area": null,
      "grid_auto_columns": null,
      "grid_auto_flow": null,
      "grid_auto_rows": null,
      "grid_column": null,
      "grid_gap": null,
      "grid_row": null,
      "grid_template_areas": null,
      "grid_template_columns": null,
      "grid_template_rows": null,
      "height": null,
      "justify_content": null,
      "justify_items": null,
      "left": null,
      "margin": null,
      "max_height": null,
      "max_width": null,
      "min_height": null,
      "min_width": null,
      "object_fit": null,
      "object_position": null,
      "order": null,
      "overflow": null,
      "overflow_x": null,
      "overflow_y": null,
      "padding": null,
      "right": null,
      "top": null,
      "visibility": null,
      "width": null
     }
    },
    "d60ed7c9efff4e14b27efa39f7489a83": {
     "model_module": "@jupyter-widgets/controls",
     "model_name": "FloatProgressModel",
     "state": {
      "_dom_classes": [],
      "_model_module": "@jupyter-widgets/controls",
      "_model_module_version": "1.5.0",
      "_model_name": "FloatProgressModel",
      "_view_count": null,
      "_view_module": "@jupyter-widgets/controls",
      "_view_module_version": "1.5.0",
      "_view_name": "ProgressView",
      "bar_style": "success",
      "description": "100%",
      "description_tooltip": null,
      "layout": "IPY_MODEL_0c5e562fd1e54ede9fa43415f1ee69c9",
      "max": 28929,
      "min": 0,
      "orientation": "horizontal",
      "style": "IPY_MODEL_c756ae3eb1584a7595a2391091d0a0b9",
      "value": 28929
     }
    },
    "d7d96f4bf1c44eaea2496a87b8a7f4d2": {
     "model_module": "@jupyter-widgets/controls",
     "model_name": "FloatProgressModel",
     "state": {
      "_dom_classes": [],
      "_model_module": "@jupyter-widgets/controls",
      "_model_module_version": "1.5.0",
      "_model_name": "FloatProgressModel",
      "_view_count": null,
      "_view_module": "@jupyter-widgets/controls",
      "_view_module_version": "1.5.0",
      "_view_name": "ProgressView",
      "bar_style": "success",
      "description": "100%",
      "description_tooltip": null,
      "layout": "IPY_MODEL_01c0048c1bc4499a82de2f0e46480796",
      "max": 29487,
      "min": 0,
      "orientation": "horizontal",
      "style": "IPY_MODEL_19a702b27f6646e7a017fa50786c8574",
      "value": 29487
     }
    },
    "da3df7a588ca44afb24c65d09260648b": {
     "model_module": "@jupyter-widgets/base",
     "model_name": "LayoutModel",
     "state": {
      "_model_module": "@jupyter-widgets/base",
      "_model_module_version": "1.2.0",
      "_model_name": "LayoutModel",
      "_view_count": null,
      "_view_module": "@jupyter-widgets/base",
      "_view_module_version": "1.2.0",
      "_view_name": "LayoutView",
      "align_content": null,
      "align_items": null,
      "align_self": null,
      "border": null,
      "bottom": null,
      "display": null,
      "flex": null,
      "flex_flow": null,
      "grid_area": null,
      "grid_auto_columns": null,
      "grid_auto_flow": null,
      "grid_auto_rows": null,
      "grid_column": null,
      "grid_gap": null,
      "grid_row": null,
      "grid_template_areas": null,
      "grid_template_columns": null,
      "grid_template_rows": null,
      "height": null,
      "justify_content": null,
      "justify_items": null,
      "left": null,
      "margin": null,
      "max_height": null,
      "max_width": null,
      "min_height": null,
      "min_width": null,
      "object_fit": null,
      "object_position": null,
      "order": null,
      "overflow": null,
      "overflow_x": null,
      "overflow_y": null,
      "padding": null,
      "right": null,
      "top": null,
      "visibility": null,
      "width": null
     }
    },
    "dbc5bf71904b45ae9650a792780abf77": {
     "model_module": "@jupyter-widgets/base",
     "model_name": "LayoutModel",
     "state": {
      "_model_module": "@jupyter-widgets/base",
      "_model_module_version": "1.2.0",
      "_model_name": "LayoutModel",
      "_view_count": null,
      "_view_module": "@jupyter-widgets/base",
      "_view_module_version": "1.2.0",
      "_view_name": "LayoutView",
      "align_content": null,
      "align_items": null,
      "align_self": null,
      "border": null,
      "bottom": null,
      "display": null,
      "flex": null,
      "flex_flow": null,
      "grid_area": null,
      "grid_auto_columns": null,
      "grid_auto_flow": null,
      "grid_auto_rows": null,
      "grid_column": null,
      "grid_gap": null,
      "grid_row": null,
      "grid_template_areas": null,
      "grid_template_columns": null,
      "grid_template_rows": null,
      "height": null,
      "justify_content": null,
      "justify_items": null,
      "left": null,
      "margin": null,
      "max_height": null,
      "max_width": null,
      "min_height": null,
      "min_width": null,
      "object_fit": null,
      "object_position": null,
      "order": null,
      "overflow": null,
      "overflow_x": null,
      "overflow_y": null,
      "padding": null,
      "right": null,
      "top": null,
      "visibility": null,
      "width": null
     }
    },
    "e550e646504e46a780c6bb6dec42f737": {
     "model_module": "@jupyter-widgets/controls",
     "model_name": "ProgressStyleModel",
     "state": {
      "_model_module": "@jupyter-widgets/controls",
      "_model_module_version": "1.5.0",
      "_model_name": "ProgressStyleModel",
      "_view_count": null,
      "_view_module": "@jupyter-widgets/base",
      "_view_module_version": "1.2.0",
      "_view_name": "StyleView",
      "bar_color": null,
      "description_width": "initial"
     }
    },
    "e9daaf562cef47ada05d82dac869b128": {
     "model_module": "@jupyter-widgets/controls",
     "model_name": "DescriptionStyleModel",
     "state": {
      "_model_module": "@jupyter-widgets/controls",
      "_model_module_version": "1.5.0",
      "_model_name": "DescriptionStyleModel",
      "_view_count": null,
      "_view_module": "@jupyter-widgets/base",
      "_view_module_version": "1.2.0",
      "_view_name": "StyleView",
      "description_width": ""
     }
    },
    "f3ae6c01079a45469c6c4fbe77cb98b0": {
     "model_module": "@jupyter-widgets/controls",
     "model_name": "DescriptionStyleModel",
     "state": {
      "_model_module": "@jupyter-widgets/controls",
      "_model_module_version": "1.5.0",
      "_model_name": "DescriptionStyleModel",
      "_view_count": null,
      "_view_module": "@jupyter-widgets/base",
      "_view_module_version": "1.2.0",
      "_view_name": "StyleView",
      "description_width": ""
     }
    },
    "fabbf699042f4bf894fccd648b0d88d2": {
     "model_module": "@jupyter-widgets/controls",
     "model_name": "DescriptionStyleModel",
     "state": {
      "_model_module": "@jupyter-widgets/controls",
      "_model_module_version": "1.5.0",
      "_model_name": "DescriptionStyleModel",
      "_view_count": null,
      "_view_module": "@jupyter-widgets/base",
      "_view_module_version": "1.2.0",
      "_view_name": "StyleView",
      "description_width": ""
     }
    },
    "fcb7b2c483db4bf8a350c17b1bc6add3": {
     "model_module": "@jupyter-widgets/controls",
     "model_name": "HBoxModel",
     "state": {
      "_dom_classes": [],
      "_model_module": "@jupyter-widgets/controls",
      "_model_module_version": "1.5.0",
      "_model_name": "HBoxModel",
      "_view_count": null,
      "_view_module": "@jupyter-widgets/controls",
      "_view_module_version": "1.5.0",
      "_view_name": "HBoxView",
      "box_style": "",
      "children": [
       "IPY_MODEL_7b17fbeaac9042498bfda2707762dcb7",
       "IPY_MODEL_58330e2dfa4a4f9aa77ebeb0ddaafcb0"
      ],
      "layout": "IPY_MODEL_a5b07cd680b64ba289b9ea1a72f8b4c6"
     }
    },
    "ff16e38ec34c4c469b65e76d27f07c8a": {
     "model_module": "@jupyter-widgets/controls",
     "model_name": "DescriptionStyleModel",
     "state": {
      "_model_module": "@jupyter-widgets/controls",
      "_model_module_version": "1.5.0",
      "_model_name": "DescriptionStyleModel",
      "_view_count": null,
      "_view_module": "@jupyter-widgets/base",
      "_view_module_version": "1.2.0",
      "_view_name": "StyleView",
      "description_width": ""
     }
    }
   }
  }
 },
 "nbformat": 4,
 "nbformat_minor": 1
}
